{
  "nbformat": 4,
  "nbformat_minor": 0,
  "metadata": {
    "kernelspec": {
      "display_name": "Python 3",
      "language": "python",
      "name": "python3"
    },
    "colab": {
      "name": "Topic modelling.ipynb",
      "provenance": [],
      "collapsed_sections": [
        "dP7fRb62pdF-",
        "qkhALlMZpdHO",
        "Kc5uQpNGpdHY"
      ],
      "include_colab_link": true
    }
  },
  "cells": [
    {
      "cell_type": "markdown",
      "metadata": {
        "id": "view-in-github",
        "colab_type": "text"
      },
      "source": [
        "<a href=\"https://colab.research.google.com/github/DanielaOrovw/Topic-modelling/blob/master/Topic_modelling.ipynb\" target=\"_parent\"><img src=\"https://colab.research.google.com/assets/colab-badge.svg\" alt=\"Open In Colab\"/></a>"
      ]
    },
    {
      "cell_type": "markdown",
      "metadata": {
        "id": "xm-nGJlmpdCX",
        "colab_type": "text"
      },
      "source": [
        "# **Topic Modelling: Natural Language Processing**"
      ]
    },
    {
      "cell_type": "markdown",
      "metadata": {
        "id": "_CUjYHBDpdCl",
        "colab_type": "text"
      },
      "source": [
        "\n",
        "### TOPIC MODEL\n",
        "\n",
        "This is a type of statistical model for discovering the abstract \"topics\" that occur in a collection of documents. A document typically concerns multiple topics in different proportions; thus, in a document that is 10% about cats and 90% about dogs, there would probably be about 9 times more dog words than cat words. The \"topics\" produced by topic modeling techniques are clusters of similar words. A topic model captures this intuition in a mathematical framework, which allows examining a set of documents and discovering, based on the statistics of the words in each, what the topics might be and what each document's balance of topics is."
      ]
    },
    {
      "cell_type": "markdown",
      "metadata": {
        "id": "CzzYbZd5pdCq",
        "colab_type": "text"
      },
      "source": [
        "Import the needed packages"
      ]
    },
    {
      "cell_type": "code",
      "metadata": {
        "id": "MlShHZS0pdCw",
        "colab_type": "code",
        "outputId": "8827bf0e-26d4-4c0a-ed6b-ccf72bae4cb2",
        "colab": {}
      },
      "source": [
        "import pandas as pd\n",
        "from sklearn.feature_extraction.text import TfidfVectorizer\n",
        "from sklearn.feature_extraction import text\n",
        "from sklearn.decomposition import NMF\n",
        "import numpy as np\n",
        "import pickle \n",
        "import warnings  \n",
        "warnings.filterwarnings(\"ignore\", category=DeprecationWarning)\n",
        "warnings.filterwarnings('ignore')\n",
        "import matplotlib.pyplot as plt\n",
        "%matplotlib inline\n",
        "\n",
        "import nltk \n",
        "# from nltk.corpus import stopwords\n",
        "from nltk import word_tokenize, pos_tag\n",
        "# from nltk.stem import PorterStemmer\n",
        "nltk.download('averaged_perceptron_tagger')\n",
        "nltk.download('wordnet')\n",
        "\n",
        "import json\n",
        "import re\n",
        "import numpy as np\n",
        "import pandas as pd\n",
        "from pprint import pprint\n",
        "\n",
        "# Gensim\n",
        "import gensim\n",
        "import gensim.corpora as corpora\n",
        "from gensim.utils import simple_preprocess\n",
        "from gensim.models import CoherenceModel\n",
        "\n",
        "# spacy for lemmatization\n",
        "import spacy\n",
        "\n",
        "# Plotting tools\n",
        "import pyLDAvis\n",
        "import pyLDAvis.gensim  # don't skip this\n",
        "import matplotlib.pyplot as plt\n",
        "\n",
        "from IPython.display import display\n",
        "from tqdm import tqdm\n",
        "from collections import Counter\n",
        "import ast\n",
        "\n",
        "import matplotlib.mlab as mlab\n",
        "import seaborn as sb\n",
        "\n",
        "from sklearn.feature_extraction.text import CountVectorizer\n",
        "from textblob import TextBlob\n",
        "import scipy.stats as stats\n",
        "\n",
        "from sklearn.decomposition import TruncatedSVD\n",
        "from sklearn.decomposition import LatentDirichletAllocation\n",
        "from sklearn.manifold import TSNE\n",
        "\n",
        "from bokeh.plotting import figure, output_file, show\n",
        "from bokeh.models import Label\n",
        "from bokeh.io import output_notebook\n",
        "output_notebook()\n",
        "# Run in python console\n",
        "import nltk; nltk.download('stopwords')\n",
        "%matplotlib inline\n",
        "\n",
        "\n",
        "# Enable logging for gensim - optional\n",
        "import logging\n",
        "logging.basicConfig(format='%(asctime)s : %(levelname)s : %(message)s', level=logging.ERROR)\n",
        "\n",
        "\n",
        "import warnings\n",
        "warnings.filterwarnings(\"ignore\",category=DeprecationWarning)"
      ],
      "execution_count": 0,
      "outputs": [
        {
          "output_type": "stream",
          "text": [
            "[nltk_data] Downloading package averaged_perceptron_tagger to\n",
            "[nltk_data]     C:\\Users\\Daniela\n",
            "[nltk_data]     Orovwiroro\\AppData\\Roaming\\nltk_data...\n",
            "[nltk_data]   Package averaged_perceptron_tagger is already up-to-\n",
            "[nltk_data]       date!\n",
            "[nltk_data] Downloading package wordnet to C:\\Users\\Daniela\n",
            "[nltk_data]     Orovwiroro\\AppData\\Roaming\\nltk_data...\n",
            "[nltk_data]   Package wordnet is already up-to-date!\n"
          ],
          "name": "stderr"
        },
        {
          "output_type": "display_data",
          "data": {
            "text/html": [
              "\n",
              "    <div class=\"bk-root\">\n",
              "        <a href=\"https://bokeh.pydata.org\" target=\"_blank\" class=\"bk-logo bk-logo-small bk-logo-notebook\"></a>\n",
              "        <span id=\"1001\">Loading BokehJS ...</span>\n",
              "    </div>"
            ]
          },
          "metadata": {
            "tags": []
          }
        },
        {
          "output_type": "display_data",
          "data": {
            "application/javascript": [
              "\n",
              "(function(root) {\n",
              "  function now() {\n",
              "    return new Date();\n",
              "  }\n",
              "\n",
              "  var force = true;\n",
              "\n",
              "  if (typeof root._bokeh_onload_callbacks === \"undefined\" || force === true) {\n",
              "    root._bokeh_onload_callbacks = [];\n",
              "    root._bokeh_is_loading = undefined;\n",
              "  }\n",
              "\n",
              "  var JS_MIME_TYPE = 'application/javascript';\n",
              "  var HTML_MIME_TYPE = 'text/html';\n",
              "  var EXEC_MIME_TYPE = 'application/vnd.bokehjs_exec.v0+json';\n",
              "  var CLASS_NAME = 'output_bokeh rendered_html';\n",
              "\n",
              "  /**\n",
              "   * Render data to the DOM node\n",
              "   */\n",
              "  function render(props, node) {\n",
              "    var script = document.createElement(\"script\");\n",
              "    node.appendChild(script);\n",
              "  }\n",
              "\n",
              "  /**\n",
              "   * Handle when an output is cleared or removed\n",
              "   */\n",
              "  function handleClearOutput(event, handle) {\n",
              "    var cell = handle.cell;\n",
              "\n",
              "    var id = cell.output_area._bokeh_element_id;\n",
              "    var server_id = cell.output_area._bokeh_server_id;\n",
              "    // Clean up Bokeh references\n",
              "    if (id != null && id in Bokeh.index) {\n",
              "      Bokeh.index[id].model.document.clear();\n",
              "      delete Bokeh.index[id];\n",
              "    }\n",
              "\n",
              "    if (server_id !== undefined) {\n",
              "      // Clean up Bokeh references\n",
              "      var cmd = \"from bokeh.io.state import curstate; print(curstate().uuid_to_server['\" + server_id + \"'].get_sessions()[0].document.roots[0]._id)\";\n",
              "      cell.notebook.kernel.execute(cmd, {\n",
              "        iopub: {\n",
              "          output: function(msg) {\n",
              "            var id = msg.content.text.trim();\n",
              "            if (id in Bokeh.index) {\n",
              "              Bokeh.index[id].model.document.clear();\n",
              "              delete Bokeh.index[id];\n",
              "            }\n",
              "          }\n",
              "        }\n",
              "      });\n",
              "      // Destroy server and session\n",
              "      var cmd = \"import bokeh.io.notebook as ion; ion.destroy_server('\" + server_id + \"')\";\n",
              "      cell.notebook.kernel.execute(cmd);\n",
              "    }\n",
              "  }\n",
              "\n",
              "  /**\n",
              "   * Handle when a new output is added\n",
              "   */\n",
              "  function handleAddOutput(event, handle) {\n",
              "    var output_area = handle.output_area;\n",
              "    var output = handle.output;\n",
              "\n",
              "    // limit handleAddOutput to display_data with EXEC_MIME_TYPE content only\n",
              "    if ((output.output_type != \"display_data\") || (!output.data.hasOwnProperty(EXEC_MIME_TYPE))) {\n",
              "      return\n",
              "    }\n",
              "\n",
              "    var toinsert = output_area.element.find(\".\" + CLASS_NAME.split(' ')[0]);\n",
              "\n",
              "    if (output.metadata[EXEC_MIME_TYPE][\"id\"] !== undefined) {\n",
              "      toinsert[toinsert.length - 1].firstChild.textContent = output.data[JS_MIME_TYPE];\n",
              "      // store reference to embed id on output_area\n",
              "      output_area._bokeh_element_id = output.metadata[EXEC_MIME_TYPE][\"id\"];\n",
              "    }\n",
              "    if (output.metadata[EXEC_MIME_TYPE][\"server_id\"] !== undefined) {\n",
              "      var bk_div = document.createElement(\"div\");\n",
              "      bk_div.innerHTML = output.data[HTML_MIME_TYPE];\n",
              "      var script_attrs = bk_div.children[0].attributes;\n",
              "      for (var i = 0; i < script_attrs.length; i++) {\n",
              "        toinsert[toinsert.length - 1].firstChild.setAttribute(script_attrs[i].name, script_attrs[i].value);\n",
              "      }\n",
              "      // store reference to server id on output_area\n",
              "      output_area._bokeh_server_id = output.metadata[EXEC_MIME_TYPE][\"server_id\"];\n",
              "    }\n",
              "  }\n",
              "\n",
              "  function register_renderer(events, OutputArea) {\n",
              "\n",
              "    function append_mime(data, metadata, element) {\n",
              "      // create a DOM node to render to\n",
              "      var toinsert = this.create_output_subarea(\n",
              "        metadata,\n",
              "        CLASS_NAME,\n",
              "        EXEC_MIME_TYPE\n",
              "      );\n",
              "      this.keyboard_manager.register_events(toinsert);\n",
              "      // Render to node\n",
              "      var props = {data: data, metadata: metadata[EXEC_MIME_TYPE]};\n",
              "      render(props, toinsert[toinsert.length - 1]);\n",
              "      element.append(toinsert);\n",
              "      return toinsert\n",
              "    }\n",
              "\n",
              "    /* Handle when an output is cleared or removed */\n",
              "    events.on('clear_output.CodeCell', handleClearOutput);\n",
              "    events.on('delete.Cell', handleClearOutput);\n",
              "\n",
              "    /* Handle when a new output is added */\n",
              "    events.on('output_added.OutputArea', handleAddOutput);\n",
              "\n",
              "    /**\n",
              "     * Register the mime type and append_mime function with output_area\n",
              "     */\n",
              "    OutputArea.prototype.register_mime_type(EXEC_MIME_TYPE, append_mime, {\n",
              "      /* Is output safe? */\n",
              "      safe: true,\n",
              "      /* Index of renderer in `output_area.display_order` */\n",
              "      index: 0\n",
              "    });\n",
              "  }\n",
              "\n",
              "  // register the mime type if in Jupyter Notebook environment and previously unregistered\n",
              "  if (root.Jupyter !== undefined) {\n",
              "    var events = require('base/js/events');\n",
              "    var OutputArea = require('notebook/js/outputarea').OutputArea;\n",
              "\n",
              "    if (OutputArea.prototype.mime_types().indexOf(EXEC_MIME_TYPE) == -1) {\n",
              "      register_renderer(events, OutputArea);\n",
              "    }\n",
              "  }\n",
              "\n",
              "  \n",
              "  if (typeof (root._bokeh_timeout) === \"undefined\" || force === true) {\n",
              "    root._bokeh_timeout = Date.now() + 5000;\n",
              "    root._bokeh_failed_load = false;\n",
              "  }\n",
              "\n",
              "  var NB_LOAD_WARNING = {'data': {'text/html':\n",
              "     \"<div style='background-color: #fdd'>\\n\"+\n",
              "     \"<p>\\n\"+\n",
              "     \"BokehJS does not appear to have successfully loaded. If loading BokehJS from CDN, this \\n\"+\n",
              "     \"may be due to a slow or bad network connection. Possible fixes:\\n\"+\n",
              "     \"</p>\\n\"+\n",
              "     \"<ul>\\n\"+\n",
              "     \"<li>re-rerun `output_notebook()` to attempt to load from CDN again, or</li>\\n\"+\n",
              "     \"<li>use INLINE resources instead, as so:</li>\\n\"+\n",
              "     \"</ul>\\n\"+\n",
              "     \"<code>\\n\"+\n",
              "     \"from bokeh.resources import INLINE\\n\"+\n",
              "     \"output_notebook(resources=INLINE)\\n\"+\n",
              "     \"</code>\\n\"+\n",
              "     \"</div>\"}};\n",
              "\n",
              "  function display_loaded() {\n",
              "    var el = document.getElementById(\"1001\");\n",
              "    if (el != null) {\n",
              "      el.textContent = \"BokehJS is loading...\";\n",
              "    }\n",
              "    if (root.Bokeh !== undefined) {\n",
              "      if (el != null) {\n",
              "        el.textContent = \"BokehJS \" + root.Bokeh.version + \" successfully loaded.\";\n",
              "      }\n",
              "    } else if (Date.now() < root._bokeh_timeout) {\n",
              "      setTimeout(display_loaded, 100)\n",
              "    }\n",
              "  }\n",
              "\n",
              "\n",
              "  function run_callbacks() {\n",
              "    try {\n",
              "      root._bokeh_onload_callbacks.forEach(function(callback) {\n",
              "        if (callback != null)\n",
              "          callback();\n",
              "      });\n",
              "    } finally {\n",
              "      delete root._bokeh_onload_callbacks\n",
              "    }\n",
              "    console.debug(\"Bokeh: all callbacks have finished\");\n",
              "  }\n",
              "\n",
              "  function load_libs(css_urls, js_urls, callback) {\n",
              "    if (css_urls == null) css_urls = [];\n",
              "    if (js_urls == null) js_urls = [];\n",
              "\n",
              "    root._bokeh_onload_callbacks.push(callback);\n",
              "    if (root._bokeh_is_loading > 0) {\n",
              "      console.debug(\"Bokeh: BokehJS is being loaded, scheduling callback at\", now());\n",
              "      return null;\n",
              "    }\n",
              "    if (js_urls == null || js_urls.length === 0) {\n",
              "      run_callbacks();\n",
              "      return null;\n",
              "    }\n",
              "    console.debug(\"Bokeh: BokehJS not loaded, scheduling load and callback at\", now());\n",
              "    root._bokeh_is_loading = css_urls.length + js_urls.length;\n",
              "\n",
              "    function on_load() {\n",
              "      root._bokeh_is_loading--;\n",
              "      if (root._bokeh_is_loading === 0) {\n",
              "        console.debug(\"Bokeh: all BokehJS libraries/stylesheets loaded\");\n",
              "        run_callbacks()\n",
              "      }\n",
              "    }\n",
              "\n",
              "    function on_error() {\n",
              "      console.error(\"failed to load \" + url);\n",
              "    }\n",
              "\n",
              "    for (var i = 0; i < css_urls.length; i++) {\n",
              "      var url = css_urls[i];\n",
              "      const element = document.createElement(\"link\");\n",
              "      element.onload = on_load;\n",
              "      element.onerror = on_error;\n",
              "      element.rel = \"stylesheet\";\n",
              "      element.type = \"text/css\";\n",
              "      element.href = url;\n",
              "      console.debug(\"Bokeh: injecting link tag for BokehJS stylesheet: \", url);\n",
              "      document.body.appendChild(element);\n",
              "    }\n",
              "\n",
              "    for (var i = 0; i < js_urls.length; i++) {\n",
              "      var url = js_urls[i];\n",
              "      var element = document.createElement('script');\n",
              "      element.onload = on_load;\n",
              "      element.onerror = on_error;\n",
              "      element.async = false;\n",
              "      element.src = url;\n",
              "      console.debug(\"Bokeh: injecting script tag for BokehJS library: \", url);\n",
              "      document.head.appendChild(element);\n",
              "    }\n",
              "  };var element = document.getElementById(\"1001\");\n",
              "  if (element == null) {\n",
              "    console.error(\"Bokeh: ERROR: autoload.js configured with elementid '1001' but no matching script tag was found. \")\n",
              "    return false;\n",
              "  }\n",
              "\n",
              "  function inject_raw_css(css) {\n",
              "    const element = document.createElement(\"style\");\n",
              "    element.appendChild(document.createTextNode(css));\n",
              "    document.body.appendChild(element);\n",
              "  }\n",
              "\n",
              "  var js_urls = [\"https://cdn.pydata.org/bokeh/release/bokeh-1.3.4.min.js\", \"https://cdn.pydata.org/bokeh/release/bokeh-widgets-1.3.4.min.js\", \"https://cdn.pydata.org/bokeh/release/bokeh-tables-1.3.4.min.js\", \"https://cdn.pydata.org/bokeh/release/bokeh-gl-1.3.4.min.js\"];\n",
              "  var css_urls = [];\n",
              "\n",
              "  var inline_js = [\n",
              "    function(Bokeh) {\n",
              "      Bokeh.set_log_level(\"info\");\n",
              "    },\n",
              "    \n",
              "    function(Bokeh) {\n",
              "      \n",
              "    },\n",
              "    function(Bokeh) {} // ensure no trailing comma for IE\n",
              "  ];\n",
              "\n",
              "  function run_inline_js() {\n",
              "    \n",
              "    if ((root.Bokeh !== undefined) || (force === true)) {\n",
              "      for (var i = 0; i < inline_js.length; i++) {\n",
              "        inline_js[i].call(root, root.Bokeh);\n",
              "      }if (force === true) {\n",
              "        display_loaded();\n",
              "      }} else if (Date.now() < root._bokeh_timeout) {\n",
              "      setTimeout(run_inline_js, 100);\n",
              "    } else if (!root._bokeh_failed_load) {\n",
              "      console.log(\"Bokeh: BokehJS failed to load within specified timeout.\");\n",
              "      root._bokeh_failed_load = true;\n",
              "    } else if (force !== true) {\n",
              "      var cell = $(document.getElementById(\"1001\")).parents('.cell').data().cell;\n",
              "      cell.output_area.append_execute_result(NB_LOAD_WARNING)\n",
              "    }\n",
              "\n",
              "  }\n",
              "\n",
              "  if (root._bokeh_is_loading === 0) {\n",
              "    console.debug(\"Bokeh: BokehJS loaded, going straight to plotting\");\n",
              "    run_inline_js();\n",
              "  } else {\n",
              "    load_libs(css_urls, js_urls, function() {\n",
              "      console.debug(\"Bokeh: BokehJS plotting callback run at\", now());\n",
              "      run_inline_js();\n",
              "    });\n",
              "  }\n",
              "}(window));"
            ],
            "application/vnd.bokehjs_load.v0+json": "\n(function(root) {\n  function now() {\n    return new Date();\n  }\n\n  var force = true;\n\n  if (typeof root._bokeh_onload_callbacks === \"undefined\" || force === true) {\n    root._bokeh_onload_callbacks = [];\n    root._bokeh_is_loading = undefined;\n  }\n\n  \n\n  \n  if (typeof (root._bokeh_timeout) === \"undefined\" || force === true) {\n    root._bokeh_timeout = Date.now() + 5000;\n    root._bokeh_failed_load = false;\n  }\n\n  var NB_LOAD_WARNING = {'data': {'text/html':\n     \"<div style='background-color: #fdd'>\\n\"+\n     \"<p>\\n\"+\n     \"BokehJS does not appear to have successfully loaded. If loading BokehJS from CDN, this \\n\"+\n     \"may be due to a slow or bad network connection. Possible fixes:\\n\"+\n     \"</p>\\n\"+\n     \"<ul>\\n\"+\n     \"<li>re-rerun `output_notebook()` to attempt to load from CDN again, or</li>\\n\"+\n     \"<li>use INLINE resources instead, as so:</li>\\n\"+\n     \"</ul>\\n\"+\n     \"<code>\\n\"+\n     \"from bokeh.resources import INLINE\\n\"+\n     \"output_notebook(resources=INLINE)\\n\"+\n     \"</code>\\n\"+\n     \"</div>\"}};\n\n  function display_loaded() {\n    var el = document.getElementById(\"1001\");\n    if (el != null) {\n      el.textContent = \"BokehJS is loading...\";\n    }\n    if (root.Bokeh !== undefined) {\n      if (el != null) {\n        el.textContent = \"BokehJS \" + root.Bokeh.version + \" successfully loaded.\";\n      }\n    } else if (Date.now() < root._bokeh_timeout) {\n      setTimeout(display_loaded, 100)\n    }\n  }\n\n\n  function run_callbacks() {\n    try {\n      root._bokeh_onload_callbacks.forEach(function(callback) {\n        if (callback != null)\n          callback();\n      });\n    } finally {\n      delete root._bokeh_onload_callbacks\n    }\n    console.debug(\"Bokeh: all callbacks have finished\");\n  }\n\n  function load_libs(css_urls, js_urls, callback) {\n    if (css_urls == null) css_urls = [];\n    if (js_urls == null) js_urls = [];\n\n    root._bokeh_onload_callbacks.push(callback);\n    if (root._bokeh_is_loading > 0) {\n      console.debug(\"Bokeh: BokehJS is being loaded, scheduling callback at\", now());\n      return null;\n    }\n    if (js_urls == null || js_urls.length === 0) {\n      run_callbacks();\n      return null;\n    }\n    console.debug(\"Bokeh: BokehJS not loaded, scheduling load and callback at\", now());\n    root._bokeh_is_loading = css_urls.length + js_urls.length;\n\n    function on_load() {\n      root._bokeh_is_loading--;\n      if (root._bokeh_is_loading === 0) {\n        console.debug(\"Bokeh: all BokehJS libraries/stylesheets loaded\");\n        run_callbacks()\n      }\n    }\n\n    function on_error() {\n      console.error(\"failed to load \" + url);\n    }\n\n    for (var i = 0; i < css_urls.length; i++) {\n      var url = css_urls[i];\n      const element = document.createElement(\"link\");\n      element.onload = on_load;\n      element.onerror = on_error;\n      element.rel = \"stylesheet\";\n      element.type = \"text/css\";\n      element.href = url;\n      console.debug(\"Bokeh: injecting link tag for BokehJS stylesheet: \", url);\n      document.body.appendChild(element);\n    }\n\n    for (var i = 0; i < js_urls.length; i++) {\n      var url = js_urls[i];\n      var element = document.createElement('script');\n      element.onload = on_load;\n      element.onerror = on_error;\n      element.async = false;\n      element.src = url;\n      console.debug(\"Bokeh: injecting script tag for BokehJS library: \", url);\n      document.head.appendChild(element);\n    }\n  };var element = document.getElementById(\"1001\");\n  if (element == null) {\n    console.error(\"Bokeh: ERROR: autoload.js configured with elementid '1001' but no matching script tag was found. \")\n    return false;\n  }\n\n  function inject_raw_css(css) {\n    const element = document.createElement(\"style\");\n    element.appendChild(document.createTextNode(css));\n    document.body.appendChild(element);\n  }\n\n  var js_urls = [\"https://cdn.pydata.org/bokeh/release/bokeh-1.3.4.min.js\", \"https://cdn.pydata.org/bokeh/release/bokeh-widgets-1.3.4.min.js\", \"https://cdn.pydata.org/bokeh/release/bokeh-tables-1.3.4.min.js\", \"https://cdn.pydata.org/bokeh/release/bokeh-gl-1.3.4.min.js\"];\n  var css_urls = [];\n\n  var inline_js = [\n    function(Bokeh) {\n      Bokeh.set_log_level(\"info\");\n    },\n    \n    function(Bokeh) {\n      \n    },\n    function(Bokeh) {} // ensure no trailing comma for IE\n  ];\n\n  function run_inline_js() {\n    \n    if ((root.Bokeh !== undefined) || (force === true)) {\n      for (var i = 0; i < inline_js.length; i++) {\n        inline_js[i].call(root, root.Bokeh);\n      }if (force === true) {\n        display_loaded();\n      }} else if (Date.now() < root._bokeh_timeout) {\n      setTimeout(run_inline_js, 100);\n    } else if (!root._bokeh_failed_load) {\n      console.log(\"Bokeh: BokehJS failed to load within specified timeout.\");\n      root._bokeh_failed_load = true;\n    } else if (force !== true) {\n      var cell = $(document.getElementById(\"1001\")).parents('.cell').data().cell;\n      cell.output_area.append_execute_result(NB_LOAD_WARNING)\n    }\n\n  }\n\n  if (root._bokeh_is_loading === 0) {\n    console.debug(\"Bokeh: BokehJS loaded, going straight to plotting\");\n    run_inline_js();\n  } else {\n    load_libs(css_urls, js_urls, function() {\n      console.debug(\"Bokeh: BokehJS plotting callback run at\", now());\n      run_inline_js();\n    });\n  }\n}(window));"
          },
          "metadata": {
            "tags": []
          }
        },
        {
          "output_type": "stream",
          "text": [
            "[nltk_data] Downloading package stopwords to C:\\Users\\Daniela\n",
            "[nltk_data]     Orovwiroro\\AppData\\Roaming\\nltk_data...\n",
            "[nltk_data]   Package stopwords is already up-to-date!\n"
          ],
          "name": "stderr"
        }
      ]
    },
    {
      "cell_type": "markdown",
      "metadata": {
        "id": "J0hAqwUTpdDF",
        "colab_type": "text"
      },
      "source": [
        "## 1. Data Preparation and cleaning"
      ]
    },
    {
      "cell_type": "code",
      "metadata": {
        "id": "ufjGptx5pdDL",
        "colab_type": "code",
        "colab": {}
      },
      "source": [
        "from sklearn.datasets import fetch_20newsgroups"
      ],
      "execution_count": 0,
      "outputs": []
    },
    {
      "cell_type": "code",
      "metadata": {
        "id": "2cb1DLi_9fCO",
        "colab_type": "code",
        "outputId": "babf29fe-67e6-4eb1-b3df-dc4b7fd81d1e",
        "colab": {
          "base_uri": "https://localhost:8080/",
          "height": 54
        }
      },
      "source": [
        "news = fetch_20newsgroups(subset='all')"
      ],
      "execution_count": 0,
      "outputs": [
        {
          "output_type": "stream",
          "text": [
            "Downloading 20news dataset. This may take a few minutes.\n",
            "Downloading dataset from https://ndownloader.figshare.com/files/5975967 (14 MB)\n"
          ],
          "name": "stderr"
        }
      ]
    },
    {
      "cell_type": "code",
      "metadata": {
        "id": "InI_Gv8rpdDX",
        "colab_type": "code",
        "outputId": "d446329a-7526-47b7-b57a-13c3f984fda3",
        "colab": {
          "base_uri": "https://localhost:8080/",
          "height": 36
        }
      },
      "source": [
        "news.target"
      ],
      "execution_count": 0,
      "outputs": [
        {
          "output_type": "execute_result",
          "data": {
            "text/plain": [
              "array([10,  3, 17, ...,  3,  1,  7])"
            ]
          },
          "metadata": {
            "tags": []
          },
          "execution_count": 12
        }
      ]
    },
    {
      "cell_type": "code",
      "metadata": {
        "id": "l7Cv5gKEpdDj",
        "colab_type": "code",
        "colab": {}
      },
      "source": [
        "# extract only the relevant column for this project\n",
        "df = df.loc[:,['description']]"
      ],
      "execution_count": 0,
      "outputs": []
    },
    {
      "cell_type": "code",
      "metadata": {
        "id": "F-xrtA1OpdDs",
        "colab_type": "code",
        "outputId": "70c77e13-2416-411d-d7bd-11258d3b2037",
        "colab": {}
      },
      "source": [
        "# Create a doc id for merging the results back to the original file \n",
        "df.insert(0, 'Doc_Id', range(0, 0 + len(df)))\n",
        "df.head()"
      ],
      "execution_count": 0,
      "outputs": [
        {
          "output_type": "execute_result",
          "data": {
            "text/html": [
              "<div>\n",
              "<style scoped>\n",
              "    .dataframe tbody tr th:only-of-type {\n",
              "        vertical-align: middle;\n",
              "    }\n",
              "\n",
              "    .dataframe tbody tr th {\n",
              "        vertical-align: top;\n",
              "    }\n",
              "\n",
              "    .dataframe thead th {\n",
              "        text-align: right;\n",
              "    }\n",
              "</style>\n",
              "<table border=\"1\" class=\"dataframe\">\n",
              "  <thead>\n",
              "    <tr style=\"text-align: right;\">\n",
              "      <th></th>\n",
              "      <th>Doc_Id</th>\n",
              "      <th>description</th>\n",
              "    </tr>\n",
              "  </thead>\n",
              "  <tbody>\n",
              "    <tr>\n",
              "      <td>0</td>\n",
              "      <td>0</td>\n",
              "      <td>xxxxxxbilis xxxxxx Technologies is pleased to ...</td>\n",
              "    </tr>\n",
              "    <tr>\n",
              "      <td>1</td>\n",
              "      <td>1</td>\n",
              "      <td>The PHX METEOROLOGICAL DATA product contains p...</td>\n",
              "    </tr>\n",
              "    <tr>\n",
              "      <td>2</td>\n",
              "      <td>2</td>\n",
              "      <td>ASC has developed non-scanning 3D xxxxxxTM ima...</td>\n",
              "    </tr>\n",
              "    <tr>\n",
              "      <td>3</td>\n",
              "      <td>3</td>\n",
              "      <td>xxxxxxNET inversion code provides aerosoloptic...</td>\n",
              "    </tr>\n",
              "    <tr>\n",
              "      <td>4</td>\n",
              "      <td>4</td>\n",
              "      <td>This proposal addresses the concept of Collabo...</td>\n",
              "    </tr>\n",
              "  </tbody>\n",
              "</table>\n",
              "</div>"
            ],
            "text/plain": [
              "   Doc_Id                                        description\n",
              "0       0  xxxxxxbilis xxxxxx Technologies is pleased to ...\n",
              "1       1  The PHX METEOROLOGICAL DATA product contains p...\n",
              "2       2  ASC has developed non-scanning 3D xxxxxxTM ima...\n",
              "3       3  xxxxxxNET inversion code provides aerosoloptic...\n",
              "4       4  This proposal addresses the concept of Collabo..."
            ]
          },
          "metadata": {
            "tags": []
          },
          "execution_count": 5
        }
      ]
    },
    {
      "cell_type": "code",
      "metadata": {
        "id": "JOjjHqLwpdD3",
        "colab_type": "code",
        "outputId": "5839ae81-513a-4c01-8267-b0735ea01963",
        "colab": {}
      },
      "source": [
        "# Get the word count for each document\n",
        "df['word_count'] = df['description'].apply(lambda x: len(str(x).split(\" \")))\n",
        "df.head()"
      ],
      "execution_count": 0,
      "outputs": [
        {
          "output_type": "execute_result",
          "data": {
            "text/html": [
              "<div>\n",
              "<style scoped>\n",
              "    .dataframe tbody tr th:only-of-type {\n",
              "        vertical-align: middle;\n",
              "    }\n",
              "\n",
              "    .dataframe tbody tr th {\n",
              "        vertical-align: top;\n",
              "    }\n",
              "\n",
              "    .dataframe thead th {\n",
              "        text-align: right;\n",
              "    }\n",
              "</style>\n",
              "<table border=\"1\" class=\"dataframe\">\n",
              "  <thead>\n",
              "    <tr style=\"text-align: right;\">\n",
              "      <th></th>\n",
              "      <th>Doc_Id</th>\n",
              "      <th>description</th>\n",
              "      <th>word_count</th>\n",
              "    </tr>\n",
              "  </thead>\n",
              "  <tbody>\n",
              "    <tr>\n",
              "      <td>0</td>\n",
              "      <td>0</td>\n",
              "      <td>xxxxxxbilis xxxxxx Technologies is pleased to ...</td>\n",
              "      <td>104</td>\n",
              "    </tr>\n",
              "    <tr>\n",
              "      <td>1</td>\n",
              "      <td>1</td>\n",
              "      <td>The PHX METEOROLOGICAL DATA product contains p...</td>\n",
              "      <td>60</td>\n",
              "    </tr>\n",
              "    <tr>\n",
              "      <td>2</td>\n",
              "      <td>2</td>\n",
              "      <td>ASC has developed non-scanning 3D xxxxxxTM ima...</td>\n",
              "      <td>187</td>\n",
              "    </tr>\n",
              "    <tr>\n",
              "      <td>3</td>\n",
              "      <td>3</td>\n",
              "      <td>xxxxxxNET inversion code provides aerosoloptic...</td>\n",
              "      <td>80</td>\n",
              "    </tr>\n",
              "    <tr>\n",
              "      <td>4</td>\n",
              "      <td>4</td>\n",
              "      <td>This proposal addresses the concept of Collabo...</td>\n",
              "      <td>201</td>\n",
              "    </tr>\n",
              "  </tbody>\n",
              "</table>\n",
              "</div>"
            ],
            "text/plain": [
              "   Doc_Id                                        description  word_count\n",
              "0       0  xxxxxxbilis xxxxxx Technologies is pleased to ...         104\n",
              "1       1  The PHX METEOROLOGICAL DATA product contains p...          60\n",
              "2       2  ASC has developed non-scanning 3D xxxxxxTM ima...         187\n",
              "3       3  xxxxxxNET inversion code provides aerosoloptic...          80\n",
              "4       4  This proposal addresses the concept of Collabo...         201"
            ]
          },
          "metadata": {
            "tags": []
          },
          "execution_count": 6
        }
      ]
    },
    {
      "cell_type": "code",
      "metadata": {
        "id": "5nyrlB0I91OA",
        "colab_type": "code",
        "outputId": "dd2cf417-1e47-41e5-f77d-ada4ebb95e34",
        "colab": {
          "base_uri": "https://localhost:8080/",
          "height": 785
        }
      },
      "source": [
        "pip install enstop"
      ],
      "execution_count": 0,
      "outputs": [
        {
          "output_type": "stream",
          "text": [
            "Collecting enstop\n",
            "  Downloading https://files.pythonhosted.org/packages/c4/70/170c18d6df51b5eaf459c9236cb196f66b2eef7cddb84a534a23e693c65a/enstop-0.1.3.tar.gz\n",
            "Requirement already satisfied: scikit-learn>=0.21 in /usr/local/lib/python3.6/dist-packages (from enstop) (0.21.3)\n",
            "Requirement already satisfied: scipy>=1.0 in /usr/local/lib/python3.6/dist-packages (from enstop) (1.3.2)\n",
            "Collecting numba>=0.43\n",
            "\u001b[?25l  Downloading https://files.pythonhosted.org/packages/53/34/22b6c2ded558976b5367be01b851ae679a0d1ba994de002d54afe84187b5/numba-0.46.0-cp36-cp36m-manylinux1_x86_64.whl (3.6MB)\n",
            "\u001b[K     |████████████████████████████████| 3.6MB 8.9MB/s \n",
            "\u001b[?25hCollecting dask>=1.2\n",
            "\u001b[?25l  Downloading https://files.pythonhosted.org/packages/b3/56/ea46d9b2ed53f03072087ba811ee580640e16a787d99373a6b82646974bc/dask-2.8.1-py3-none-any.whl (769kB)\n",
            "\u001b[K     |████████████████████████████████| 778kB 54.7MB/s \n",
            "\u001b[?25hCollecting hdbscan>=0.8\n",
            "\u001b[?25l  Downloading https://files.pythonhosted.org/packages/18/35/a117860dd7f38eb1a77e4e30ac69a63c45c5a6356f503874fbe80fc464b7/hdbscan-0.8.23.tar.gz (4.9MB)\n",
            "\u001b[K     |████████████████████████████████| 4.9MB 56.6MB/s \n",
            "\u001b[?25h  Installing build dependencies ... \u001b[?25l\u001b[?25hdone\n",
            "  Getting requirements to build wheel ... \u001b[?25l\u001b[?25hdone\n",
            "    Preparing wheel metadata ... \u001b[?25l\u001b[?25hdone\n",
            "Requirement already satisfied: umap-learn>=0.3.8 in /usr/local/lib/python3.6/dist-packages (from enstop) (0.3.10)\n",
            "Requirement already satisfied: joblib>=0.11 in /usr/local/lib/python3.6/dist-packages (from scikit-learn>=0.21->enstop) (0.14.0)\n",
            "Requirement already satisfied: numpy>=1.11.0 in /usr/local/lib/python3.6/dist-packages (from scikit-learn>=0.21->enstop) (1.17.4)\n",
            "Requirement already satisfied: llvmlite>=0.30.0dev0 in /usr/local/lib/python3.6/dist-packages (from numba>=0.43->enstop) (0.30.0)\n",
            "Requirement already satisfied: six in /usr/local/lib/python3.6/dist-packages (from hdbscan>=0.8->enstop) (1.12.0)\n",
            "Requirement already satisfied: cython>=0.27 in /usr/local/lib/python3.6/dist-packages (from hdbscan>=0.8->enstop) (0.29.14)\n",
            "Building wheels for collected packages: hdbscan\n",
            "  Building wheel for hdbscan (PEP 517) ... \u001b[?25l\u001b[?25hdone\n",
            "  Created wheel for hdbscan: filename=hdbscan-0.8.23-cp36-cp36m-linux_x86_64.whl size=2332183 sha256=0ac943df84edbee1b6dbf303fd4fb0839e51fb7b57d75d630e10ae552511fe47\n",
            "  Stored in directory: /root/.cache/pip/wheels/1e/2a/69/0cdd5414624312666718f7526b0ab39cad65cea1c1b3892768\n",
            "Successfully built hdbscan\n",
            "Building wheels for collected packages: enstop\n",
            "  Building wheel for enstop (setup.py) ... \u001b[?25l\u001b[?25hdone\n",
            "  Created wheel for enstop: filename=enstop-0.1.3-cp36-none-any.whl size=18293 sha256=a2f361a736d8dbbfed11d493b78759a72f0de292021437f2d235ef50d7afd70d\n",
            "  Stored in directory: /root/.cache/pip/wheels/c5/3b/16/789793c9d73b247c07e00d5f56f7aca13b49ed6dc99171d11e\n",
            "Successfully built enstop\n",
            "Installing collected packages: numba, dask, hdbscan, enstop\n",
            "  Found existing installation: numba 0.40.1\n",
            "    Uninstalling numba-0.40.1:\n",
            "      Successfully uninstalled numba-0.40.1\n",
            "  Found existing installation: dask 1.1.5\n",
            "    Uninstalling dask-1.1.5:\n",
            "      Successfully uninstalled dask-1.1.5\n",
            "Successfully installed dask-2.8.1 enstop-0.1.3 hdbscan-0.8.23 numba-0.46.0\n"
          ],
          "name": "stdout"
        }
      ]
    },
    {
      "cell_type": "code",
      "metadata": {
        "id": "q0Qd_DzUpdEE",
        "colab_type": "code",
        "colab": {}
      },
      "source": [
        "from sklearn.feature_extraction.text import CountVectorizer\n",
        "from sklearn.decomposition import NMF, LatentDirichletAllocation\n",
        "from enstop import EnsembleTopics, PLSA\n",
        "data = CountVectorizer(min_df=5, stop_words='english').fit_transform(news.data)\n"
      ],
      "execution_count": 0,
      "outputs": []
    },
    {
      "cell_type": "code",
      "metadata": {
        "id": "1BU4HZub_Jnx",
        "colab_type": "code",
        "outputId": "a2d44372-74af-433f-ec59-d8e468569ff3",
        "colab": {
          "base_uri": "https://localhost:8080/",
          "height": 54
        }
      },
      "source": [
        "data"
      ],
      "execution_count": 0,
      "outputs": [
        {
          "output_type": "execute_result",
          "data": {
            "text/plain": [
              "<18846x34880 sparse matrix of type '<class 'numpy.int64'>'\n",
              "\twith 1939023 stored elements in Compressed Sparse Row format>"
            ]
          },
          "metadata": {
            "tags": []
          },
          "execution_count": 9
        }
      ]
    },
    {
      "cell_type": "code",
      "metadata": {
        "id": "G5877F1P_LYg",
        "colab_type": "code",
        "outputId": "fa1bf843-d381-45e9-8a14-7d6854ee769f",
        "colab": {
          "base_uri": "https://localhost:8080/",
          "height": 54
        }
      },
      "source": [
        "%%time\n",
        "lda_model = LatentDirichletAllocation(n_components=20).fit(data)"
      ],
      "execution_count": 0,
      "outputs": [
        {
          "output_type": "stream",
          "text": [
            "CPU times: user 3min 55s, sys: 2min 24s, total: 6min 20s\n",
            "Wall time: 3min 24s\n"
          ],
          "name": "stdout"
        }
      ]
    },
    {
      "cell_type": "code",
      "metadata": {
        "id": "Tbb3WbRGpdEQ",
        "colab_type": "code",
        "outputId": "25ba43e4-d64f-4851-8cce-2fc7b27f2fc7",
        "colab": {}
      },
      "source": [
        "# Removing unwanted characters\n",
        "import re\n",
        "df['description'] = df['description'].str.replace('x', '')\n",
        "df['description'] = df['description'].str.replace('X', '')\n",
        "df['description'] = df['description'].str.replace('{', '')\n",
        "df['description'] = df['description'].str.replace('}', '')\n",
        "df['description'] = df['description'].str.replace('/', '')\n",
        "df.head()"
      ],
      "execution_count": 0,
      "outputs": [
        {
          "output_type": "execute_result",
          "data": {
            "text/html": [
              "<div>\n",
              "<style scoped>\n",
              "    .dataframe tbody tr th:only-of-type {\n",
              "        vertical-align: middle;\n",
              "    }\n",
              "\n",
              "    .dataframe tbody tr th {\n",
              "        vertical-align: top;\n",
              "    }\n",
              "\n",
              "    .dataframe thead th {\n",
              "        text-align: right;\n",
              "    }\n",
              "</style>\n",
              "<table border=\"1\" class=\"dataframe\">\n",
              "  <thead>\n",
              "    <tr style=\"text-align: right;\">\n",
              "      <th></th>\n",
              "      <th>Doc_Id</th>\n",
              "      <th>description</th>\n",
              "      <th>word_count</th>\n",
              "    </tr>\n",
              "  </thead>\n",
              "  <tbody>\n",
              "    <tr>\n",
              "      <td>0</td>\n",
              "      <td>0</td>\n",
              "      <td>bilis  Technologies is pleased to propose an i...</td>\n",
              "      <td>104</td>\n",
              "    </tr>\n",
              "    <tr>\n",
              "      <td>1</td>\n",
              "      <td>1</td>\n",
              "      <td>The PH METEOROLOGICAL DATA product contains pr...</td>\n",
              "      <td>60</td>\n",
              "    </tr>\n",
              "    <tr>\n",
              "      <td>2</td>\n",
              "      <td>2</td>\n",
              "      <td>ASC has developed non-scanning 3D TM imagers f...</td>\n",
              "      <td>187</td>\n",
              "    </tr>\n",
              "    <tr>\n",
              "      <td>3</td>\n",
              "      <td>3</td>\n",
              "      <td>NET inversion code provides aerosoloptical pro...</td>\n",
              "      <td>80</td>\n",
              "    </tr>\n",
              "    <tr>\n",
              "      <td>4</td>\n",
              "      <td>4</td>\n",
              "      <td>This proposal addresses the concept of Collabo...</td>\n",
              "      <td>201</td>\n",
              "    </tr>\n",
              "  </tbody>\n",
              "</table>\n",
              "</div>"
            ],
            "text/plain": [
              "   Doc_Id                                        description  word_count\n",
              "0       0  bilis  Technologies is pleased to propose an i...         104\n",
              "1       1  The PH METEOROLOGICAL DATA product contains pr...          60\n",
              "2       2  ASC has developed non-scanning 3D TM imagers f...         187\n",
              "3       3  NET inversion code provides aerosoloptical pro...          80\n",
              "4       4  This proposal addresses the concept of Collabo...         201"
            ]
          },
          "metadata": {
            "tags": []
          },
          "execution_count": 8
        }
      ]
    },
    {
      "cell_type": "code",
      "metadata": {
        "id": "N3s6VrBopdEZ",
        "colab_type": "code",
        "colab": {}
      },
      "source": [
        "# convert the data description to string\n",
        "df['description']=df['description'].apply(str)"
      ],
      "execution_count": 0,
      "outputs": []
    },
    {
      "cell_type": "code",
      "metadata": {
        "id": "fzhAZPnDpdEj",
        "colab_type": "code",
        "outputId": "44fc49b9-2311-4d84-9482-7282d9e6c5dc",
        "colab": {}
      },
      "source": [
        "# Top 20 most frequent words\n",
        "freq = pd.Series(' '.join(df['description']).split()).value_counts()[:20]\n",
        "freq"
      ],
      "execution_count": 0,
      "outputs": [
        {
          "output_type": "execute_result",
          "data": {
            "text/plain": [
              "the     175826\n",
              "and     134942\n",
              "of      116923\n",
              "to       86622\n",
              "a        66750\n",
              "in       52741\n",
              "for      52722\n",
              "is       38072\n",
              "The      38020\n",
              "will     30379\n",
              "data     27565\n",
              "with     25721\n",
              "be       24651\n",
              "are      23925\n",
              "that     22507\n",
              "on       22209\n",
              "from     21384\n",
              "as       19466\n",
              "by       17430\n",
              "at       15915\n",
              "dtype: int64"
            ]
          },
          "metadata": {
            "tags": []
          },
          "execution_count": 10
        }
      ]
    },
    {
      "cell_type": "code",
      "metadata": {
        "id": "eAydLr8bpdEr",
        "colab_type": "code",
        "outputId": "8044c6fb-0839-4b7d-ef10-0a1f970a4f14",
        "colab": {}
      },
      "source": [
        "# Work with only nouns. Use NLTK to get only nouns in the corpus\n",
        "import nltk\n",
        "nltk.download('punkt')\n",
        "def nouns(text):\n",
        "    is_noun = lambda pos: pos[:2] == 'NN'\n",
        "    tokenized = word_tokenize(text)\n",
        "    all_nouns = [word for (word, pos) in pos_tag(tokenized) if is_noun(pos)]\n",
        "    return ' '.join(all_nouns)"
      ],
      "execution_count": 0,
      "outputs": [
        {
          "output_type": "stream",
          "text": [
            "[nltk_data] Downloading package punkt to C:\\Users\\Daniela\n",
            "[nltk_data]     Orovwiroro\\AppData\\Roaming\\nltk_data...\n",
            "[nltk_data]   Package punkt is already up-to-date!\n"
          ],
          "name": "stderr"
        }
      ]
    },
    {
      "cell_type": "code",
      "metadata": {
        "id": "xf5JBM_ApdE3",
        "colab_type": "code",
        "outputId": "d60090cb-e173-42f4-bf08-dbd1afda118c",
        "colab": {}
      },
      "source": [
        "# Create a column that shows the nouns \n",
        "df['data_nouns'] = pd.DataFrame(df.description.apply(nouns))\n",
        "df.head()"
      ],
      "execution_count": 0,
      "outputs": [
        {
          "output_type": "execute_result",
          "data": {
            "text/html": [
              "<div>\n",
              "<style scoped>\n",
              "    .dataframe tbody tr th:only-of-type {\n",
              "        vertical-align: middle;\n",
              "    }\n",
              "\n",
              "    .dataframe tbody tr th {\n",
              "        vertical-align: top;\n",
              "    }\n",
              "\n",
              "    .dataframe thead th {\n",
              "        text-align: right;\n",
              "    }\n",
              "</style>\n",
              "<table border=\"1\" class=\"dataframe\">\n",
              "  <thead>\n",
              "    <tr style=\"text-align: right;\">\n",
              "      <th></th>\n",
              "      <th>Doc_Id</th>\n",
              "      <th>description</th>\n",
              "      <th>word_count</th>\n",
              "      <th>data_nouns</th>\n",
              "    </tr>\n",
              "  </thead>\n",
              "  <tbody>\n",
              "    <tr>\n",
              "      <td>0</td>\n",
              "      <td>0</td>\n",
              "      <td>bilis  Technologies is pleased to propose an i...</td>\n",
              "      <td>104</td>\n",
              "      <td>bilis Technologies motor propulsion solution g...</td>\n",
              "    </tr>\n",
              "    <tr>\n",
              "      <td>1</td>\n",
              "      <td>1</td>\n",
              "      <td>The PH METEOROLOGICAL DATA product contains pr...</td>\n",
              "      <td>60</td>\n",
              "      <td>PH METEOROLOGICAL DATA product Digital Numbers...</td>\n",
              "    </tr>\n",
              "    <tr>\n",
              "      <td>2</td>\n",
              "      <td>2</td>\n",
              "      <td>ASC has developed non-scanning 3D TM imagers f...</td>\n",
              "      <td>187</td>\n",
              "      <td>ASC TM imagers UAS awareness landing technolog...</td>\n",
              "    </tr>\n",
              "    <tr>\n",
              "      <td>3</td>\n",
              "      <td>3</td>\n",
              "      <td>NET inversion code provides aerosoloptical pro...</td>\n",
              "      <td>80</td>\n",
              "      <td>inversion code properties column diffuse radia...</td>\n",
              "    </tr>\n",
              "    <tr>\n",
              "      <td>4</td>\n",
              "      <td>4</td>\n",
              "      <td>This proposal addresses the concept of Collabo...</td>\n",
              "      <td>201</td>\n",
              "      <td>proposal concept Collaborative Outbound Tai in...</td>\n",
              "    </tr>\n",
              "  </tbody>\n",
              "</table>\n",
              "</div>"
            ],
            "text/plain": [
              "   Doc_Id                                        description  word_count  \\\n",
              "0       0  bilis  Technologies is pleased to propose an i...         104   \n",
              "1       1  The PH METEOROLOGICAL DATA product contains pr...          60   \n",
              "2       2  ASC has developed non-scanning 3D TM imagers f...         187   \n",
              "3       3  NET inversion code provides aerosoloptical pro...          80   \n",
              "4       4  This proposal addresses the concept of Collabo...         201   \n",
              "\n",
              "                                          data_nouns  \n",
              "0  bilis Technologies motor propulsion solution g...  \n",
              "1  PH METEOROLOGICAL DATA product Digital Numbers...  \n",
              "2  ASC TM imagers UAS awareness landing technolog...  \n",
              "3  inversion code properties column diffuse radia...  \n",
              "4  proposal concept Collaborative Outbound Tai in...  "
            ]
          },
          "metadata": {
            "tags": []
          },
          "execution_count": 12
        }
      ]
    },
    {
      "cell_type": "code",
      "metadata": {
        "id": "JQNph7QBpdE-",
        "colab_type": "code",
        "colab": {}
      },
      "source": [
        "# Further cleaning, removing stopwords, lemmatizing\n",
        "import re\n",
        "temp =[]\n",
        "my_stop_words = text.ENGLISH_STOP_WORDS\n",
        "\n",
        "from nltk.stem import WordNetLemmatizer\n",
        "lemmatizer = WordNetLemmatizer()\n",
        "\n",
        "for sentence in df['data_nouns']:\n",
        "    sentence = sentence.lower()\n",
        "    cleaner = re.compile('<.*?>')\n",
        "    sentence = re.sub(cleaner, ' ', sentence)  # Remove html tags\n",
        "    sentence = re.sub(r'[?|!|\\'|\"|#]',r'',sentence)\n",
        "    sentence = re.sub(r'[.|,|)|(|\\|/]',r' ',sentence) # removing puntuations\n",
        "    \n",
        "    words = [lemmatizer.lemmatize(word) for word in sentence.split() if word not in my_stop_words] # removing stopwords and lemm\n",
        "    temp.append(words)\n",
        "    \n",
        "final_X = temp"
      ],
      "execution_count": 0,
      "outputs": []
    },
    {
      "cell_type": "code",
      "metadata": {
        "id": "V7w8_gfIpdFH",
        "colab_type": "code",
        "outputId": "27ef9557-b92b-434c-f5bc-5ccb195aae4b",
        "colab": {}
      },
      "source": [
        "sent = []\n",
        "for row in final_X:\n",
        "    sequ = ''\n",
        "    for word in row:\n",
        "        sequ = sequ + ' ' + word\n",
        "    sent.append(sequ)\n",
        "final_X = sent\n",
        "# remove unwanted characters, numbers and symbols \n",
        "df['cleaned'] = final_X\n",
        "df.head()"
      ],
      "execution_count": 0,
      "outputs": [
        {
          "output_type": "execute_result",
          "data": {
            "text/html": [
              "<div>\n",
              "<style scoped>\n",
              "    .dataframe tbody tr th:only-of-type {\n",
              "        vertical-align: middle;\n",
              "    }\n",
              "\n",
              "    .dataframe tbody tr th {\n",
              "        vertical-align: top;\n",
              "    }\n",
              "\n",
              "    .dataframe thead th {\n",
              "        text-align: right;\n",
              "    }\n",
              "</style>\n",
              "<table border=\"1\" class=\"dataframe\">\n",
              "  <thead>\n",
              "    <tr style=\"text-align: right;\">\n",
              "      <th></th>\n",
              "      <th>Doc_Id</th>\n",
              "      <th>description</th>\n",
              "      <th>word_count</th>\n",
              "      <th>data_nouns</th>\n",
              "      <th>cleaned</th>\n",
              "    </tr>\n",
              "  </thead>\n",
              "  <tbody>\n",
              "    <tr>\n",
              "      <td>0</td>\n",
              "      <td>0</td>\n",
              "      <td>bilis  Technologies is pleased to propose an i...</td>\n",
              "      <td>104</td>\n",
              "      <td>bilis Technologies motor propulsion solution g...</td>\n",
              "      <td>bilis technology motor propulsion solution gr...</td>\n",
              "    </tr>\n",
              "    <tr>\n",
              "      <td>1</td>\n",
              "      <td>1</td>\n",
              "      <td>The PH METEOROLOGICAL DATA product contains pr...</td>\n",
              "      <td>60</td>\n",
              "      <td>PH METEOROLOGICAL DATA product Digital Numbers...</td>\n",
              "      <td>ph meteorological data product digital number...</td>\n",
              "    </tr>\n",
              "    <tr>\n",
              "      <td>2</td>\n",
              "      <td>2</td>\n",
              "      <td>ASC has developed non-scanning 3D TM imagers f...</td>\n",
              "      <td>187</td>\n",
              "      <td>ASC TM imagers UAS awareness landing technolog...</td>\n",
              "      <td>asc tm imagers uas awareness landing technolo...</td>\n",
              "    </tr>\n",
              "    <tr>\n",
              "      <td>3</td>\n",
              "      <td>3</td>\n",
              "      <td>NET inversion code provides aerosoloptical pro...</td>\n",
              "      <td>80</td>\n",
              "      <td>inversion code properties column diffuse radia...</td>\n",
              "      <td>inversion code property column diffuse radiat...</td>\n",
              "    </tr>\n",
              "    <tr>\n",
              "      <td>4</td>\n",
              "      <td>4</td>\n",
              "      <td>This proposal addresses the concept of Collabo...</td>\n",
              "      <td>201</td>\n",
              "      <td>proposal concept Collaborative Outbound Tai in...</td>\n",
              "      <td>proposal concept collaborative outbound tai i...</td>\n",
              "    </tr>\n",
              "  </tbody>\n",
              "</table>\n",
              "</div>"
            ],
            "text/plain": [
              "   Doc_Id                                        description  word_count  \\\n",
              "0       0  bilis  Technologies is pleased to propose an i...         104   \n",
              "1       1  The PH METEOROLOGICAL DATA product contains pr...          60   \n",
              "2       2  ASC has developed non-scanning 3D TM imagers f...         187   \n",
              "3       3  NET inversion code provides aerosoloptical pro...          80   \n",
              "4       4  This proposal addresses the concept of Collabo...         201   \n",
              "\n",
              "                                          data_nouns  \\\n",
              "0  bilis Technologies motor propulsion solution g...   \n",
              "1  PH METEOROLOGICAL DATA product Digital Numbers...   \n",
              "2  ASC TM imagers UAS awareness landing technolog...   \n",
              "3  inversion code properties column diffuse radia...   \n",
              "4  proposal concept Collaborative Outbound Tai in...   \n",
              "\n",
              "                                             cleaned  \n",
              "0   bilis technology motor propulsion solution gr...  \n",
              "1   ph meteorological data product digital number...  \n",
              "2   asc tm imagers uas awareness landing technolo...  \n",
              "3   inversion code property column diffuse radiat...  \n",
              "4   proposal concept collaborative outbound tai i...  "
            ]
          },
          "metadata": {
            "tags": []
          },
          "execution_count": 14
        }
      ]
    },
    {
      "cell_type": "code",
      "metadata": {
        "id": "GHgNLVhbpdFV",
        "colab_type": "code",
        "outputId": "86f02826-8a18-4eb5-8220-df2f63345901",
        "colab": {}
      },
      "source": [
        "# let us see the top 20 again after cleaning\n",
        "freq_ = pd.Series(' '.join(df['cleaned']).split()).value_counts()[:20]\n",
        "freq_"
      ],
      "execution_count": 0,
      "outputs": [
        {
          "output_type": "execute_result",
          "data": {
            "text/plain": [
              "data           30791\n",
              "product        10408\n",
              "mission        10351\n",
              "technology      9307\n",
              "set             7429\n",
              "design          7351\n",
              "surface         7092\n",
              "observation     6498\n",
              "temperature     6435\n",
              "system          6258\n",
              "instrument      6221\n",
              "time            6169\n",
              "space           5876\n",
              "measurement     5874\n",
              "analysis        5797\n",
              "model           5649\n",
              "power           5488\n",
              "file            5449\n",
              "performance     5409\n",
              "material        5385\n",
              "dtype: int64"
            ]
          },
          "metadata": {
            "tags": []
          },
          "execution_count": 15
        }
      ]
    },
    {
      "cell_type": "markdown",
      "metadata": {
        "id": "Y21zlhKapdFd",
        "colab_type": "text"
      },
      "source": [
        "## 2. Data Visualization"
      ]
    },
    {
      "cell_type": "code",
      "metadata": {
        "id": "tuQmtXifpdFj",
        "colab_type": "code",
        "outputId": "da167d96-c598-4c38-d58b-3ca1ffcf39eb",
        "colab": {}
      },
      "source": [
        "#Wordcloud\n",
        "from wordcloud import WordCloud \n",
        "wordcloud = WordCloud(width=800, height=500, random_state=21, max_font_size=110).generate(str(df['cleaned'])) \n",
        "plt.figure(1,figsize=(13, 10))\n",
        "fig=plt.figure(1)\n",
        "plt.imshow(wordcloud, interpolation=\"bilinear\") \n",
        "plt.axis('off') \n",
        "plt.show()\n",
        "fig.savefig('wordcloud')"
      ],
      "execution_count": 0,
      "outputs": [
        {
          "output_type": "display_data",
          "data": {
            "image/png": "[encoded data removed]",
            "text/plain": [
              "<Figure size 936x720 with 1 Axes>"
            ]
          },
          "metadata": {
            "tags": [],
            "needs_background": "light"
          }
        }
      ]
    },
    {
      "cell_type": "code",
      "metadata": {
        "id": "tB-iUNbQpdFs",
        "colab_type": "code",
        "outputId": "3e7b72e4-bc88-4d17-a4c9-3f5dc0852ac6",
        "colab": {}
      },
      "source": [
        "#Use CountVectorizer to get bigrams to visualize\n",
        "from sklearn.feature_extraction.text import CountVectorizer\n",
        "\n",
        "cv = CountVectorizer(max_df = 0.95, min_df = 2, stop_words= 'english', max_features=10000, ngram_range=(1,3))\n",
        "X = cv.fit_transform(df['cleaned'])\n",
        "# Most frequently occuring words\n",
        "def get_top_n_words(corpus,n=None):\n",
        "    vec = CountVectorizer().fit(df['cleaned'])\n",
        "    bag_of_words=vec.transform(df['cleaned'])\n",
        "    sum_words = bag_of_words.sum(axis=0)\n",
        "    words_freq = [(word, sum_words[0, idx]) for word , idx in vec.vocabulary_.items()]\n",
        "    words_freq = sorted(words_freq, key = lambda x: x[1], reverse=True)\n",
        "    return words_freq[:n]\n",
        "\n",
        "# Convert most freq words to datafame for visuals\n",
        "top_words = get_top_n_words(df['cleaned'], n=20)\n",
        "top_df = pd.DataFrame(top_words)\n",
        "top_df.columns = ['Word', 'Freq']\n",
        "\n",
        "# barplot of most freq words\n",
        "import seaborn as sns\n",
        "sns.set(rc={'figure.figsize':(13,6)})\n",
        "g = sns.barplot(x='Word', y='Freq', data=top_df)\n",
        "g.set_xticklabels(g.get_xticklabels(), rotation=45)\n",
        "fig = g.get_figure()\n",
        "fig.savefig(\"sns_output.png\")"
      ],
      "execution_count": 0,
      "outputs": [
        {
          "output_type": "display_data",
          "data": {
            "image/png": "[encoded data removed]",
            "text/plain": [
              "<Figure size 936x432 with 1 Axes>"
            ]
          },
          "metadata": {
            "tags": []
          }
        }
      ]
    },
    {
      "cell_type": "code",
      "metadata": {
        "id": "oiC7TsEhpdF4",
        "colab_type": "code",
        "outputId": "ea1b9413-5426-4f34-8791-064aed40dce4",
        "colab": {}
      },
      "source": [
        "# Most frequently Co-occuring words\n",
        "def get_top_n2_words(corpus,n=None):\n",
        "    vec1 = CountVectorizer(ngram_range=(2,2),max_features=2000).fit(df['data_nouns'])\n",
        "    bag_of_words=vec1.transform(df['data_nouns'])\n",
        "    sum_words = bag_of_words.sum(axis=0)\n",
        "    words_freq = [(word, sum_words[0, idx]) for word , idx in vec1.vocabulary_.items()]\n",
        "    words_freq = sorted(words_freq, key = lambda x: x[1], reverse=True)\n",
        "    return words_freq[:n]\n",
        "\n",
        "# Convert most freq words to datafame for visuals\n",
        "top2_words = get_top_n2_words(df['data_nouns'], n=20)\n",
        "top2_df = pd.DataFrame(top2_words)\n",
        "top2_df.columns = ['Bi-gram', 'Freq']\n",
        "\n",
        "# for bigram wordcloud\n",
        "top100_words = get_top_n2_words(df['data_nouns'], n=100)\n",
        "top100_df = pd.DataFrame(top100_words)\n",
        "top100_df.columns = ['Bi-gram', 'Freq']\n",
        "print(top2_df)\n",
        "\n",
        "# barplot of most freq words\n",
        "import seaborn as sns\n",
        "sns.set(rc={'figure.figsize':(13,6)})\n",
        "h = sns.barplot(x='Bi-gram', y='Freq', data=top2_df)\n",
        "h.set_xticklabels(h.get_xticklabels(), rotation=45)\n",
        "fig = h.get_figure()\n",
        "fig.savefig(\"sns_output_bigrams.png\")"
      ],
      "execution_count": 0,
      "outputs": [
        {
          "output_type": "stream",
          "text": [
            "                Bi-gram  Freq\n",
            "0              data set  5252\n",
            "1                 lt gt  1691\n",
            "2                 gt lt   969\n",
            "3          data product   959\n",
            "4             nbsp nbsp   861\n",
            "5             data sets   860\n",
            "6          set contains   806\n",
            "7             data data   743\n",
            "8         data products   717\n",
            "9            data files   649\n",
            "10          sea surface   625\n",
            "11         version data   581\n",
            "12          water vapor   543\n",
            "13  surface temperature   503\n",
            "14       space missions   500\n",
            "15                km km   475\n",
            "16             set data   458\n",
            "17          time series   454\n",
            "18      pressure levels   436\n",
            "19      analysis errors   433\n"
          ],
          "name": "stdout"
        },
        {
          "output_type": "display_data",
          "data": {
            "image/png": "[encoded data removed]",
            "text/plain": [
              "<Figure size 936x432 with 1 Axes>"
            ]
          },
          "metadata": {
            "tags": []
          }
        }
      ]
    },
    {
      "cell_type": "markdown",
      "metadata": {
        "id": "dP7fRb62pdF-",
        "colab_type": "text"
      },
      "source": [
        "### Term vectorization term weighting:\n",
        "\n",
        "The usefulness of the document-term matrix can be improved by assigning higher weights to important terms. This helps to include or exclude terms that will enter the model. TF-IDF is a common way of giving weights to terms in a document.\n",
        "\n",
        "Term Frequency - TF is the number of times a term appears in a document.\n",
        "\n",
        "Inverse Document Frequency - IDF is the total number of documents that have a term. This penalises common terms that appear in almost every document.\n"
      ]
    },
    {
      "cell_type": "code",
      "metadata": {
        "id": "HiAVpLgUpdGB",
        "colab_type": "code",
        "colab": {}
      },
      "source": [
        "no_features = 10000\n",
        "tfidf_vectorizer = TfidfVectorizer(max_df = 0.95, min_df = 2, stop_words= 'english', max_features=no_features, ngram_range=(1,1),\n",
        "                                  analyzer='word')\n",
        "tfidf = tfidf_vectorizer.fit_transform(df['cleaned'])\n",
        "# get the feature names\n",
        "tfidf_feature_names = tfidf_vectorizer.get_feature_names()"
      ],
      "execution_count": 0,
      "outputs": []
    },
    {
      "cell_type": "code",
      "metadata": {
        "id": "BpypGAp4pdGL",
        "colab_type": "code",
        "outputId": "ef606855-efed-41af-90b4-7c461cd792a8",
        "colab": {}
      },
      "source": [
        "print('Vocabulary has %d distinct terms' % len(tfidf_feature_names))"
      ],
      "execution_count": 0,
      "outputs": [
        {
          "output_type": "stream",
          "text": [
            "Vocabulary has 10000 distinct terms\n"
          ],
          "name": "stdout"
        }
      ]
    },
    {
      "cell_type": "code",
      "metadata": {
        "id": "1wu-f6lupdGT",
        "colab_type": "code",
        "colab": {}
      },
      "source": [
        "import operator\n",
        "def rank_terms( tfidf, tfidf_feature_names ):\n",
        "    # get the sums over each column\n",
        "    sums = tfidf.sum(axis=0)\n",
        "    # map weights to the terms\n",
        "    weights = {}\n",
        "    for col, term in enumerate(tfidf_feature_names):\n",
        "        weights[term] = sums[0,col]\n",
        "    # rank the terms by their weight over all documents\n",
        "    return sorted(weights.items(), key=operator.itemgetter(1), reverse=True)"
      ],
      "execution_count": 0,
      "outputs": []
    },
    {
      "cell_type": "code",
      "metadata": {
        "id": "WBE9m-UzpdGe",
        "colab_type": "code",
        "outputId": "37b00f05-837e-4873-be13-5a384a8b3edc",
        "colab": {}
      },
      "source": [
        "ranking = rank_terms(tfidf, tfidf_feature_names)\n",
        "for i, pair in enumerate( ranking[0:20] ):\n",
        "    print( \"%02d. %s (%.0f)\" % ( i+1, pair[0], pair[1] ) )"
      ],
      "execution_count": 0,
      "outputs": [
        {
          "output_type": "stream",
          "text": [
            "01. data (1321)\n",
            "02. product (552)\n",
            "03. set (534)\n",
            "04. mission (500)\n",
            "05. technology (400)\n",
            "06. instrument (369)\n",
            "07. file (368)\n",
            "08. surface (366)\n",
            "09. temperature (361)\n",
            "10. measurement (358)\n",
            "11. time (352)\n",
            "12. observation (352)\n",
            "13. design (345)\n",
            "14. sensor (320)\n",
            "15. model (315)\n",
            "16. material (305)\n",
            "17. power (299)\n",
            "18. resolution (294)\n",
            "19. image (287)\n",
            "20. performance (286)\n"
          ],
          "name": "stdout"
        }
      ]
    },
    {
      "cell_type": "markdown",
      "metadata": {
        "id": "5e-LH0oJpdGo",
        "colab_type": "text"
      },
      "source": [
        "## 3. Data Modelling"
      ]
    },
    {
      "cell_type": "code",
      "metadata": {
        "id": "G0PnnmMqpdGq",
        "colab_type": "code",
        "outputId": "7d0a70e4-9fce-472f-b34b-a7a839cf46e3",
        "colab": {}
      },
      "source": [
        "df.head()"
      ],
      "execution_count": 0,
      "outputs": [
        {
          "output_type": "execute_result",
          "data": {
            "text/html": [
              "<div>\n",
              "<style scoped>\n",
              "    .dataframe tbody tr th:only-of-type {\n",
              "        vertical-align: middle;\n",
              "    }\n",
              "\n",
              "    .dataframe tbody tr th {\n",
              "        vertical-align: top;\n",
              "    }\n",
              "\n",
              "    .dataframe thead th {\n",
              "        text-align: right;\n",
              "    }\n",
              "</style>\n",
              "<table border=\"1\" class=\"dataframe\">\n",
              "  <thead>\n",
              "    <tr style=\"text-align: right;\">\n",
              "      <th></th>\n",
              "      <th>Doc_Id</th>\n",
              "      <th>description</th>\n",
              "      <th>word_count</th>\n",
              "      <th>data_nouns</th>\n",
              "      <th>cleaned</th>\n",
              "    </tr>\n",
              "  </thead>\n",
              "  <tbody>\n",
              "    <tr>\n",
              "      <td>0</td>\n",
              "      <td>0</td>\n",
              "      <td>bilis  Technologies is pleased to propose an i...</td>\n",
              "      <td>104</td>\n",
              "      <td>bilis Technologies motor propulsion solution g...</td>\n",
              "      <td>bilis technology motor propulsion solution gr...</td>\n",
              "    </tr>\n",
              "    <tr>\n",
              "      <td>1</td>\n",
              "      <td>1</td>\n",
              "      <td>The PH METEOROLOGICAL DATA product contains pr...</td>\n",
              "      <td>60</td>\n",
              "      <td>PH METEOROLOGICAL DATA product Digital Numbers...</td>\n",
              "      <td>ph meteorological data product digital number...</td>\n",
              "    </tr>\n",
              "    <tr>\n",
              "      <td>2</td>\n",
              "      <td>2</td>\n",
              "      <td>ASC has developed non-scanning 3D TM imagers f...</td>\n",
              "      <td>187</td>\n",
              "      <td>ASC TM imagers UAS awareness landing technolog...</td>\n",
              "      <td>asc tm imagers uas awareness landing technolo...</td>\n",
              "    </tr>\n",
              "    <tr>\n",
              "      <td>3</td>\n",
              "      <td>3</td>\n",
              "      <td>NET inversion code provides aerosoloptical pro...</td>\n",
              "      <td>80</td>\n",
              "      <td>inversion code properties column diffuse radia...</td>\n",
              "      <td>inversion code property column diffuse radiat...</td>\n",
              "    </tr>\n",
              "    <tr>\n",
              "      <td>4</td>\n",
              "      <td>4</td>\n",
              "      <td>This proposal addresses the concept of Collabo...</td>\n",
              "      <td>201</td>\n",
              "      <td>proposal concept Collaborative Outbound Tai in...</td>\n",
              "      <td>proposal concept collaborative outbound tai i...</td>\n",
              "    </tr>\n",
              "  </tbody>\n",
              "</table>\n",
              "</div>"
            ],
            "text/plain": [
              "   Doc_Id                                        description  word_count  \\\n",
              "0       0  bilis  Technologies is pleased to propose an i...         104   \n",
              "1       1  The PH METEOROLOGICAL DATA product contains pr...          60   \n",
              "2       2  ASC has developed non-scanning 3D TM imagers f...         187   \n",
              "3       3  NET inversion code provides aerosoloptical pro...          80   \n",
              "4       4  This proposal addresses the concept of Collabo...         201   \n",
              "\n",
              "                                          data_nouns  \\\n",
              "0  bilis Technologies motor propulsion solution g...   \n",
              "1  PH METEOROLOGICAL DATA product Digital Numbers...   \n",
              "2  ASC TM imagers UAS awareness landing technolog...   \n",
              "3  inversion code properties column diffuse radia...   \n",
              "4  proposal concept Collaborative Outbound Tai in...   \n",
              "\n",
              "                                             cleaned  \n",
              "0   bilis technology motor propulsion solution gr...  \n",
              "1   ph meteorological data product digital number...  \n",
              "2   asc tm imagers uas awareness landing technolo...  \n",
              "3   inversion code property column diffuse radiat...  \n",
              "4   proposal concept collaborative outbound tai i...  "
            ]
          },
          "metadata": {
            "tags": []
          },
          "execution_count": 23
        }
      ]
    },
    {
      "cell_type": "code",
      "metadata": {
        "id": "rwUqDIx-pdGw",
        "colab_type": "code",
        "outputId": "c3377c77-df74-4c46-be89-f2d73ae01e2f",
        "colab": {}
      },
      "source": [
        "# Convert to list\n",
        "data = df.cleaned.values.tolist()\n",
        "pprint(data[:1])"
      ],
      "execution_count": 0,
      "outputs": [
        {
          "output_type": "stream",
          "text": [
            "[' bilis technology motor propulsion solution grain design response '\n",
            " 'solicitation sample motor design motor safety compleity storability '\n",
            " 'advantage motor system manufacturing rocket nozzle injector order weight '\n",
            " 'count innovation propulsion technology variety mission body gravity well']\n"
          ],
          "name": "stdout"
        }
      ]
    },
    {
      "cell_type": "code",
      "metadata": {
        "id": "g5WlY0RfpdG8",
        "colab_type": "code",
        "outputId": "b5e2119d-0b12-4163-896f-71d37e9d3366",
        "colab": {}
      },
      "source": [
        "def sent_to_words(sentences):\n",
        "    for sentence in sentences:\n",
        "        yield(gensim.utils.simple_preprocess(str(sentence), deacc=True))  # deacc=True removes punctuations\n",
        "\n",
        "data_words = list(sent_to_words(data))\n",
        "\n",
        "print(data_words[:1])"
      ],
      "execution_count": 0,
      "outputs": [
        {
          "output_type": "stream",
          "text": [
            "[['bilis', 'technology', 'motor', 'propulsion', 'solution', 'grain', 'design', 'response', 'solicitation', 'sample', 'motor', 'design', 'motor', 'safety', 'compleity', 'storability', 'advantage', 'motor', 'system', 'manufacturing', 'rocket', 'nozzle', 'injector', 'order', 'weight', 'count', 'innovation', 'propulsion', 'technology', 'variety', 'mission', 'body', 'gravity', 'well']]\n"
          ],
          "name": "stdout"
        }
      ]
    },
    {
      "cell_type": "code",
      "metadata": {
        "id": "YmazM4FZpdHD",
        "colab_type": "code",
        "outputId": "bfcb419b-c0c7-4381-9783-58794317bb5d",
        "colab": {}
      },
      "source": [
        "# Build the bigram and trigram models\n",
        "bigram = gensim.models.Phrases(data_words, min_count=5, threshold=100) # higher threshold fewer phrases.\n",
        "trigram = gensim.models.Phrases(bigram[data_words], threshold=100)  \n",
        "\n",
        "# Faster way to get a sentence clubbed as a trigram/bigram\n",
        "bigram_mod = gensim.models.phrases.Phraser(bigram)\n",
        "trigram_mod = gensim.models.phrases.Phraser(trigram)\n",
        "\n",
        "# See trigram example\n",
        "print(trigram_mod[bigram_mod[data_words[0]]])"
      ],
      "execution_count": 0,
      "outputs": [
        {
          "output_type": "stream",
          "text": [
            "['bilis', 'technology', 'motor', 'propulsion', 'solution', 'grain', 'design', 'response', 'solicitation', 'sample', 'motor', 'design', 'motor', 'safety', 'compleity', 'storability', 'advantage', 'motor', 'system', 'manufacturing', 'rocket', 'nozzle', 'injector', 'order', 'weight', 'count', 'innovation', 'propulsion', 'technology', 'variety', 'mission', 'body', 'gravity', 'well']\n"
          ],
          "name": "stdout"
        }
      ]
    },
    {
      "cell_type": "markdown",
      "metadata": {
        "id": "qkhALlMZpdHO",
        "colab_type": "text"
      },
      "source": [
        "### Remove Stopwords, Make Bigrams and Lemmatize\n",
        "\n",
        "The bigrams model is ready. Let’s define the functions to remove the stopwords, make bigrams and lemmatization and call them sequentially.\n"
      ]
    },
    {
      "cell_type": "code",
      "metadata": {
        "id": "Zochp25CpdHQ",
        "colab_type": "code",
        "colab": {}
      },
      "source": [
        "# Define functions for stopwords, bigrams, trigrams and lemmatization\n",
        "def make_bigrams(texts):\n",
        "    return [bigram_mod[doc] for doc in texts]\n",
        "\n",
        "def make_trigrams(texts):\n",
        "    return [trigram_mod[bigram_mod[doc]] for doc in texts]\n",
        "\n",
        "def lemmatization(texts, allowed_postags=['NOUN', 'ADJ', 'VERB', 'ADV']):\n",
        "    \"\"\"https://spacy.io/api/annotation\"\"\"\n",
        "    texts_out = []\n",
        "    for sent in texts:\n",
        "        doc = nlp(\" \".join(sent)) \n",
        "        texts_out.append([token.lemma_ for token in doc if token.pos_ in allowed_postags])\n",
        "    return texts_out"
      ],
      "execution_count": 0,
      "outputs": []
    },
    {
      "cell_type": "markdown",
      "metadata": {
        "id": "Kc5uQpNGpdHY",
        "colab_type": "text"
      },
      "source": [
        "### Create the Dictionary and Corpus needed for Topic Modeling\n",
        "\n",
        "The two main inputs to the LDA topic model are the dictionary(id2word) and the corpus. Let’s create them.\n"
      ]
    },
    {
      "cell_type": "code",
      "metadata": {
        "id": "R68CW4ZIpdHb",
        "colab_type": "code",
        "outputId": "b726920d-0ed0-4398-8d90-f433cba983a2",
        "colab": {}
      },
      "source": [
        "# Form Bigrams\n",
        "data_words_bigrams = make_bigrams(data_words)\n",
        "\n",
        "# Initialize spacy 'en' model, keeping only tagger component (for efficiency)\n",
        "# python3 -m spacy download en\n",
        "nlp = spacy.load('en_core_web_sm', disable=['parser', 'ner'])\n",
        "\n",
        "# Do lemmatization keeping only noun, adj, vb, adv\n",
        "data_lemmatized = lemmatization(data_words_bigrams, allowed_postags=['NOUN', 'ADJ', 'VERB', 'ADV'])\n",
        "\n",
        "print(data_lemmatized[:1])"
      ],
      "execution_count": 0,
      "outputs": [
        {
          "output_type": "stream",
          "text": [
            "[['motor', 'propulsion', 'solution', 'grain', 'motor', 'storability', 'advantage', 'motor', 'system', 'manufacturing', 'rocket', 'nozzle', 'injector', 'order', 'weight', 'variety', 'mission', 'body', 'gravity', 'well']]\n"
          ],
          "name": "stdout"
        }
      ]
    },
    {
      "cell_type": "markdown",
      "metadata": {
        "id": "WcI5M5bQpdHk",
        "colab_type": "text"
      },
      "source": [
        "Create the Dictionary and Corpus needed for Topic Modeling\n",
        "\n",
        "The two main inputs to the LDA topic model are the dictionary(id2word) and the corpus. Let’s create them.\n"
      ]
    },
    {
      "cell_type": "code",
      "metadata": {
        "id": "wfigihf9pdHl",
        "colab_type": "code",
        "outputId": "4a02dd8e-a46c-483b-acf4-aa3b1263d8a5",
        "colab": {}
      },
      "source": [
        "# Create Dictionary\n",
        "id2word = corpora.Dictionary(data_lemmatized)\n",
        "\n",
        "# Create Corpus\n",
        "texts = data_lemmatized\n",
        "\n",
        "# Term Document Frequency\n",
        "corpus = [id2word.doc2bow(text) for text in texts]\n",
        "\n",
        "# View\n",
        "print(corpus[:1])"
      ],
      "execution_count": 0,
      "outputs": [
        {
          "output_type": "stream",
          "text": [
            "[[(0, 1), (1, 1), (2, 1), (3, 1), (4, 1), (5, 1), (6, 1), (7, 3), (8, 1), (9, 1), (10, 1), (11, 1), (12, 1), (13, 1), (14, 1), (15, 1), (16, 1), (17, 1)]]\n"
          ],
          "name": "stdout"
        }
      ]
    },
    {
      "cell_type": "markdown",
      "metadata": {
        "id": "kY2NGN93pdHu",
        "colab_type": "text"
      },
      "source": [
        "Gensim creates a unique id for each word in the document. The produced corpus shown above is a mapping of (word_id, word_frequency).\n",
        "\n",
        "For example, (0, 1) above implies, word id 0 occurs once in the first document. Likewise, word id 1 occurs twice and so on.\n",
        "\n",
        "This is used as the input by the LDA model.\n",
        "\n",
        "If you want to see what word a given id corresponds to, pass the id as a key to the dictionary.\n"
      ]
    },
    {
      "cell_type": "code",
      "metadata": {
        "id": "eitj4hBbpdHw",
        "colab_type": "code",
        "outputId": "7d9dfec5-ee6a-49eb-960a-cf21f149b60b",
        "colab": {}
      },
      "source": [
        "id2word[0]"
      ],
      "execution_count": 0,
      "outputs": [
        {
          "output_type": "execute_result",
          "data": {
            "text/plain": [
              "'advantage'"
            ]
          },
          "metadata": {
            "tags": []
          },
          "execution_count": 30
        }
      ]
    },
    {
      "cell_type": "code",
      "metadata": {
        "id": "4oBHuyphpdH4",
        "colab_type": "code",
        "outputId": "28ac147f-8768-4944-cbe5-a28245425cb9",
        "colab": {}
      },
      "source": [
        "# Human readable format of corpus (term-frequency)\n",
        "[[(id2word[id], freq) for id, freq in cp] for cp in corpus[:1]]"
      ],
      "execution_count": 0,
      "outputs": [
        {
          "output_type": "execute_result",
          "data": {
            "text/plain": [
              "[[('advantage', 1),\n",
              "  ('body', 1),\n",
              "  ('grain', 1),\n",
              "  ('gravity', 1),\n",
              "  ('injector', 1),\n",
              "  ('manufacturing', 1),\n",
              "  ('mission', 1),\n",
              "  ('motor', 3),\n",
              "  ('nozzle', 1),\n",
              "  ('order', 1),\n",
              "  ('propulsion', 1),\n",
              "  ('rocket', 1),\n",
              "  ('solution', 1),\n",
              "  ('storability', 1),\n",
              "  ('system', 1),\n",
              "  ('variety', 1),\n",
              "  ('weight', 1),\n",
              "  ('well', 1)]]"
            ]
          },
          "metadata": {
            "tags": []
          },
          "execution_count": 31
        }
      ]
    },
    {
      "cell_type": "markdown",
      "metadata": {
        "id": "Zm7m1Ip2pdH8",
        "colab_type": "text"
      },
      "source": [
        "### Building the Topic Model\n",
        "\n",
        "#### 1. LDA model\n",
        "\n",
        "We have everything required to train the LDA model. In addition to the corpus and dictionary, you need to provide the number of topics as well.\n",
        "\n",
        "Apart from that, alpha and eta are hyperparameters that affect sparsity of the topics. According to the Gensim docs, both defaults to 1.0/num_topics prior.\n",
        "\n",
        "chunksize is the number of documents to be used in each training chunk. update_every determines how often the model parameters should be updated and passes is the total number of training passes.\n"
      ]
    },
    {
      "cell_type": "code",
      "metadata": {
        "id": "FWWxbGN_pdIA",
        "colab_type": "code",
        "colab": {}
      },
      "source": [
        "from sklearn.decomposition import NMF, LatentDirichletAllocation, TruncatedSVD\n",
        "from sklearn.feature_extraction.text import CountVectorizer\n",
        " \n",
        "NUM_TOPICS = 10\n",
        " \n",
        "vectorizer = CountVectorizer(min_df=5, max_df=0.9, \n",
        "                             stop_words='english', lowercase=True, \n",
        "                             token_pattern='[a-zA-Z\\-][a-zA-Z\\-]{2,}')\n",
        "data_vectorized = vectorizer.fit_transform(df['cleaned'])\n",
        " \n"
      ],
      "execution_count": 0,
      "outputs": []
    },
    {
      "cell_type": "code",
      "metadata": {
        "id": "ZRoHFx4wpdIF",
        "colab_type": "code",
        "outputId": "269ebea2-084e-4fa0-c035-af4c3cd275af",
        "colab": {}
      },
      "source": [
        "# Build a Non-Negative Matrix Factorization Model\n",
        "nmf_model = NMF(n_components=NUM_TOPICS)\n",
        "nmf_Z = nmf_model.fit_transform(data_vectorized)\n",
        "print(nmf_Z.shape)  # (NO_DOCUMENTS, NO_TOPICS)"
      ],
      "execution_count": 0,
      "outputs": [
        {
          "output_type": "stream",
          "text": [
            "(24356, 10)\n"
          ],
          "name": "stdout"
        }
      ]
    },
    {
      "cell_type": "code",
      "metadata": {
        "id": "AajeVzaYpdIO",
        "colab_type": "code",
        "colab": {}
      },
      "source": [
        "# Build LDA model\n",
        "lda_model = gensim.models.ldamodel.LdaModel(corpus=corpus,\n",
        "                                           id2word=id2word,\n",
        "                                           num_topics=3, \n",
        "                                           random_state=100,\n",
        "                                           update_every=1,\n",
        "                                           chunksize=100,\n",
        "                                           passes=10,\n",
        "                                           alpha='auto',\n",
        "                                           per_word_topics=True)"
      ],
      "execution_count": 0,
      "outputs": []
    },
    {
      "cell_type": "markdown",
      "metadata": {
        "id": "NvgYBfVFpdIT",
        "colab_type": "text"
      },
      "source": [
        " View the topics in LDA model\n",
        "\n",
        "The above LDA model is built with 20 different topics where each topic is a combination of keywords and each keyword contributes a certain weightage to the topic.\n",
        "\n",
        "You can see the keywords for each topic and the weightage(importance) of each keyword using lda_model.print_topics() as shown next."
      ]
    },
    {
      "cell_type": "code",
      "metadata": {
        "id": "P6yhEibopdIU",
        "colab_type": "code",
        "outputId": "f14d1173-3380-4b7f-d7de-c78e686f8f8c",
        "colab": {}
      },
      "source": [
        "# Print the Keyword in the 10 topics\n",
        "pprint(lda_model.print_topics())\n",
        "doc_lda = lda_model[corpus]"
      ],
      "execution_count": 0,
      "outputs": [
        {
          "output_type": "stream",
          "text": [
            "[(0,\n",
            "  '0.019*\"technology\" + 0.015*\"material\" + 0.014*\"performance\" + '\n",
            "  '0.013*\"design\" + 0.013*\"temperature\" + 0.012*\"system\" + 0.011*\"sensor\" + '\n",
            "  '0.011*\"power\" + 0.010*\"mission\" + 0.009*\"space\"'),\n",
            " (1,\n",
            "  '0.090*\"datum\" + 0.043*\"set\" + 0.024*\"image\" + 0.022*\"instrument\" + '\n",
            "  '0.020*\"mission\" + 0.019*\"time\" + 0.018*\"data\" + 0.017*\"product\" + '\n",
            "  '0.016*\"satellite\" + 0.014*\"file\"'),\n",
            " (2,\n",
            "  '0.026*\"nbsp\" + 0.021*\"model\" + 0.015*\"flight\" + 0.014*\"tool\" + '\n",
            "  '0.014*\"software\" + 0.011*\"system\" + 0.010*\"aircraft\" + 0.008*\"test\" + '\n",
            "  '0.008*\"time\" + 0.008*\"capability\"')]\n"
          ],
          "name": "stdout"
        }
      ]
    },
    {
      "cell_type": "markdown",
      "metadata": {
        "id": "4j-5mGbcpdIc",
        "colab_type": "text"
      },
      "source": [
        "How to interpret this?\n",
        "\n",
        "Topic 0 is a represented as '0.101*\"management\" + 0.092*\"heat\" + 0.080*\"fluid\" + 0.066*\"advantage\" + '\n",
        "  '0.063*\"transfer\" + 0.056*\"behavior\" + 0.055*\"actuator\" + 0.052*\"stability\" '\n",
        "  '+ 0.035*\"investigation\" + 0.030*\"removal\"'.\n",
        "\n",
        "It means the top 10 keywords that contribute to this topic are: ‘management’, ‘heat’, ‘fluid’.. and so on and the weight of ‘management’ on topic 0 is 0.101.\n",
        "\n",
        "The weights reflect how important a keyword is to that topic.\n",
        "\n",
        "Looking at these keywords, we can guess what this topic could be.\n",
        "\n",
        "Likewise, can you go through the remaining topic keywords and judge what the topic is?\n",
        "\n",
        "Compute Model Perplexity and Coherence Score\n",
        "\n",
        "Model perplexity and topic coherence provide a convenient measure to judge how good a given topic model is. In my experience, topic coherence score, in particular, has been more helpful."
      ]
    },
    {
      "cell_type": "code",
      "metadata": {
        "id": "TawKQwympdIe",
        "colab_type": "code",
        "outputId": "c6c09c51-9d06-407b-b306-38b5b762de4b",
        "colab": {}
      },
      "source": [
        "# Compute Perplexity\n",
        "print('\\nPerplexity: ', lda_model.log_perplexity(corpus))  # a measure of how good the model is. lower the better.\n",
        "\n",
        "# Compute Coherence Score\n",
        "coherence_model_lda = CoherenceModel(model=lda_model, texts=data_lemmatized, dictionary=id2word, coherence='c_v')\n",
        "coherence_lda = coherence_model_lda.get_coherence()\n",
        "print('\\nCoherence Score: ', coherence_lda)"
      ],
      "execution_count": 0,
      "outputs": [
        {
          "output_type": "stream",
          "text": [
            "\n",
            "Perplexity:  -7.146384713240863\n",
            "\n",
            "Coherence Score:  0.5324433813613786\n"
          ],
          "name": "stdout"
        }
      ]
    },
    {
      "cell_type": "code",
      "metadata": {
        "id": "D_yeo46FpdIl",
        "colab_type": "code",
        "colab": {}
      },
      "source": [
        "from gensim.models import CoherenceModel, LdaModel, LsiModel, HdpModel\n",
        "def compute_coherence_values(dictionary, corpus, texts, limit, start=2, step=3):\n",
        "    coherence_values = []\n",
        "    model_list = []\n",
        "    for num_topics in range(start, limit, step):\n",
        "        model = LdaModel(corpus=corpus, num_topics=num_topics, id2word=id2word)\n",
        "        model_list.append(model)\n",
        "        coherencemodel = CoherenceModel(model=model, texts=texts, dictionary=dictionary, coherence='c_v')\n",
        "        coherence_values.append(coherencemodel.get_coherence())\n",
        "\n",
        "    return model_list, coherence_values"
      ],
      "execution_count": 0,
      "outputs": []
    },
    {
      "cell_type": "code",
      "metadata": {
        "id": "MyUwF7TZpdIt",
        "colab_type": "code",
        "colab": {}
      },
      "source": [
        "model_list, coherence_values = compute_coherence_values(dictionary=id2word, \n",
        "                                                        corpus=corpus, texts=data_lemmatized, start=1, limit=6, step=1)"
      ],
      "execution_count": 0,
      "outputs": []
    },
    {
      "cell_type": "code",
      "metadata": {
        "id": "rObVAYvypdI0",
        "colab_type": "code",
        "outputId": "bed14f96-9247-4650-eb6a-81927fed3b7b",
        "colab": {}
      },
      "source": [
        "limit=6; start=1; step=1;\n",
        "x = range(start, limit, step)\n",
        "plt.figure(figsize=(12,12))\n",
        "plt.plot(x, coherence_values)\n",
        "plt.xlabel(\"Num Topics\")\n",
        "plt.ylabel(\"Coherence score\")\n",
        "plt.legend((\"coherence_values\"), loc='best')\n",
        "plt.show()"
      ],
      "execution_count": 0,
      "outputs": [
        {
          "output_type": "display_data",
          "data": {
            "image/png": "[encoded data removed]",
            "text/plain": [
              "<Figure size 864x864 with 1 Axes>"
            ]
          },
          "metadata": {
            "tags": []
          }
        }
      ]
    },
    {
      "cell_type": "code",
      "metadata": {
        "id": "j4v06lkMpdI9",
        "colab_type": "code",
        "outputId": "3c9b0d5e-250a-4ee5-e0a5-7aecfabc30c8",
        "colab": {}
      },
      "source": [
        "for m, cv in zip(x, coherence_values):\n",
        "    print(\"Num Topics =\", m, \" has Coherence Value of\", round(cv, 4))"
      ],
      "execution_count": 0,
      "outputs": [
        {
          "output_type": "stream",
          "text": [
            "Num Topics = 1  has Coherence Value of 0.3176\n",
            "Num Topics = 2  has Coherence Value of 0.5544\n",
            "Num Topics = 3  has Coherence Value of 0.4995\n",
            "Num Topics = 4  has Coherence Value of 0.5347\n",
            "Num Topics = 5  has Coherence Value of 0.5241\n"
          ],
          "name": "stdout"
        }
      ]
    },
    {
      "cell_type": "code",
      "metadata": {
        "id": "aucQm3FUpdJD",
        "colab_type": "code",
        "outputId": "673623c7-1f08-4d25-f4c0-307cc5e3f6af",
        "colab": {}
      },
      "source": [
        "# Select the model and print the topics\n",
        "optimal_model = model_list[2]\n",
        "model_topics = optimal_model.show_topics(formatted=False)\n",
        "pprint(optimal_model.print_topics(num_words=10))"
      ],
      "execution_count": 0,
      "outputs": [
        {
          "output_type": "stream",
          "text": [
            "[(0,\n",
            "  '0.015*\"water\" + 0.015*\"temperature\" + 0.014*\"datum\" + 0.013*\"instrument\" + '\n",
            "  '0.010*\"surface\" + 0.009*\"mission\" + 0.008*\"measurement\" + 0.008*\"energy\" + '\n",
            "  '0.008*\"cell\" + 0.008*\"model\"'),\n",
            " (1,\n",
            "  '0.073*\"datum\" + 0.037*\"product\" + 0.032*\"set\" + 0.025*\"observation\" + '\n",
            "  '0.023*\"file\" + 0.016*\"time\" + 0.016*\"image\" + 0.015*\"data\" + '\n",
            "  '0.015*\"information\" + 0.012*\"surface\"'),\n",
            " (2,\n",
            "  '0.017*\"technology\" + 0.014*\"design\" + 0.014*\"performance\" + 0.013*\"system\" '\n",
            "  '+ 0.010*\"mission\" + 0.010*\"material\" + 0.009*\"sensor\" + 0.008*\"application\" '\n",
            "  '+ 0.008*\"space\" + 0.008*\"test\"')]\n"
          ],
          "name": "stdout"
        }
      ]
    },
    {
      "cell_type": "code",
      "metadata": {
        "id": "UaZzqBN7pdJI",
        "colab_type": "code",
        "outputId": "9dc77b5d-c7ab-4d15-863a-768be2dcd23e",
        "colab": {}
      },
      "source": [
        "def format_topics_sentences(ldamodel=lda_model, corpus=corpus, texts=data):\n",
        "    # Init output\n",
        "    sent_topics_df = pd.DataFrame()\n",
        "\n",
        "    # Get main topic in each document\n",
        "    for i, row in enumerate(ldamodel[corpus]):\n",
        "        row = sorted(row, key=lambda x: (x[1]), reverse=True)\n",
        "        # Get the Dominant topic, Perc Contribution and Keywords for each document\n",
        "        for j, (topic_num, prop_topic) in enumerate(row):\n",
        "            if j == 0:  # => dominant topic\n",
        "                wp = ldamodel.show_topic(topic_num)\n",
        "                topic_keywords = \", \".join([word for word, prop in wp])\n",
        "                sent_topics_df = sent_topics_df.append(pd.Series([int(topic_num), round(prop_topic,4), topic_keywords]), ignore_index=True)\n",
        "            else:\n",
        "                break\n",
        "    sent_topics_df.columns = ['Dominant_Topic', 'Perc_Contribution', 'Topic_Keywords']\n",
        "\n",
        "    # Add original text to the end of the output\n",
        "    contents = pd.Series(texts)\n",
        "    sent_topics_df = pd.concat([sent_topics_df, contents], axis=1)\n",
        "    return(sent_topics_df)\n",
        "\n",
        "\n",
        "df_topic_sents_keywords = format_topics_sentences(ldamodel=optimal_model, corpus=corpus, texts=data)\n",
        "\n",
        "# Format\n",
        "df_dominant_topic = df_topic_sents_keywords.reset_index()\n",
        "df_dominant_topic.columns = ['Document_No', 'Dominant_Topic', 'Topic_Perc_Contrib', 'Keywords', 'Text']\n",
        "\n",
        "# Show\n",
        "df_dominant_topic.head(10)"
      ],
      "execution_count": 0,
      "outputs": [
        {
          "output_type": "execute_result",
          "data": {
            "text/html": [
              "<div>\n",
              "<style scoped>\n",
              "    .dataframe tbody tr th:only-of-type {\n",
              "        vertical-align: middle;\n",
              "    }\n",
              "\n",
              "    .dataframe tbody tr th {\n",
              "        vertical-align: top;\n",
              "    }\n",
              "\n",
              "    .dataframe thead th {\n",
              "        text-align: right;\n",
              "    }\n",
              "</style>\n",
              "<table border=\"1\" class=\"dataframe\">\n",
              "  <thead>\n",
              "    <tr style=\"text-align: right;\">\n",
              "      <th></th>\n",
              "      <th>Document_No</th>\n",
              "      <th>Dominant_Topic</th>\n",
              "      <th>Topic_Perc_Contrib</th>\n",
              "      <th>Keywords</th>\n",
              "      <th>Text</th>\n",
              "    </tr>\n",
              "  </thead>\n",
              "  <tbody>\n",
              "    <tr>\n",
              "      <td>0</td>\n",
              "      <td>0</td>\n",
              "      <td>2.0</td>\n",
              "      <td>0.9630</td>\n",
              "      <td>technology, design, performance, system, missi...</td>\n",
              "      <td>bilis technology motor propulsion solution gr...</td>\n",
              "    </tr>\n",
              "    <tr>\n",
              "      <td>1</td>\n",
              "      <td>1</td>\n",
              "      <td>1.0</td>\n",
              "      <td>0.8320</td>\n",
              "      <td>datum, product, set, observation, file, time, ...</td>\n",
              "      <td>ph meteorological data product digital number...</td>\n",
              "    </tr>\n",
              "    <tr>\n",
              "      <td>2</td>\n",
              "      <td>2</td>\n",
              "      <td>2.0</td>\n",
              "      <td>0.7694</td>\n",
              "      <td>technology, design, performance, system, missi...</td>\n",
              "      <td>asc tm imagers uas awareness landing technolo...</td>\n",
              "    </tr>\n",
              "    <tr>\n",
              "      <td>3</td>\n",
              "      <td>3</td>\n",
              "      <td>1.0</td>\n",
              "      <td>0.9459</td>\n",
              "      <td>datum, product, set, observation, file, time, ...</td>\n",
              "      <td>inversion code property column diffuse radiat...</td>\n",
              "    </tr>\n",
              "    <tr>\n",
              "      <td>4</td>\n",
              "      <td>4</td>\n",
              "      <td>2.0</td>\n",
              "      <td>0.9871</td>\n",
              "      <td>technology, design, performance, system, missi...</td>\n",
              "      <td>proposal concept collaborative outbound tai i...</td>\n",
              "    </tr>\n",
              "    <tr>\n",
              "      <td>5</td>\n",
              "      <td>5</td>\n",
              "      <td>2.0</td>\n",
              "      <td>0.7226</td>\n",
              "      <td>technology, design, performance, system, missi...</td>\n",
              "      <td>plan space eploration building pad rocket bla...</td>\n",
              "    </tr>\n",
              "    <tr>\n",
              "      <td>6</td>\n",
              "      <td>6</td>\n",
              "      <td>2.0</td>\n",
              "      <td>0.6545</td>\n",
              "      <td>technology, design, performance, system, missi...</td>\n",
              "      <td>proposal impedance miniaturebandpass rf frequ...</td>\n",
              "    </tr>\n",
              "    <tr>\n",
              "      <td>7</td>\n",
              "      <td>7</td>\n",
              "      <td>0.0</td>\n",
              "      <td>0.5445</td>\n",
              "      <td>water, temperature, datum, instrument, surface...</td>\n",
              "      <td>investigation development spacecraft system s...</td>\n",
              "    </tr>\n",
              "    <tr>\n",
              "      <td>8</td>\n",
              "      <td>8</td>\n",
              "      <td>0.0</td>\n",
              "      <td>0.5224</td>\n",
              "      <td>water, temperature, datum, instrument, surface...</td>\n",
              "      <td>objective eperience space development life su...</td>\n",
              "    </tr>\n",
              "    <tr>\n",
              "      <td>9</td>\n",
              "      <td>9</td>\n",
              "      <td>0.0</td>\n",
              "      <td>0.5380</td>\n",
              "      <td>water, temperature, datum, instrument, surface...</td>\n",
              "      <td>generation observation mission calorimeter en...</td>\n",
              "    </tr>\n",
              "  </tbody>\n",
              "</table>\n",
              "</div>"
            ],
            "text/plain": [
              "   Document_No  Dominant_Topic  Topic_Perc_Contrib  \\\n",
              "0            0             2.0              0.9630   \n",
              "1            1             1.0              0.8320   \n",
              "2            2             2.0              0.7694   \n",
              "3            3             1.0              0.9459   \n",
              "4            4             2.0              0.9871   \n",
              "5            5             2.0              0.7226   \n",
              "6            6             2.0              0.6545   \n",
              "7            7             0.0              0.5445   \n",
              "8            8             0.0              0.5224   \n",
              "9            9             0.0              0.5380   \n",
              "\n",
              "                                            Keywords  \\\n",
              "0  technology, design, performance, system, missi...   \n",
              "1  datum, product, set, observation, file, time, ...   \n",
              "2  technology, design, performance, system, missi...   \n",
              "3  datum, product, set, observation, file, time, ...   \n",
              "4  technology, design, performance, system, missi...   \n",
              "5  technology, design, performance, system, missi...   \n",
              "6  technology, design, performance, system, missi...   \n",
              "7  water, temperature, datum, instrument, surface...   \n",
              "8  water, temperature, datum, instrument, surface...   \n",
              "9  water, temperature, datum, instrument, surface...   \n",
              "\n",
              "                                                Text  \n",
              "0   bilis technology motor propulsion solution gr...  \n",
              "1   ph meteorological data product digital number...  \n",
              "2   asc tm imagers uas awareness landing technolo...  \n",
              "3   inversion code property column diffuse radiat...  \n",
              "4   proposal concept collaborative outbound tai i...  \n",
              "5   plan space eploration building pad rocket bla...  \n",
              "6   proposal impedance miniaturebandpass rf frequ...  \n",
              "7   investigation development spacecraft system s...  \n",
              "8   objective eperience space development life su...  \n",
              "9   generation observation mission calorimeter en...  "
            ]
          },
          "metadata": {
            "tags": []
          },
          "execution_count": 40
        }
      ]
    },
    {
      "cell_type": "markdown",
      "metadata": {
        "id": "rFGz8OTPpdJO",
        "colab_type": "text"
      },
      "source": [
        "How to find the optimal number of topics for LDA?\n",
        "My approach to finding the optimal number of topics is to build many LDA models with different values of number of topics (k) and pick the one that gives the highest coherence value.\n",
        "\n",
        "Choosing a ‘k’ that marks the end of a rapid growth of topic coherence usually offers meaningful and interpretable topics. Picking an even higher value can sometimes provide more granular sub-topics.\n",
        "\n",
        "If you see the same keywords being repeated in multiple topics, it’s probably a sign that the ‘k’ is too large.\n",
        "\n",
        "The compute_coherence_values() (see below) trains multiple LDA models and provides the models and their corresponding coherence scores."
      ]
    },
    {
      "cell_type": "markdown",
      "metadata": {
        "id": "LrVSKl3bpdJP",
        "colab_type": "text"
      },
      "source": [
        "If the coherence score seems to keep increasing, it may make better sense to pick the model that gave the highest CV before flattening out. This is exactly the case here.\n",
        "\n",
        "So for further steps I will choose the model with 20 topics itself."
      ]
    },
    {
      "cell_type": "markdown",
      "metadata": {
        "id": "DSzvt824pdJQ",
        "colab_type": "text"
      },
      "source": [
        "Visualize the topics-keywords\n",
        "\n",
        "Now that the LDA model is built, the next step is to examine the produced topics and the associated keywords. There is no better tool than pyLDAvis package’s interactive chart and is designed to work well with jupyter notebooks.\n"
      ]
    },
    {
      "cell_type": "code",
      "metadata": {
        "id": "P9e-HxDVpdJS",
        "colab_type": "code",
        "outputId": "6419ad93-1a2d-4503-8fa6-5cf1b6d0a2e1",
        "colab": {}
      },
      "source": [
        "# Visualize the topics\n",
        "pyLDAvis.enable_notebook()\n",
        "vis = pyLDAvis.gensim.prepare(lda_model, corpus, id2word)\n",
        "vis"
      ],
      "execution_count": 0,
      "outputs": [
        {
          "output_type": "execute_result",
          "data": {
            "text/html": [
              "\n",
              "<link rel=\"stylesheet\" type=\"text/css\" href=\"https://cdn.rawgit.com/bmabey/pyLDAvis/files/ldavis.v1.0.0.css\">\n",
              "\n",
              "\n",
              "<div id=\"ldavis_el1825622379403710169576740649\"></div>\n",
              "<script type=\"text/javascript\">\n",
              "\n",
              "var ldavis_el1825622379403710169576740649_data = {\"mdsDat\": {\"x\": [0.30868318566687264, 0.16703934924974015, 0.07101706950075294, 0.1763602177311395, 0.16793569582425596, 0.05824815397995428, -0.029961403265407593, 0.02807890113293178, 0.024368823076498385, -0.005212012260385216, -0.08455327818874848, -0.08169639973598966, -0.07500296433929592, -0.09464215641985352, -0.07359106421523096, -0.07351937314688226, -0.07878598940165583, -0.15482327774065965, -0.10826710279474908, -0.1416763746532872], \"y\": [0.20794248756110914, 0.2785946988301366, -0.03701065212231396, -0.22928512891781047, -0.20278214273318873, -0.06370281115916628, -0.021910880629660397, -0.061632809312142434, -0.08124629710497425, -0.05368523541458622, 0.023388774532667172, 0.05031891243785035, -0.019219288449983676, 0.025841627057289002, 0.02046074331924339, 0.02041277476022, 0.04472259609434812, 0.03545964769294861, 0.02888585183979674, 0.034447131718217595], \"topics\": [1, 2, 3, 4, 5, 6, 7, 8, 9, 10, 11, 12, 13, 14, 15, 16, 17, 18, 19, 20], \"cluster\": [1, 1, 1, 1, 1, 1, 1, 1, 1, 1, 1, 1, 1, 1, 1, 1, 1, 1, 1, 1], \"Freq\": [28.656545639038086, 8.619873046875, 7.274951934814453, 7.266848564147949, 6.778238773345947, 5.620107650756836, 4.601711750030518, 3.9563701152801514, 3.874358654022217, 3.4020025730133057, 2.7816922664642334, 2.430793046951294, 2.288991689682007, 2.223175287246704, 2.1089742183685303, 2.0695903301239014, 1.8852981328964233, 1.4385830163955688, 1.3717623949050903, 1.3501354455947876]}, \"tinfo\": {\"Category\": [\"Default\", \"Default\", \"Default\", \"Default\", \"Default\", \"Default\", \"Default\", \"Default\", \"Default\", \"Default\", \"Default\", \"Default\", \"Default\", \"Default\", \"Default\", \"Default\", \"Default\", \"Default\", \"Default\", \"Default\", \"Default\", \"Default\", \"Default\", \"Default\", \"Default\", \"Default\", \"Default\", \"Default\", \"Default\", \"Default\", \"Topic1\", \"Topic1\", \"Topic1\", \"Topic1\", \"Topic1\", \"Topic1\", \"Topic1\", \"Topic1\", \"Topic1\", \"Topic1\", \"Topic1\", \"Topic1\", \"Topic1\", \"Topic1\", \"Topic1\", \"Topic1\", \"Topic1\", \"Topic1\", \"Topic1\", \"Topic1\", \"Topic1\", \"Topic1\", \"Topic1\", \"Topic1\", \"Topic1\", \"Topic1\", \"Topic1\", \"Topic1\", \"Topic1\", \"Topic1\", \"Topic1\", \"Topic1\", \"Topic1\", \"Topic1\", \"Topic1\", \"Topic2\", \"Topic2\", \"Topic2\", \"Topic2\", \"Topic2\", \"Topic2\", \"Topic2\", \"Topic2\", \"Topic2\", \"Topic2\", \"Topic2\", \"Topic2\", \"Topic2\", \"Topic2\", \"Topic2\", \"Topic2\", \"Topic2\", \"Topic2\", \"Topic2\", \"Topic2\", \"Topic2\", \"Topic2\", \"Topic2\", \"Topic2\", \"Topic2\", \"Topic2\", \"Topic2\", \"Topic2\", \"Topic2\", \"Topic2\", \"Topic2\", \"Topic2\", \"Topic3\", \"Topic3\", \"Topic3\", \"Topic3\", \"Topic3\", \"Topic3\", \"Topic3\", \"Topic3\", \"Topic3\", \"Topic3\", \"Topic3\", \"Topic3\", \"Topic3\", \"Topic3\", \"Topic3\", \"Topic3\", \"Topic3\", \"Topic3\", \"Topic3\", \"Topic3\", \"Topic3\", \"Topic3\", \"Topic3\", \"Topic3\", \"Topic3\", \"Topic3\", \"Topic3\", \"Topic3\", \"Topic3\", \"Topic3\", \"Topic3\", \"Topic3\", \"Topic4\", \"Topic4\", \"Topic4\", \"Topic4\", \"Topic4\", \"Topic4\", \"Topic4\", \"Topic4\", \"Topic4\", \"Topic4\", \"Topic4\", \"Topic4\", \"Topic4\", \"Topic4\", \"Topic4\", \"Topic4\", \"Topic4\", \"Topic4\", \"Topic4\", \"Topic4\", \"Topic4\", \"Topic4\", \"Topic4\", \"Topic4\", \"Topic4\", \"Topic4\", \"Topic4\", \"Topic4\", \"Topic4\", \"Topic4\", \"Topic4\", \"Topic4\", \"Topic4\", \"Topic5\", \"Topic5\", \"Topic5\", \"Topic5\", \"Topic5\", \"Topic5\", \"Topic5\", \"Topic5\", \"Topic5\", \"Topic5\", \"Topic5\", \"Topic5\", \"Topic5\", \"Topic5\", \"Topic5\", \"Topic5\", \"Topic5\", \"Topic5\", \"Topic5\", \"Topic5\", \"Topic5\", \"Topic5\", \"Topic5\", \"Topic5\", \"Topic5\", \"Topic5\", \"Topic5\", \"Topic5\", \"Topic5\", \"Topic5\", \"Topic5\", \"Topic5\", \"Topic5\", \"Topic5\", \"Topic5\", \"Topic5\", \"Topic5\", \"Topic6\", \"Topic6\", \"Topic6\", \"Topic6\", \"Topic6\", \"Topic6\", \"Topic6\", \"Topic6\", \"Topic6\", \"Topic6\", \"Topic6\", \"Topic6\", \"Topic6\", \"Topic6\", \"Topic6\", \"Topic6\", \"Topic6\", \"Topic6\", \"Topic6\", \"Topic6\", \"Topic6\", \"Topic6\", \"Topic6\", \"Topic6\", \"Topic6\", \"Topic6\", \"Topic6\", \"Topic6\", \"Topic6\", \"Topic6\", \"Topic6\", \"Topic6\", \"Topic7\", \"Topic7\", \"Topic7\", \"Topic7\", \"Topic7\", \"Topic7\", \"Topic7\", \"Topic7\", \"Topic7\", \"Topic7\", \"Topic7\", \"Topic7\", \"Topic7\", \"Topic7\", \"Topic7\", \"Topic7\", \"Topic7\", \"Topic7\", \"Topic7\", \"Topic7\", \"Topic7\", \"Topic7\", \"Topic7\", \"Topic7\", \"Topic7\", \"Topic7\", \"Topic7\", \"Topic7\", \"Topic7\", \"Topic7\", \"Topic7\", \"Topic8\", \"Topic8\", \"Topic8\", \"Topic8\", \"Topic8\", \"Topic8\", \"Topic8\", \"Topic8\", \"Topic8\", \"Topic8\", \"Topic8\", \"Topic8\", \"Topic8\", \"Topic8\", \"Topic8\", \"Topic8\", \"Topic8\", \"Topic8\", \"Topic8\", \"Topic8\", \"Topic8\", \"Topic8\", \"Topic8\", \"Topic8\", \"Topic8\", \"Topic8\", \"Topic8\", \"Topic8\", \"Topic8\", \"Topic8\", \"Topic8\", \"Topic8\", \"Topic9\", \"Topic9\", \"Topic9\", \"Topic9\", \"Topic9\", \"Topic9\", \"Topic9\", \"Topic9\", \"Topic9\", \"Topic9\", \"Topic9\", \"Topic9\", \"Topic9\", \"Topic9\", \"Topic9\", \"Topic9\", \"Topic9\", \"Topic9\", \"Topic9\", \"Topic9\", \"Topic9\", \"Topic9\", \"Topic9\", \"Topic9\", \"Topic9\", \"Topic9\", \"Topic9\", \"Topic9\", \"Topic9\", \"Topic9\", \"Topic9\", \"Topic10\", \"Topic10\", \"Topic10\", \"Topic10\", \"Topic10\", \"Topic10\", \"Topic10\", \"Topic10\", \"Topic10\", \"Topic10\", \"Topic10\", \"Topic10\", \"Topic10\", \"Topic10\", \"Topic10\", \"Topic10\", \"Topic10\", \"Topic10\", \"Topic10\", \"Topic10\", \"Topic10\", \"Topic10\", \"Topic10\", \"Topic10\", \"Topic10\", \"Topic10\", \"Topic10\", \"Topic10\", \"Topic10\", \"Topic10\", \"Topic10\", \"Topic11\", \"Topic11\", \"Topic11\", \"Topic11\", \"Topic11\", \"Topic11\", \"Topic11\", \"Topic11\", \"Topic11\", \"Topic11\", \"Topic11\", \"Topic11\", \"Topic11\", \"Topic11\", \"Topic11\", \"Topic11\", \"Topic11\", \"Topic11\", \"Topic11\", \"Topic11\", \"Topic11\", \"Topic11\", \"Topic11\", \"Topic11\", \"Topic11\", \"Topic11\", \"Topic11\", \"Topic11\", \"Topic11\", \"Topic11\", \"Topic12\", \"Topic12\", \"Topic12\", \"Topic12\", \"Topic12\", \"Topic12\", \"Topic12\", \"Topic12\", \"Topic12\", \"Topic12\", \"Topic12\", \"Topic12\", \"Topic12\", \"Topic12\", \"Topic12\", \"Topic12\", \"Topic12\", \"Topic12\", \"Topic12\", \"Topic12\", \"Topic12\", \"Topic12\", \"Topic12\", \"Topic12\", \"Topic12\", \"Topic12\", \"Topic12\", \"Topic12\", \"Topic12\", \"Topic12\", \"Topic12\", \"Topic12\", \"Topic12\", \"Topic12\", \"Topic12\", \"Topic12\", \"Topic13\", \"Topic13\", \"Topic13\", \"Topic13\", \"Topic13\", \"Topic13\", \"Topic13\", \"Topic13\", \"Topic13\", \"Topic13\", \"Topic13\", \"Topic13\", \"Topic13\", \"Topic13\", \"Topic13\", \"Topic13\", \"Topic13\", \"Topic13\", \"Topic13\", \"Topic13\", \"Topic13\", \"Topic13\", \"Topic13\", \"Topic13\", \"Topic13\", \"Topic13\", \"Topic13\", \"Topic13\", \"Topic13\", \"Topic13\", \"Topic13\", \"Topic13\", \"Topic13\", \"Topic13\", \"Topic14\", \"Topic14\", \"Topic14\", \"Topic14\", \"Topic14\", \"Topic14\", \"Topic14\", \"Topic14\", \"Topic14\", \"Topic14\", \"Topic14\", \"Topic14\", \"Topic14\", \"Topic14\", \"Topic14\", \"Topic14\", \"Topic14\", \"Topic14\", \"Topic14\", \"Topic14\", \"Topic14\", \"Topic14\", \"Topic14\", \"Topic14\", \"Topic14\", \"Topic14\", \"Topic14\", \"Topic14\", \"Topic14\", \"Topic14\", \"Topic14\", \"Topic14\", \"Topic14\", \"Topic14\", \"Topic14\", \"Topic15\", \"Topic15\", \"Topic15\", \"Topic15\", \"Topic15\", \"Topic15\", \"Topic15\", \"Topic15\", \"Topic15\", \"Topic15\", \"Topic15\", \"Topic15\", \"Topic15\", \"Topic15\", \"Topic15\", \"Topic15\", \"Topic15\", \"Topic15\", \"Topic15\", \"Topic15\", \"Topic15\", \"Topic15\", \"Topic15\", \"Topic15\", \"Topic15\", \"Topic15\", \"Topic15\", \"Topic15\", \"Topic15\", \"Topic15\", \"Topic16\", \"Topic16\", \"Topic16\", \"Topic16\", \"Topic16\", \"Topic16\", \"Topic16\", \"Topic16\", \"Topic16\", \"Topic16\", \"Topic16\", \"Topic16\", \"Topic16\", \"Topic16\", \"Topic16\", \"Topic16\", \"Topic16\", \"Topic16\", \"Topic16\", \"Topic16\", \"Topic16\", \"Topic16\", \"Topic16\", \"Topic16\", \"Topic16\", \"Topic16\", \"Topic16\", \"Topic16\", \"Topic16\", \"Topic16\", \"Topic17\", \"Topic17\", \"Topic17\", \"Topic17\", \"Topic17\", \"Topic17\", \"Topic17\", \"Topic17\", \"Topic17\", \"Topic17\", \"Topic17\", \"Topic17\", \"Topic17\", \"Topic17\", \"Topic17\", \"Topic17\", \"Topic17\", \"Topic17\", \"Topic17\", \"Topic17\", \"Topic17\", \"Topic17\", \"Topic17\", \"Topic17\", \"Topic17\", \"Topic17\", \"Topic17\", \"Topic17\", \"Topic17\", \"Topic17\", \"Topic17\", \"Topic18\", \"Topic18\", \"Topic18\", \"Topic18\", \"Topic18\", \"Topic18\", \"Topic18\", \"Topic18\", \"Topic18\", \"Topic18\", \"Topic18\", \"Topic18\", \"Topic18\", \"Topic18\", \"Topic18\", \"Topic18\", \"Topic18\", \"Topic18\", \"Topic18\", \"Topic18\", \"Topic18\", \"Topic18\", \"Topic18\", \"Topic18\", \"Topic18\", \"Topic18\", \"Topic18\", \"Topic18\", \"Topic18\", \"Topic18\", \"Topic18\", \"Topic18\", \"Topic18\", \"Topic18\", \"Topic18\", \"Topic19\", \"Topic19\", \"Topic19\", \"Topic19\", \"Topic19\", \"Topic19\", \"Topic19\", \"Topic19\", \"Topic19\", \"Topic19\", \"Topic19\", \"Topic19\", \"Topic19\", \"Topic19\", \"Topic19\", \"Topic19\", \"Topic19\", \"Topic19\", \"Topic19\", \"Topic19\", \"Topic19\", \"Topic19\", \"Topic19\", \"Topic19\", \"Topic19\", \"Topic19\", \"Topic19\", \"Topic19\", \"Topic19\", \"Topic19\", \"Topic19\", \"Topic20\", \"Topic20\", \"Topic20\", \"Topic20\", \"Topic20\", \"Topic20\", \"Topic20\", \"Topic20\", \"Topic20\", \"Topic20\", \"Topic20\", \"Topic20\", \"Topic20\", \"Topic20\", \"Topic20\", \"Topic20\", \"Topic20\", \"Topic20\", \"Topic20\", \"Topic20\", \"Topic20\", \"Topic20\", \"Topic20\", \"Topic20\", \"Topic20\", \"Topic20\", \"Topic20\", \"Topic20\", \"Topic20\", \"Topic20\", \"Topic20\", \"Topic20\", \"Topic20\"], \"Freq\": [18112.0, 10130.0, 7235.0, 5890.0, 8222.0, 7315.0, 8011.0, 6670.0, 5983.0, 4798.0, 4206.0, 5755.0, 5348.0, 11153.0, 4734.0, 4680.0, 3213.0, 2968.0, 4054.0, 2890.0, 3742.0, 10076.0, 3224.0, 4577.0, 3076.0, 3067.0, 9142.0, 4686.0, 9021.0, 4563.0, 11152.1689453125, 9141.646484375, 9020.0048828125, 8903.49609375, 5948.90966796875, 5639.322265625, 5332.193359375, 5318.693359375, 5139.9306640625, 4282.12646484375, 4243.5205078125, 4130.55419921875, 4102.1083984375, 3759.35498046875, 3757.184326171875, 3669.51513671875, 3415.4189453125, 3372.851318359375, 3324.70556640625, 3049.302490234375, 2863.24365234375, 2620.27880859375, 2419.28564453125, 2378.857177734375, 2333.178466796875, 2318.688720703125, 2232.101806640625, 2118.39990234375, 2066.636474609375, 2034.750244140625, 2160.59912109375, 3988.79541015625, 7521.1865234375, 3049.849853515625, 3491.389404296875, 18111.74609375, 8010.34912109375, 5754.009765625, 4562.1435546875, 3216.709228515625, 2665.516357421875, 2579.2568359375, 2258.2705078125, 2194.69580078125, 1270.4490966796875, 1218.98876953125, 940.086669921875, 866.7457275390625, 735.7168579101562, 596.9310302734375, 488.11798095703125, 460.8038330078125, 402.3925476074219, 244.31439208984375, 185.04270935058594, 4604.67333984375, 30.307924270629883, 433.6768798828125, 285.3393859863281, 2554.21630859375, 342.1808166503906, 330.697998046875, 0.0869213193655014, 0.08689714223146439, 0.0868922621011734, 0.0868949443101883, 0.08689501136541367, 8220.9892578125, 4575.798828125, 3564.853515625, 3264.5546875, 2373.583984375, 2251.147705078125, 2188.654052734375, 1762.4595947265625, 1693.0350341796875, 1615.3748779296875, 1580.978759765625, 1371.8931884765625, 1266.37255859375, 1209.65087890625, 1096.757568359375, 1014.4390258789062, 977.8573608398438, 799.0007934570312, 715.7074584960938, 689.9119873046875, 675.6297607421875, 565.7254638671875, 522.4567260742188, 501.88800048828125, 425.7860107421875, 424.3902587890625, 416.0876770019531, 400.60504150390625, 388.4363708496094, 362.92242431640625, 3782.630126953125, 1193.5185546875, 6669.08837890625, 5347.69921875, 3285.861572265625, 2297.300048828125, 2077.587158203125, 1776.057861328125, 1729.027099609375, 1667.4912109375, 1583.6851806640625, 1301.5003662109375, 1265.6351318359375, 1261.5654296875, 1221.3778076171875, 1092.2421875, 903.5060424804688, 882.7566528320312, 811.62841796875, 765.872802734375, 760.0865478515625, 703.9430541992188, 680.6912231445312, 662.4784545898438, 619.4740600585938, 568.8264770507812, 497.9214782714844, 483.965576171875, 463.5571594238281, 449.2503356933594, 442.27252197265625, 440.85400390625, 1038.2144775390625, 1195.847412109375, 998.7015991210938, 5981.7822265625, 3854.0849609375, 3841.685302734375, 2174.024658203125, 2075.208984375, 2003.1015625, 1787.6883544921875, 1428.758056640625, 1308.4752197265625, 1097.430419921875, 1058.529052734375, 1039.998779296875, 1001.0641479492188, 981.6744384765625, 891.6624145507812, 706.1046142578125, 675.6485595703125, 665.1712036132812, 651.0587158203125, 565.7171630859375, 510.70599365234375, 454.6167907714844, 451.90167236328125, 451.50360107421875, 444.45147705078125, 443.99749755859375, 421.9221496582031, 377.3617858886719, 373.4736328125, 350.6438903808594, 1185.54638671875, 1899.1256103515625, 1177.1357421875, 460.11553955078125, 466.7293701171875, 461.18145751953125, 454.35675048828125, 7314.06591796875, 4733.0224609375, 4679.13720703125, 2397.160400390625, 2390.840087890625, 1299.847900390625, 1038.8087158203125, 1021.1101684570312, 963.4683227539062, 943.4238891601562, 932.415771484375, 919.75, 891.4154663085938, 874.1660766601562, 548.9827880859375, 496.04754638671875, 488.17254638671875, 485.83856201171875, 443.3883972167969, 439.37158203125, 425.9663391113281, 413.94366455078125, 393.3623352050781, 365.7569274902344, 345.67401123046875, 335.1695556640625, 329.94317626953125, 291.1995544433594, 289.4361572265625, 256.19091796875, 931.0492553710938, 1554.4932861328125, 4053.5283203125, 2452.777099609375, 1987.29638671875, 1919.35595703125, 1607.957275390625, 1545.6962890625, 1487.581787109375, 1262.1898193359375, 1220.7119140625, 1159.1290283203125, 1104.586669921875, 1084.7503662109375, 1039.68701171875, 1026.728759765625, 981.4955444335938, 853.9833984375, 733.0098266601562, 632.6661376953125, 627.4296875, 617.255859375, 599.1953735351562, 578.9869995117188, 533.5845336914062, 532.462890625, 516.3463134765625, 422.6166687011719, 408.86029052734375, 313.6090087890625, 306.41058349609375, 295.9300231933594, 312.33843994140625, 7234.2119140625, 2427.068359375, 1557.946044921875, 1053.97265625, 760.3330688476562, 747.5484008789062, 686.85693359375, 664.44189453125, 657.3455810546875, 629.9678955078125, 576.5191040039062, 554.6702880859375, 536.3871459960938, 497.3766174316406, 464.25054931640625, 407.80926513671875, 402.6800537109375, 400.4259033203125, 377.13201904296875, 362.9220275878906, 322.56207275390625, 316.4538269042969, 303.3816223144531, 300.74127197265625, 293.2568054199219, 281.85186767578125, 265.3236083984375, 258.09613037109375, 242.1293182373047, 236.23277282714844, 2070.086669921875, 310.9132385253906, 4796.78173828125, 3741.598388671875, 3387.951904296875, 2629.969970703125, 2306.3427734375, 1402.425537109375, 744.9494018554688, 723.5027465820312, 673.1376953125, 596.2340698242188, 590.9690551757812, 541.2767333984375, 448.25927734375, 412.68585205078125, 409.3766174316406, 377.7904052734375, 343.2364807128906, 340.2678527832031, 316.4718017578125, 288.2211608886719, 285.33636474609375, 281.3922424316406, 277.20196533203125, 274.9359436035156, 258.6141357421875, 258.573486328125, 238.6732177734375, 224.56715393066406, 198.25830078125, 179.74075317382812, 422.3709716796875, 2362.81298828125, 1968.3095703125, 1845.4854736328125, 1669.091796875, 1624.823974609375, 1465.1190185546875, 1261.3255615234375, 1131.1978759765625, 1004.611328125, 891.71630859375, 826.7332763671875, 756.2265014648438, 596.7723999023438, 568.0413818359375, 565.2230834960938, 547.460693359375, 498.96881103515625, 473.1114501953125, 420.63763427734375, 411.98187255859375, 348.2966003417969, 309.7369079589844, 298.0251770019531, 242.9324493408203, 227.75071716308594, 210.1016387939453, 204.8056182861328, 198.55152893066406, 191.20169067382812, 171.44073486328125, 205.36045837402344, 4205.7109375, 1721.9866943359375, 1647.519287109375, 1574.00048828125, 1121.09765625, 1115.3475341796875, 1100.3192138671875, 879.2774047851562, 800.8809814453125, 693.7523803710938, 640.4215698242188, 605.5167846679688, 539.6397094726562, 480.4937744140625, 433.66217041015625, 392.47174072265625, 337.9744873046875, 251.4122772216797, 236.0435791015625, 234.55218505859375, 232.31298828125, 210.3385772705078, 141.46070861816406, 111.6728744506836, 107.31107330322266, 107.24222564697266, 106.48596954345703, 58.96247863769531, 26.556699752807617, 19.877666473388672, 10128.7646484375, 3222.939697265625, 896.3764038085938, 363.77093505859375, 324.0653381347656, 313.748291015625, 291.7182312011719, 280.6494445800781, 279.7333679199219, 239.0972137451172, 218.23257446289062, 162.75843811035156, 141.31271362304688, 86.93712615966797, 75.93004608154297, 73.96637725830078, 65.08073425292969, 227.04843139648438, 0.081402987241745, 0.08140934258699417, 0.08139565587043762, 0.08140027523040771, 0.08139796555042267, 0.08139878511428833, 0.08139582723379135, 0.08139748126268387, 0.08139724284410477, 0.08139436691999435, 0.08139573037624359, 0.08139864355325699, 0.08139853179454803, 0.08140631020069122, 0.08139892667531967, 0.08140106499195099, 0.0813988447189331, 0.08139842003583908, 5889.41943359375, 2430.086669921875, 1857.10791015625, 1274.3056640625, 1229.3369140625, 998.8685913085938, 816.1616821289062, 641.2095336914062, 534.5733032226562, 330.01812744140625, 128.8060760498047, 47.25419235229492, 35.63090515136719, 19.261207580566406, 256.35382080078125, 0.07056571543216705, 0.07056571543216705, 0.07055588811635971, 0.07056976854801178, 0.07054838538169861, 0.07055475562810898, 0.07054396718740463, 0.0705425813794136, 0.07054609060287476, 0.07054149359464645, 0.07054291665554047, 0.0705399140715599, 0.07054071128368378, 0.07054568082094193, 0.07054096460342407, 0.0705513060092926, 0.07054755091667175, 0.07054437696933746, 0.07054204493761063, 3075.56787109375, 3066.5126953125, 1511.942626953125, 1074.6849365234375, 977.0881958007812, 890.387451171875, 843.871337890625, 782.1797485351562, 704.3330078125, 627.783203125, 538.4992065429688, 449.2302551269531, 377.1591796875, 267.2378845214844, 196.43081665039062, 159.9207763671875, 110.92142486572266, 104.74037170410156, 87.69789123535156, 62.79436492919922, 39.280765533447266, 27.942251205444336, 0.07065188139677048, 0.07064180076122284, 0.07063601166009903, 0.07064919918775558, 0.07063701003789902, 0.07063388079404831, 0.0706353485584259, 0.07063329219818115, 0.07064087688922882, 0.07063799351453781, 0.07063614577054977, 0.07064281404018402, 0.07063703238964081, 1660.8153076171875, 1512.728759765625, 1307.2452392578125, 1086.679931640625, 1025.038330078125, 913.828369140625, 903.6115112304688, 847.341552734375, 568.1929321289062, 483.5797119140625, 482.2838134765625, 398.9540100097656, 375.8258056640625, 331.8254699707031, 313.3251953125, 303.4578857421875, 293.1123962402344, 269.8350524902344, 235.90911865234375, 225.0755157470703, 214.93966674804688, 192.26980590820312, 181.11614990234375, 162.82249450683594, 162.40277099609375, 152.41302490234375, 140.51773071289062, 126.1917724609375, 101.50057220458984, 81.35760498046875, 1749.014404296875, 1365.6953125, 1214.2603759765625, 936.22998046875, 920.6266479492188, 918.6076049804688, 880.9922485351562, 762.9195556640625, 676.2520141601562, 623.6512451171875, 558.12744140625, 507.3893127441406, 390.9488525390625, 387.5562438964844, 371.10430908203125, 303.4361572265625, 265.62255859375, 236.16549682617188, 228.0359344482422, 225.50201416015625, 225.47743225097656, 212.90782165527344, 195.14602661132812, 168.75535583496094, 168.58689880371094, 109.07164001464844, 105.10486602783203, 100.54840850830078, 70.9916763305664, 68.20469665527344, 3211.829345703125, 2138.744384765625, 1429.1834716796875, 1099.8768310546875, 643.7859497070312, 577.4605102539062, 538.058349609375, 527.9469604492188, 444.1246337890625, 439.5920104980469, 409.55126953125, 301.90826416015625, 286.043701171875, 266.3408508300781, 218.82923889160156, 205.75914001464844, 144.0479736328125, 134.31204223632812, 129.5253143310547, 103.89723205566406, 61.79648971557617, 59.292022705078125, 51.3285026550293, 41.389442443847656, 118.18338012695312, 0.05801806226372719, 0.05801033973693848, 0.058008696883916855, 0.05800754576921463, 0.058012403547763824, 0.058009203523397446, 2967.416259765625, 2889.52197265625, 1121.1048583984375, 935.7365112304688, 804.591064453125, 549.931396484375, 104.54300689697266, 0.09875189512968063, 0.09875674545764923, 0.0987340658903122, 0.09872754663228989, 0.09874672442674637, 0.09872900694608688, 0.0987253189086914, 0.09873384237289429, 0.09872559458017349, 0.09872464835643768, 0.09873102605342865, 0.09872210770845413, 0.09872210770845413, 0.09872590750455856, 0.0987272709608078, 0.09872550517320633, 0.09873202443122864, 0.09872037172317505, 0.09871961176395416, 0.09872511774301529, 0.0987214669585228, 0.0987187847495079, 0.09872687608003616, 0.09873823076486588, 0.09872554242610931, 0.0987265482544899, 0.09872332960367203, 0.09872258454561234, 2229.36572265625, 1088.151123046875, 940.8024291992188, 909.1576538085938, 847.497802734375, 680.4014282226562, 545.7951049804688, 426.1258850097656, 425.28411865234375, 416.56829833984375, 360.6628723144531, 186.6321258544922, 137.2665557861328, 119.83544158935547, 113.3451156616211, 100.22673797607422, 96.62068939208984, 95.51239776611328, 23.359445571899414, 6.564370632171631, 0.04958821088075638, 0.04958178475499153, 0.04957324638962746, 0.04955948516726494, 0.04955955967307091, 0.049565721303224564, 0.04955952242016792, 0.04955580458045006, 0.049554500728845596, 0.04955266788601875, 0.04955504834651947, 1400.4168701171875, 817.162353515625, 669.42041015625, 639.8538208007812, 541.0393676757812, 534.9736938476562, 525.2503662109375, 495.7243347167969, 464.9908142089844, 398.5082702636719, 364.69921875, 311.7332458496094, 268.8206787109375, 259.0038757324219, 216.20449829101562, 200.9068603515625, 198.83126831054688, 181.62242126464844, 150.42105102539062, 133.00912475585938, 113.84124755859375, 105.394775390625, 102.59657287597656, 77.90019989013672, 0.07207701355218887, 0.07207175344228745, 0.0720691829919815, 0.07207085192203522, 0.0720653310418129, 0.07206454873085022, 0.07206809520721436, 0.07206761091947556, 0.07206885516643524], \"Term\": [\"datum\", \"temperature\", \"material\", \"spacecraft\", \"time\", \"sensor\", \"set\", \"nbsp\", \"model\", \"flight\", \"image\", \"instrument\", \"power\", \"technology\", \"surface\", \"structure\", \"water\", \"file\", \"product\", \"eperiment\", \"control\", \"mission\", \"pressure\", \"level\", \"energy\", \"source\", \"performance\", \"phase\", \"system\", \"information\", \"technology\", \"performance\", \"system\", \"design\", \"application\", \"space\", \"process\", \"test\", \"use\", \"project\", \"environment\", \"program\", \"development\", \"operation\", \"component\", \"approach\", \"technique\", \"effort\", \"need\", \"work\", \"result\", \"concept\", \"laser\", \"study\", \"element\", \"cell\", \"detection\", \"support\", \"effect\", \"requirement\", \"high\", \"capability\", \"mission\", \"method\", \"cost\", \"datum\", \"set\", \"instrument\", \"information\", \"measurement\", \"science\", \"field\", \"observation\", \"resolution\", \"calibration\", \"region\", \"degree\", \"encounter\", \"dust\", \"community\", \"eperience\", \"cruise\", \"frame\", \"archive\", \"wafer\", \"phase\", \"graph\", \"consist\", \"second\", \"mission\", \"addition\", \"type\", \"impact\", \"medium\", \"comet\", \"table\", \"date\", \"time\", \"level\", \"rate\", \"data\", \"processing\", \"change\", \"number\", \"communication\", \"year\", \"speed\", \"form\", \"accuracy\", \"position\", \"parameter\", \"precision\", \"earth\", \"velocity\", \"line\", \"link\", \"measure\", \"distance\", \"difference\", \"manner\", \"agent\", \"km\", \"modulation\", \"efficient\", \"real\", \"shift\", \"correction\", \"range\", \"point\", \"nbsp\", \"power\", \"device\", \"efficiency\", \"size\", \"weight\", \"volume\", \"fabrication\", \"detector\", \"sensitivity\", \"unit\", \"reduction\", \"layer\", \"array\", \"package\", \"loss\", \"manufacture\", \"wavelength\", \"voltage\", \"substrate\", \"electronic\", \"low\", \"conductivity\", \"camera\", \"wire\", \"optic\", \"cool\", \"fleibility\", \"telescope\", \"mirror\", \"demonstration\", \"generation\", \"cost\", \"model\", \"tool\", \"software\", \"analysis\", \"problem\", \"task\", \"simulation\", \"failure\", \"proposal\", \"activity\", \"interaction\", \"resource\", \"dynamic\", \"implementation\", \"prediction\", \"interface\", \"characteristic\", \"computer\", \"procedure\", \"framework\", \"simulator\", \"planning\", \"machine\", \"advance\", \"strategy\", \"eample\", \"memory\", \"visualization\", \"module\", \"variable\", \"evaluation\", \"order\", \"feature\", \"way\", \"plan\", \"capability\", \"generation\", \"sensor\", \"surface\", \"structure\", \"feasibility\", \"area\", \"composite\", \"equipment\", \"monitoring\", \"network\", \"configuration\", \"shape\", \"polymer\", \"sense\", \"monitor\", \"force\", \"construction\", \"room\", \"strain\", \"regolith\", \"contact\", \"assembly\", \"role\", \"phenomenon\", \"chemical\", \"integrity\", \"formulation\", \"day\", \"creation\", \"meter\", \"switch\", \"variety\", \"state\", \"product\", \"production\", \"quality\", \"period\", \"user\", \"hydrogen\", \"collection\", \"core\", \"reactor\", \"operator\", \"opportunity\", \"atmosphere\", \"site\", \"access\", \"maintenance\", \"hour\", \"view\", \"methane\", \"basis\", \"decade\", \"limitation\", \"contamination\", \"land\", \"plasma\", \"functionality\", \"landing\", \"library\", \"stack\", \"relative\", \"intervention\", \"way\", \"material\", \"radiation\", \"fiber\", \"metal\", \"payload\", \"film\", \"growth\", \"increase\", \"carbon\", \"coat\", \"coating\", \"thrust\", \"ratio\", \"vacuum\", \"aperture\", \"recovery\", \"delivery\", \"training\", \"reaction\", \"catalyst\", \"return\", \"bandwidth\", \"alloy\", \"shield\", \"section\", \"crewmember\", \"transmission\", \"mitigation\", \"amount\", \"save\", \"property\", \"term\", \"flight\", \"control\", \"vehicle\", \"aircraft\", \"flow\", \"particle\", \"consumption\", \"air\", \"separation\", \"capacity\", \"valve\", \"transport\", \"pilot\", \"weather\", \"demand\", \"aerospace\", \"yield\", \"airspace\", \"airport\", \"throughput\", \"heating\", \"effectiveness\", \"correlation\", \"build\", \"feed\", \"soil\", \"isolation\", \"gradient\", \"delay\", \"epert\", \"benefit\", \"propulsion\", \"research\", \"fuel\", \"thruster\", \"density\", \"target\", \"load\", \"ion\", \"liquid\", \"strength\", \"class\", \"case\", \"transition\", \"ice\", \"cathode\", \"identification\", \"chip\", \"protection\", \"beam\", \"electrode\", \"probe\", \"automation\", \"verification\", \"ver\", \"bind\", \"grain\", \"possibility\", \"regression\", \"molecule\", \"small\", \"benefit\", \"image\", \"value\", \"filter\", \"contain\", \"object\", \"uncertainty\", \"distribution\", \"error\", \"dataset\", \"infrastructure\", \"sequence\", \"mean\", \"multi\", \"center\", \"color\", \"variation\", \"consideration\", \"bond\", \"compound\", \"spectrum\", \"fit\", \"net\", \"additional\", \"baseline\", \"magnitude\", \"collaborator\", \"ionization\", \"patent\", \"move\", \"absolute\", \"temperature\", \"pressure\", \"profile\", \"compression\", \"diffraction\", \"remote\", \"list\", \"item\", \"cloud\", \"history\", \"generator\", \"precipitation\", \"deck\", \"analyst\", \"statistic\", \"height\", \"regulator\", \"condition\", \"see\", \"tank\", \"microsensor\", \"foam\", \"heat_echanger\", \"capacitor\", \"fastener\", \"adhesion\", \"vessel\", \"swing\", \"resin\", \"corrosion\", \"electron\", \"impact\", \"pump\", \"damage\", \"propose\", \"altitude\", \"spacecraft\", \"satellite\", \"event\", \"orbit\", \"formation\", \"version\", \"planet\", \"record\", \"track\", \"ring\", \"orientation\", \"accumulation\", \"right\", \"inclination\", \"feature\", \"union_iau\", \"founding\", \"attitude\", \"impact\", \"srp\", \"altitude\", \"storm\", \"agency_cnese\", \"determination\", \"repair\", \"alignment\", \"star\", \"bone\", \"success\", \"tracking\", \"decision\", \"fault\", \"damage\", \"tank\", \"energy\", \"source\", \"frequency\", \"thermal\", \"light\", \"band\", \"paper\", \"wind\", \"signal\", \"emission\", \"charge\", \"column\", \"direction\", \"impedance\", \"course\", \"amplitude\", \"publication\", \"interferometer\", \"inversion\", \"retrieval\", \"diffuse\", \"waveform\", \"electron\", \"turbulence\", \"crosswind\", \"damage\", \"intensity\", \"wake\", \"coordinate\", \"divergence\", \"path\", \"table\", \"pulse\", \"impact\", \"engineering\", \"management\", \"heat\", \"fluid\", \"advantage\", \"transfer\", \"behavior\", \"actuator\", \"stability\", \"investigation\", \"removal\", \"lunar\", \"loop\", \"polarization\", \"question\", \"scientist\", \"drop\", \"completion\", \"designer\", \"instability\", \"calculation\", \"window\", \"topic\", \"diagnosis\", \"equation\", \"variability\", \"regeneration\", \"observatory\", \"direct\", \"footprint\", \"learn\", \"solution\", \"mode\", \"battery\", \"manufacturing\", \"output\", \"motion\", \"body\", \"deployment\", \"ersity\", \"motor\", \"mechanism\", \"robot\", \"nozzle\", \"propagation\", \"action\", \"constraint\", \"hand\", \"drag\", \"base\", \"arm\", \"turn\", \"demonstrate\", \"injector\", \"definition\", \"maneuver\", \"idea\", \"fly\", \"momentum\", \"perturbation\", \"generate\", \"water\", \"gas\", \"sample\", \"crew\", \"packaging\", \"suit\", \"waste\", \"concentration\", \"gravity\", \"subsystem\", \"treatment\", \"food\", \"consumable\", \"content\", \"connection\", \"contaminant\", \"total\", \"nitrogen\", \"organic\", \"marker\", \"ppm\", \"emu\", \"clean\", \"long\", \"life\", \"stream\", \"steam\", \"wastewater\", \"bag\", \"pump\", \"propose\", \"file\", \"eperiment\", \"location\", \"radio\", \"station\", \"dimension\", \"span\", \"pair\", \"tree\", \"grid\", \"overall\", \"decision\", \"tracking\", \"zip\", \"table\", \"would\", \"cgn\", \"tissue\", \"conform_ud\", \"convention_name\", \"inch\", \"minute\", \"documentation\", \"date\", \"folder\", \"edr\", \"stand\", \"spice\", \"pd\", \"subject\", \"fault\", \"code\", \"scenario\", \"algorithm\", \"altitude\", \"engine\", \"launch\", \"storage\", \"rocket\", \"propellant\", \"acquisition\", \"standard\", \"metric\", \"chamber\", \"oygen\", \"leak\", \"host\", \"viability\", \"refinement\", \"progress\", \"cylinder\", \"cryogenic\", \"note\", \"shadow\", \"booster\", \"tree\", \"decision\", \"tank\", \"combustion\", \"stand\", \"fault\", \"pump\", \"seal\", \"inch\", \"alarm\", \"corrosion\", \"noise\", \"format\", \"understanding\", \"plane\", \"wing\", \"cryocooler\", \"radar\", \"reference\", \"entry\", \"specification\", \"description\", \"tube\", \"trade\", \"literature\", \"report\", \"perform\", \"detail\", \"document\", \"acoustic\", \"attribute\", \"flag\", \"magnetometer\", \"equivalent\", \"ir\", \"vibration\", \"photodetector\", \"assertion\", \"grid\", \"epectation\", \"cgn\", \"background\", \"domain\", \"impact\"], \"Total\": [18112.0, 10130.0, 7235.0, 5890.0, 8222.0, 7315.0, 8011.0, 6670.0, 5983.0, 4798.0, 4206.0, 5755.0, 5348.0, 11153.0, 4734.0, 4680.0, 3213.0, 2968.0, 4054.0, 2890.0, 3742.0, 10076.0, 3224.0, 4577.0, 3076.0, 3067.0, 9142.0, 4686.0, 9021.0, 4563.0, 11153.4423828125, 9142.919921875, 9021.2783203125, 8904.76953125, 5950.18505859375, 5640.59765625, 5333.46875, 5319.96875, 5141.2060546875, 4283.40185546875, 4244.7958984375, 4131.82958984375, 4103.3837890625, 3760.630859375, 3758.460205078125, 3670.791015625, 3416.69482421875, 3374.127197265625, 3325.9814453125, 3050.578369140625, 2864.51953125, 2621.5546875, 2420.5615234375, 2380.133056640625, 2334.454345703125, 2319.964599609375, 2233.377685546875, 2119.67578125, 2067.912353515625, 2036.0255126953125, 2181.19189453125, 4451.1953125, 10076.5888671875, 3363.626220703125, 4491.31396484375, 18112.98828125, 8011.591796875, 5755.25244140625, 4563.38623046875, 3217.95263671875, 2666.759765625, 2580.500244140625, 2259.513916015625, 2195.939208984375, 1271.6917724609375, 1220.2314453125, 941.3295288085938, 867.9885864257812, 736.959716796875, 598.1738891601562, 489.36077880859375, 462.046630859375, 403.6353454589844, 245.55718994140625, 186.28550720214844, 4686.7998046875, 31.55072784423828, 500.87640380859375, 506.7126159667969, 10076.5888671875, 1678.449951171875, 1732.2977294921875, 1.3301039934158325, 1.3298004865646362, 1.3297454118728638, 1.3298283815383911, 1.3298444747924805, 8222.244140625, 4577.0556640625, 3566.110595703125, 3265.811767578125, 2374.841064453125, 2252.40478515625, 2189.9111328125, 1763.71630859375, 1694.291748046875, 1616.631591796875, 1582.2354736328125, 1373.14990234375, 1267.6292724609375, 1210.9075927734375, 1098.0142822265625, 1015.6958618164062, 979.1141967773438, 800.2576293945312, 716.9642944335938, 691.1688232421875, 676.8865966796875, 566.9822998046875, 523.7135620117188, 503.1447448730469, 427.0427551269531, 425.6470031738281, 417.34442138671875, 401.8617858886719, 389.693115234375, 364.1791687011719, 3884.04736328125, 1271.73876953125, 6670.36572265625, 5348.9765625, 3287.138916015625, 2298.577392578125, 2078.864501953125, 1777.3348388671875, 1730.3040771484375, 1668.7681884765625, 1584.962158203125, 1302.77734375, 1266.912109375, 1262.8424072265625, 1222.65478515625, 1093.5191650390625, 904.7831420898438, 884.0337524414062, 812.905517578125, 767.14990234375, 761.3636474609375, 705.2201538085938, 681.9683227539062, 663.7555541992188, 620.7511596679688, 570.1035766601562, 499.1985168457031, 485.24261474609375, 464.8341979980469, 450.5273742675781, 443.549560546875, 442.13104248046875, 1108.4986572265625, 1651.4239501953125, 4491.31396484375, 5983.0546875, 3855.35791015625, 3842.958251953125, 2175.297607421875, 2076.48193359375, 2004.3740234375, 1788.9608154296875, 1430.030517578125, 1309.7476806640625, 1098.702880859375, 1059.801513671875, 1041.271240234375, 1002.3367919921875, 982.9470825195312, 892.93505859375, 707.3772583007812, 676.9212036132812, 666.44384765625, 652.3313598632812, 566.9898071289062, 511.9785461425781, 455.88934326171875, 453.1742248535156, 452.7761535644531, 445.7240295410156, 445.2700500488281, 423.1947021484375, 378.63433837890625, 374.7461853027344, 351.91644287109375, 1210.44482421875, 2219.22900390625, 1434.6915283203125, 773.6348876953125, 1048.7969970703125, 4451.1953125, 1651.4239501953125, 7315.333984375, 4734.29052734375, 4680.4052734375, 2398.4287109375, 2392.1083984375, 1301.1158447265625, 1040.07666015625, 1022.378173828125, 964.736328125, 944.69189453125, 933.6837768554688, 921.0180053710938, 892.6834716796875, 875.43408203125, 550.2507934570312, 497.3155212402344, 489.4405212402344, 487.1065368652344, 444.6563720703125, 440.6395568847656, 427.23431396484375, 415.2116394042969, 394.63031005859375, 367.02490234375, 346.9419860839844, 336.4375305175781, 331.2111511230469, 292.467529296875, 290.7041320800781, 257.4588928222656, 941.3021850585938, 1732.0404052734375, 4054.766357421875, 2454.01513671875, 1988.534423828125, 1920.593994140625, 1609.1953125, 1546.934326171875, 1488.81982421875, 1263.4278564453125, 1221.949951171875, 1160.3670654296875, 1105.82470703125, 1085.9884033203125, 1040.925048828125, 1027.966796875, 982.7335205078125, 855.2213745117188, 734.247802734375, 633.9041137695312, 628.6676635742188, 618.4938354492188, 600.433349609375, 580.2249755859375, 534.822509765625, 533.7008666992188, 517.5842895507812, 423.8546142578125, 410.0982360839844, 314.8469543457031, 307.6485290527344, 297.16796875, 773.6348876953125, 7235.490234375, 2428.346923828125, 1559.224609375, 1055.251220703125, 761.611572265625, 748.826904296875, 688.1354370117188, 665.7203979492188, 658.6240844726562, 631.2463989257812, 577.797607421875, 555.9487915039062, 537.6656494140625, 498.65509033203125, 465.5290222167969, 409.0877380371094, 403.9585266113281, 401.7043762207031, 378.4104919433594, 364.20050048828125, 323.8405456542969, 317.7322998046875, 304.66009521484375, 302.0197448730469, 294.5352783203125, 283.1303405761719, 266.6020812988281, 259.3746032714844, 243.4077911376953, 237.51124572753906, 2164.137451171875, 583.7617797851562, 4798.05859375, 3742.875244140625, 3389.228759765625, 2631.246826171875, 2307.61962890625, 1403.7022705078125, 746.2261352539062, 724.7794799804688, 674.4144287109375, 597.5108032226562, 592.2457885742188, 542.553466796875, 449.5359802246094, 413.9625549316406, 410.6533203125, 379.0671081542969, 344.51318359375, 341.5445556640625, 317.7485046386719, 289.49786376953125, 286.6130676269531, 282.6689453125, 278.4786682128906, 276.212646484375, 259.8908386230469, 259.8501892089844, 239.94992065429688, 225.84385681152344, 199.53500366210938, 181.0174560546875, 934.755615234375, 2364.085693359375, 1969.582275390625, 1846.7581787109375, 1670.364501953125, 1626.0966796875, 1466.3917236328125, 1262.5982666015625, 1132.4705810546875, 1005.8839111328125, 892.9888916015625, 828.005859375, 757.4990844726562, 598.0449829101562, 569.31396484375, 566.4956665039062, 548.7332763671875, 500.24139404296875, 474.384033203125, 421.91021728515625, 413.25445556640625, 349.5691833496094, 311.0094909667969, 299.2977600097656, 244.20506286621094, 229.02333068847656, 211.37425231933594, 206.07823181152344, 199.8241424560547, 192.47430419921875, 172.71334838867188, 934.755615234375, 4206.96044921875, 1723.236083984375, 1648.7686767578125, 1575.2498779296875, 1122.3470458984375, 1116.596923828125, 1101.568603515625, 880.526611328125, 802.1301879882812, 695.0015869140625, 641.6707763671875, 606.7659912109375, 540.888916015625, 481.74298095703125, 434.911376953125, 393.720947265625, 339.22369384765625, 252.66148376464844, 237.29278564453125, 235.8013916015625, 233.56219482421875, 211.58778381347656, 142.7099151611328, 112.9220962524414, 108.56029510498047, 108.49144744873047, 107.73519134521484, 60.21169662475586, 27.805923461914062, 21.126890182495117, 10130.0126953125, 3224.18798828125, 897.6246948242188, 365.0191955566406, 325.3135986328125, 314.9965515136719, 292.96649169921875, 281.897705078125, 280.98162841796875, 240.34548950195312, 219.48085021972656, 164.0067138671875, 142.5609893798828, 88.18541717529297, 77.17833709716797, 75.21466827392578, 66.32902526855469, 2466.794677734375, 1.3297725915908813, 1.3298858404159546, 1.3296955823898315, 1.3297730684280396, 1.329735517501831, 1.3297538757324219, 1.3297115564346313, 1.3297480344772339, 1.3297474384307861, 1.3297027349472046, 1.3297303915023804, 1.3297818899154663, 1.3298120498657227, 1.3301039934158325, 1.329869031906128, 1.3299874067306519, 1.329878807067871, 1.3298825025558472, 5890.6787109375, 2431.345703125, 1858.3670654296875, 1275.5648193359375, 1230.5960693359375, 1000.1277465820312, 817.4208374023438, 642.4686889648438, 535.8324584960938, 331.2772521972656, 130.06521606445312, 48.51333999633789, 36.890052795410156, 20.520355224609375, 1434.6915283203125, 1.3297313451766968, 1.3297313451766968, 1.3297951221466064, 1.3301039934158325, 1.3297313451766968, 1.3298825025558472, 1.329722285270691, 1.3297076225280762, 1.3297826051712036, 1.3297324180603027, 1.3297781944274902, 1.3297265768051147, 1.3297425508499146, 1.329836368560791, 1.3297529220581055, 1.329984426498413, 1.3299767971038818, 1.3299874067306519, 1.3298858404159546, 3076.826904296875, 3067.771728515625, 1513.20166015625, 1075.9439697265625, 978.3472290039062, 891.646484375, 845.13037109375, 783.4387817382812, 705.592041015625, 629.042236328125, 539.7582397460938, 450.48931884765625, 378.418212890625, 268.4969482421875, 197.6898651123047, 161.17982482910156, 112.18047332763672, 105.99942016601562, 88.95693969726562, 64.05341339111328, 40.539817810058594, 29.201305389404297, 1.3298120498657227, 1.3297855854034424, 1.329709529876709, 1.3299874067306519, 1.329763650894165, 1.3297137022018433, 1.3297499418258667, 1.329713225364685, 1.3298885822296143, 1.3298283815383911, 1.3297858238220215, 1.3301039934158325, 1.329903483390808, 1662.089599609375, 1514.0030517578125, 1308.51953125, 1087.9542236328125, 1026.3126220703125, 915.1026000976562, 904.8857421875, 848.6157836914062, 569.4671630859375, 484.8539733886719, 483.5580749511719, 400.228271484375, 377.1000671386719, 333.0997314453125, 314.5994567871094, 304.7321472167969, 294.38665771484375, 271.10931396484375, 237.18336486816406, 226.34976196289062, 216.2139129638672, 193.54405212402344, 182.39039611816406, 164.09674072265625, 163.67701721191406, 153.68727111816406, 141.79197692871094, 127.46602630615234, 102.77482604980469, 82.6318588256836, 1750.2896728515625, 1366.9705810546875, 1215.53564453125, 937.5051879882812, 921.90185546875, 919.8828125, 882.2674560546875, 764.1947631835938, 677.5272216796875, 624.9264526367188, 559.4026489257812, 508.6645202636719, 392.22406005859375, 388.8314514160156, 372.3795166015625, 304.71136474609375, 266.89776611328125, 237.44070434570312, 229.31114196777344, 226.7772216796875, 226.7526397705078, 214.1830291748047, 196.42123413085938, 170.0305633544922, 169.8621063232422, 110.34684753417969, 106.38007354736328, 101.82361602783203, 72.26688385009766, 69.47990417480469, 3213.100830078125, 2140.015869140625, 1430.4552001953125, 1101.1485595703125, 645.0576782226562, 578.7322387695312, 539.330078125, 529.2186889648438, 445.39630126953125, 440.8636779785156, 410.82293701171875, 303.179931640625, 287.31536865234375, 267.6125183105469, 220.10092163085938, 207.03082275390625, 145.3196563720703, 135.58372497558594, 130.7969970703125, 105.16891479492188, 63.068172454833984, 60.56370544433594, 52.60018539428711, 42.66112518310547, 1707.7633056640625, 1.3298288583755493, 1.3297239542007446, 1.3297146558761597, 1.3297407627105713, 1.329869031906128, 1.329878807067871, 2968.647216796875, 2890.7529296875, 1122.3358154296875, 936.967529296875, 805.8220825195312, 551.1624145507812, 105.77397155761719, 1.3297691345214844, 1.329849123954773, 1.3297544717788696, 1.329707384109497, 1.329984426498413, 1.3297529220581055, 1.3297119140625, 1.3298283815383911, 1.3297241926193237, 1.3297137022018433, 1.329801321029663, 1.3296958208084106, 1.3296958208084106, 1.3297475576400757, 1.3297728300094604, 1.3297542333602905, 1.3298444747924805, 1.3296966552734375, 1.3297014236450195, 1.3297772407531738, 1.3297326564788818, 1.3296997547149658, 1.3298097848892212, 1.3299767971038818, 1.329797387123108, 1.3298202753067017, 1.3297685384750366, 1.3298825025558472, 2230.645751953125, 1089.4312744140625, 942.0825805664062, 910.4378051757812, 848.7779541015625, 681.6815795898438, 547.0752563476562, 427.406005859375, 426.5642395019531, 417.8484191894531, 361.9429931640625, 187.91224670410156, 138.5466766357422, 121.11557006835938, 114.625244140625, 101.50686645507812, 97.90081787109375, 96.79252624511719, 24.639577865600586, 7.844501495361328, 1.329849123954773, 1.329984426498413, 1.3298858404159546, 1.329774022102356, 1.3297772407531738, 1.3299767971038818, 1.329869031906128, 1.3297752141952515, 1.3297475576400757, 1.329707384109497, 1.3297818899154663, 1401.6744384765625, 818.4199829101562, 670.6780395507812, 641.1114501953125, 542.2969970703125, 536.2313232421875, 526.5079956054688, 496.9819641113281, 466.2484436035156, 399.7658996582031, 365.95684814453125, 312.9908752441406, 270.07830810546875, 260.2615051269531, 217.46212768554688, 202.16448974609375, 200.08889770507812, 182.8800506591797, 151.67868041992188, 134.26675415039062, 115.09886932373047, 106.65239715576172, 103.85419464111328, 79.15782165527344, 1.3298306465148926, 1.329742193222046, 1.3297067880630493, 1.3297544717788696, 1.3297146558761597, 1.3297137022018433, 1.329782485961914, 1.3298181295394897, 1.3301039934158325], \"loglift\": [30.0, 29.0, 28.0, 27.0, 26.0, 25.0, 24.0, 23.0, 22.0, 21.0, 20.0, 19.0, 18.0, 17.0, 16.0, 15.0, 14.0, 13.0, 12.0, 11.0, 10.0, 9.0, 8.0, 7.0, 6.0, 5.0, 4.0, 3.0, 2.0, 1.0, 1.2496999502182007, 1.2496000528335571, 1.2496000528335571, 1.2496000528335571, 1.2496000528335571, 1.2496000528335571, 1.249500036239624, 1.249500036239624, 1.249500036239624, 1.249500036239624, 1.249500036239624, 1.249500036239624, 1.249500036239624, 1.249400019645691, 1.249400019645691, 1.249400019645691, 1.249400019645691, 1.249400019645691, 1.249400019645691, 1.249400019645691, 1.2493000030517578, 1.2493000030517578, 1.2493000030517578, 1.2493000030517578, 1.2491999864578247, 1.2491999864578247, 1.2491999864578247, 1.2491999864578247, 1.2491999864578247, 1.2491999864578247, 1.2403000593185425, 1.1401000022888184, 0.9573000073432922, 1.151900053024292, 0.9979000091552734, 2.4509999752044678, 2.450900077819824, 2.450900077819824, 2.4507999420166016, 2.450700044631958, 2.4505999088287354, 2.4505999088287354, 2.450500011444092, 2.450500011444092, 2.4500999450683594, 2.4500999450683594, 2.4498000144958496, 2.449700117111206, 2.449399948120117, 2.4489998817443848, 2.4486000537872314, 2.4484000205993652, 2.447999954223633, 2.446000099182129, 2.4444000720977783, 2.4333999156951904, 2.410900115966797, 2.306999921798706, 1.8767999410629272, 1.0786000490188599, 0.86080002784729, 0.7950999736785889, -0.2768999934196472, -0.2770000100135803, -0.2770000100135803, -0.2770000100135803, -0.2770000100135803, 2.6205999851226807, 2.620500087738037, 2.6203999519348145, 2.620300054550171, 2.6201999187469482, 2.6201999187469482, 2.6201999187469482, 2.619999885559082, 2.619999885559082, 2.619999885559082, 2.6198999881744385, 2.619800090789795, 2.6196999549865723, 2.6196999549865723, 2.6196000576019287, 2.619499921798706, 2.6194000244140625, 2.6191999912261963, 2.61899995803833, 2.6189000606536865, 2.6189000606536865, 2.618499994277954, 2.618299961090088, 2.6182000637054443, 2.617799997329712, 2.617799997329712, 2.6177000999450684, 2.6175999641418457, 2.617500066757202, 2.617300033569336, 2.5943000316619873, 2.557300090789795, 2.6217000484466553, 2.6215999126434326, 2.621500015258789, 2.621299982070923, 2.6212000846862793, 2.6210999488830566, 2.6210999488830566, 2.6210999488830566, 2.621000051498413, 2.6208999156951904, 2.620800018310547, 2.620800018310547, 2.620800018310547, 2.620699882507324, 2.6203999519348145, 2.6203999519348145, 2.620300054550171, 2.6201999187469482, 2.6201999187469482, 2.619999885559082, 2.619999885559082, 2.6198999881744385, 2.619800090789795, 2.6196000576019287, 2.61929988861084, 2.6191999912261963, 2.6191000938415527, 2.61899995803833, 2.61899995803833, 2.61899995803833, 2.556299924850464, 2.299099922180176, 1.118399977684021, 2.691200017929077, 2.6910998821258545, 2.6910998821258545, 2.6909000873565674, 2.6907999515533447, 2.6907999515533447, 2.690700054168701, 2.6905999183654785, 2.690500020980835, 2.6902999877929688, 2.6902999877929688, 2.690200090408325, 2.690200090408325, 2.690200090408325, 2.690000057220459, 2.68969988822937, 2.6895999908447266, 2.689500093460083, 2.689500093460083, 2.689199924468994, 2.688999891281128, 2.688699960708618, 2.6886000633239746, 2.6886000633239746, 2.6886000633239746, 2.6886000633239746, 2.6884000301361084, 2.6881000995635986, 2.6881000995635986, 2.6877999305725098, 2.6707000732421875, 2.5357000827789307, 2.4935998916625977, 2.171799898147583, 1.8818000555038452, 0.4242999851703644, 1.4009000062942505, 2.8785998821258545, 2.8785998821258545, 2.878499984741211, 2.8782999515533447, 2.8782999515533447, 2.8777999877929688, 2.8775999546051025, 2.8775999546051025, 2.877500057220459, 2.877500057220459, 2.877500057220459, 2.8773999214172363, 2.8773999214172363, 2.8773999214172363, 2.876499891281128, 2.876300096511841, 2.876199960708618, 2.876199960708618, 2.875999927520752, 2.8759000301361084, 2.8757998943328857, 2.8757998943328857, 2.8756000995635986, 2.8754000663757324, 2.875200033187866, 2.875, 2.875, 2.874500036239624, 2.8743999004364014, 2.8738999366760254, 2.8678998947143555, 2.770699977874756, 3.078399896621704, 3.078200101852417, 3.0780999660491943, 3.0780999660491943, 3.078000068664551, 3.077899932861328, 3.077899932861328, 3.0778000354766846, 3.077699899673462, 3.077699899673462, 3.0776000022888184, 3.0776000022888184, 3.0776000022888184, 3.077500104904175, 3.077500104904175, 3.0773000717163086, 3.0771000385284424, 3.0768001079559326, 3.0768001079559326, 3.07669997215271, 3.07669997215271, 3.0766000747680664, 3.0764000415802, 3.0764000415802, 3.0762999057769775, 3.0757999420166016, 3.075700044631958, 3.0748000144958496, 3.074700117111206, 3.0745999813079834, 2.1717000007629395, 3.2297000885009766, 3.229300022125244, 3.2290000915527344, 3.228600025177002, 3.2281999588012695, 3.228100061416626, 3.2279999256134033, 3.2279000282287598, 3.2279000282287598, 3.227799892425537, 3.22760009765625, 3.2274999618530273, 3.2274999618530273, 3.227299928665161, 3.227099895477295, 3.2267000675201416, 3.2267000675201416, 3.2267000675201416, 3.2265000343322754, 3.226300001144409, 3.2258999347686768, 3.225800037384033, 3.225600004196167, 3.225600004196167, 3.2255001068115234, 3.2253000736236572, 3.2249999046325684, 3.224900007247925, 3.224600076675415, 3.224400043487549, 3.1854000091552734, 2.599900007247925, 3.250499963760376, 3.2504000663757324, 3.2504000663757324, 3.2502999305725098, 3.250200033187866, 3.2499001026153564, 3.2490999698638916, 3.249000072479248, 3.2488999366760254, 3.248699903488159, 3.2486000061035156, 3.2483999729156494, 3.2479000091552734, 3.2476999759674072, 3.2476999759674072, 3.2474000453948975, 3.2471001148223877, 3.246999979019165, 3.246799945831299, 3.2464001178741455, 3.246299982070923, 3.246299982070923, 3.2462000846862793, 3.2462000846862793, 3.2458999156951904, 3.2458999156951904, 3.245500087738037, 3.2451000213623047, 3.2444000244140625, 3.2437000274658203, 2.456399917602539, 3.3803000450134277, 3.380199909210205, 3.3801000118255615, 3.380000114440918, 3.380000114440918, 3.3798999786376953, 3.3798000812530518, 3.379699945449829, 3.379499912261963, 3.3794000148773193, 3.379300117492676, 3.3791000843048096, 3.378700017929077, 3.3785998821258545, 3.3785998821258545, 3.378499984741211, 3.3782999515533447, 3.3780999183654785, 3.3777999877929688, 3.377700090408325, 3.37719988822937, 3.376699924468994, 3.376499891281128, 3.3756000995635986, 3.375200033187866, 3.374799966812134, 3.3745999336242676, 3.3743999004364014, 3.3742001056671143, 3.3733999729156494, 1.8653000593185425, 3.5817999839782715, 3.581399917602539, 3.581399917602539, 3.5813000202178955, 3.5810000896453857, 3.5810000896453857, 3.5810000896453857, 3.580699920654297, 3.5806000232696533, 3.5803000926971436, 3.580199956893921, 3.5799999237060547, 3.5797998905181885, 3.5794999599456787, 3.579200029373169, 3.578900098800659, 3.578399896621704, 3.577199935913086, 3.5768001079559326, 3.5768001079559326, 3.57669997215271, 3.576200008392334, 3.5732998847961426, 3.571000099182129, 3.570499897003174, 3.570499897003174, 3.5703999996185303, 3.5611000061035156, 3.536099910736084, 3.521199941635132, 3.7167999744415283, 3.716599941253662, 3.71560001373291, 3.7135000228881836, 3.713099956512451, 3.7130000591278076, 3.7126998901367188, 3.7125000953674316, 3.7125000953674316, 3.711699962615967, 3.711199998855591, 3.7093000411987305, 3.708199977874756, 3.702699899673462, 3.7005999088287354, 3.700200080871582, 3.697999954223633, 1.3314000368118286, 0.9236000180244446, 0.9236000180244446, 0.9236000180244446, 0.9236000180244446, 0.9236000180244446, 0.9236000180244446, 0.9236000180244446, 0.9236000180244446, 0.9235000014305115, 0.9235000014305115, 0.9235000014305115, 0.9235000014305115, 0.9235000014305115, 0.9233999848365784, 0.9235000014305115, 0.9233999848365784, 0.9235000014305115, 0.9235000014305115, 3.7767999172210693, 3.7764999866485596, 3.776400089263916, 3.776099920272827, 3.7760000228881836, 3.7757999897003174, 3.7755000591278076, 3.775099992752075, 3.7746999263763428, 3.7732999324798584, 3.7672998905181885, 3.7507998943328857, 3.742300033569336, 3.71370005607605, 2.0548999309539795, 0.8409000039100647, 0.8409000039100647, 0.8406999707221985, 0.8406000137329102, 0.8406000137329102, 0.8406000137329102, 0.8406000137329102, 0.8406000137329102, 0.8406000137329102, 0.840499997138977, 0.840499997138977, 0.840499997138977, 0.840499997138977, 0.840499997138977, 0.840499997138977, 0.840499997138977, 0.840399980545044, 0.840399980545044, 0.840399980545044, 3.805799961090088, 3.805799961090088, 3.8053998947143555, 3.8050999641418457, 3.8048999309539795, 3.804800033569336, 3.8046998977661133, 3.8046000003814697, 3.8043999671936035, 3.8041999340057373, 3.8039000034332275, 3.8034000396728516, 3.8029000759124756, 3.801500082015991, 3.799799919128418, 3.7983999252319336, 3.7948999404907227, 3.794300079345703, 3.7920000553131104, 3.786400079727173, 3.7746999263763428, 3.762200117111206, 0.8712000250816345, 0.8711000084877014, 0.8711000084877014, 0.8709999918937683, 0.8709999918937683, 0.8709999918937683, 0.8709999918937683, 0.8709999918937683, 0.8709999918937683, 0.8709999918937683, 0.8709999918937683, 0.8708999752998352, 0.8708999752998352, 3.8582000732421875, 3.858099937438965, 3.8580000400543213, 3.857800006866455, 3.8577001094818115, 3.857599973678589, 3.857599973678589, 3.8575000762939453, 3.8566999435424805, 3.856300115585327, 3.856300115585327, 3.855799913406372, 3.855600118637085, 3.85509991645813, 3.8548998832702637, 3.85479998588562, 3.854599952697754, 3.854300022125244, 3.853600025177002, 3.853300094604492, 3.853100061416626, 3.852400064468384, 3.8519999980926514, 3.8512001037597656, 3.8512001037597656, 3.850600004196167, 3.849900007247925, 3.848900079727173, 3.8464999198913574, 3.843400001525879, 3.8770999908447266, 3.8768999576568604, 3.876800060272217, 3.876499891281128, 3.8763999938964844, 3.8763999938964844, 3.8763999938964844, 3.8761000633239746, 3.8759000301361084, 3.8757998943328857, 3.875499963760376, 3.8752999305725098, 3.8745999336242676, 3.874500036239624, 3.8743999004364014, 3.8736000061035156, 3.872999906539917, 3.8724000453948975, 3.8722000122070312, 3.8722000122070312, 3.8722000122070312, 3.871799945831299, 3.871299982070923, 3.870300054550171, 3.870300054550171, 3.8661999702453613, 3.865799903869629, 3.8652000427246094, 3.859999895095825, 3.859299898147583, 3.9707000255584717, 3.9704999923706055, 3.9702000617980957, 3.969899892807007, 3.969099998474121, 3.968899965286255, 3.9686999320983887, 3.9686999320983887, 3.9681999683380127, 3.9681999683380127, 3.9679999351501465, 3.966900110244751, 3.966599941253662, 3.9663000106811523, 3.9653000831604004, 3.964900016784668, 3.9623000621795654, 3.961699962615967, 3.9612998962402344, 3.958899974822998, 3.950700044631958, 3.949899911880493, 3.9465999603271484, 3.9407999515533447, 1.3004000186920166, 0.8389999866485596, 0.8389999866485596, 0.8389999866485596, 0.8389000296592712, 0.8389000296592712, 0.8388000130653381, 4.241099834442139, 4.241099834442139, 4.2403998374938965, 4.240200042724609, 4.239999771118164, 4.239299774169922, 4.229800224304199, 1.6413999795913696, 1.6413999795913696, 1.6411999464035034, 1.6411999464035034, 1.6411000490188599, 1.6411000490188599, 1.6411000490188599, 1.6411000490188599, 1.6411000490188599, 1.6411000490188599, 1.6411000490188599, 1.6411000490188599, 1.6411000490188599, 1.6411000490188599, 1.6411000490188599, 1.6411000490188599, 1.6411000490188599, 1.6411000490188599, 1.6411000490188599, 1.6411000490188599, 1.6411000490188599, 1.6411000490188599, 1.6411000490188599, 1.6411000490188599, 1.6411000490188599, 1.6411000490188599, 1.6411000490188599, 1.6410000324249268, 4.28849983215332, 4.287899971008301, 4.287700176239014, 4.287700176239014, 4.287600040435791, 4.287199974060059, 4.2866997718811035, 4.286099910736084, 4.286099910736084, 4.285999774932861, 4.2855000495910645, 4.282199859619141, 4.279799938201904, 4.27839994430542, 4.2778000831604, 4.276400089263916, 4.275899887084961, 4.2758002281188965, 4.2357001304626465, 4.110899925231934, 1.0, 0.9998000264167786, 0.9997000098228455, 0.9994999766349792, 0.9994999766349792, 0.9994999766349792, 0.9994000196456909, 0.9994000196456909, 0.9994000196456909, 0.9994000196456909, 0.9994000196456909, 4.304100036621094, 4.303400039672852, 4.303100109100342, 4.302999973297119, 4.302599906921387, 4.302599906921387, 4.302599906921387, 4.3024001121521, 4.302299976348877, 4.301799774169922, 4.301499843597412, 4.300899982452393, 4.300300121307373, 4.300099849700928, 4.299200057983398, 4.298699855804443, 4.298699855804443, 4.298099994659424, 4.296599864959717, 4.295599937438965, 4.294000148773193, 4.293099880218506, 4.292799949645996, 4.289000034332275, 1.3898999691009521, 1.3898999691009521, 1.3898999691009521, 1.3898999691009521, 1.389799952507019, 1.389799952507019, 1.389799952507019, 1.389799952507019, 1.3896000385284424], \"logprob\": [30.0, 29.0, 28.0, 27.0, 26.0, 25.0, 24.0, 23.0, 22.0, 21.0, 20.0, 19.0, 18.0, 17.0, 16.0, 15.0, 14.0, 13.0, 12.0, 11.0, 10.0, 9.0, 8.0, 7.0, 6.0, 5.0, 4.0, 3.0, 2.0, 1.0, -2.9932000637054443, -3.191999912261963, -3.205399990081787, -3.218400001525879, -3.6215999126434326, -3.675100088119507, -3.731100082397461, -3.733599901199341, -3.7678000926971436, -3.9504001140594482, -3.959399938583374, -3.9863998889923096, -3.993299961090088, -4.080599784851074, -4.081200122833252, -4.104800224304199, -4.176499843597412, -4.1890997886657715, -4.203499794006348, -4.289899826049805, -4.35290002822876, -4.4415998458862305, -4.521399974822998, -4.5381999015808105, -4.557600021362305, -4.563799858093262, -4.601900100708008, -4.654200077056885, -4.678899765014648, -4.694499969482422, -4.634500026702881, -4.021399974822998, -3.3870999813079834, -4.28980016708374, -4.1545000076293945, -1.3070000410079956, -2.12280011177063, -2.4535999298095703, -2.685699939727783, -3.0352001190185547, -3.223099946975708, -3.25600004196167, -3.3889000415802, -3.4175000190734863, -3.964200019836426, -4.005499839782715, -4.2652997970581055, -4.346499919891357, -4.51039981842041, -4.7195000648498535, -4.9207000732421875, -4.978300094604492, -5.113900184631348, -5.612800121307373, -5.890699863433838, -2.676500082015991, -7.699900150299072, -5.039000034332275, -5.457600116729736, -3.2657999992370605, -5.275899887084961, -5.310100078582764, -13.553999900817871, -13.554300308227539, -13.554400444030762, -13.554300308227539, -13.554300308227539, -1.9271999597549438, -2.5130999088287354, -2.7627999782562256, -2.850800037384033, -3.1695001125335693, -3.2225000858306885, -3.2506000995635986, -3.4672000408172607, -3.5074000358581543, -3.55430006980896, -3.575900077819824, -3.7177000045776367, -3.7976999282836914, -3.843600034713745, -3.941499948501587, -4.019599914550781, -4.056300163269043, -4.258299827575684, -4.3684000968933105, -4.405099868774414, -4.426000118255615, -4.603499889373779, -4.68310022354126, -4.723299980163574, -4.887700080871582, -4.890999794006348, -4.910799980163574, -4.948699951171875, -4.979499816894531, -5.047500133514404, -2.7035000324249268, -3.8570001125335693, -2.1352999210357666, -2.356100082397461, -2.8431999683380127, -3.2009999752044678, -3.3015999794006348, -3.458400011062622, -3.4851999282836914, -3.5215001106262207, -3.572999954223633, -3.7692999839782715, -3.7971999645233154, -3.8004000186920166, -3.8327999114990234, -3.9446001052856445, -4.134300231933594, -4.15749979019165, -4.241499900817871, -4.299499988555908, -4.30709981918335, -4.383800029754639, -4.417399883270264, -4.4446001052856445, -4.51170015335083, -4.5970001220703125, -4.730100154876709, -4.758500099182129, -4.801599979400635, -4.833000183105469, -4.848599910736084, -4.851799964904785, -3.995300054550171, -3.8538999557495117, -4.03410005569458, -2.174499988555908, -2.614000082015991, -2.617300033569336, -3.1865999698638916, -3.233099937438965, -3.2685000896453857, -3.3822999000549316, -3.6064000129699707, -3.6942999362945557, -3.8701999187469482, -3.9063000679016113, -3.9240000247955322, -3.962100028991699, -3.9816999435424805, -4.0777997970581055, -4.311200141906738, -4.355299949645996, -4.3709001541137695, -4.392300128936768, -4.532800197601318, -4.6350998878479, -4.751500129699707, -4.757500171661377, -4.758399963378906, -4.774099826812744, -4.775100231170654, -4.826099872589111, -4.937699794769287, -4.9481000900268555, -5.011199951171875, -3.7929999828338623, -3.3217999935150146, -3.800100088119507, -4.739500045776367, -4.725200176239014, -4.737100124359131, -4.752099990844727, -1.7860000133514404, -2.2211999893188477, -2.2327001094818115, -2.9014999866485596, -2.9042000770568848, -3.5136001110076904, -3.7376999855041504, -3.7548999786376953, -3.812999963760376, -3.8341000080108643, -3.8457999229431152, -3.859499931335449, -3.8907999992370605, -3.9103000164031982, -4.375500202178955, -4.476900100708008, -4.4928998947143555, -4.497700214385986, -4.589099884033203, -4.598199844360352, -4.629199981689453, -4.657800197601318, -4.708799839019775, -4.781599998474121, -4.838099956512451, -4.868899822235107, -4.8846001625061035, -5.0096001625061035, -5.015600204467773, -5.137599945068359, -3.8473000526428223, -3.334700107574463, -2.176300048828125, -2.6786999702453613, -2.8891000747680664, -2.9238998889923096, -3.1008999347686768, -3.140399932861328, -3.1786999702453613, -3.3429999351501465, -3.376499891281128, -3.4282000064849854, -3.4763998985290527, -3.494499921798706, -3.5369999408721924, -3.549499988555908, -3.594599962234497, -3.7337000370025635, -3.8864998817443848, -4.033699989318848, -4.041999816894531, -4.0584001541137695, -4.088099956512451, -4.122399806976318, -4.203999996185303, -4.206099987030029, -4.2368998527526855, -4.43720006942749, -4.470300197601318, -4.735499858856201, -4.758699893951416, -4.793499946594238, -4.73960018157959, -1.4459999799728394, -2.538100004196167, -2.9814000129699707, -3.3722000122070312, -3.6988000869750977, -3.7156999111175537, -3.8004000186920166, -3.8336000442504883, -3.8443000316619873, -3.886899948120117, -3.9755001068115234, -4.014200210571289, -4.047699928283691, -4.123199939727783, -4.1921000480651855, -4.321700096130371, -4.334400177001953, -4.340000152587891, -4.399899959564209, -4.438399791717529, -4.55620002746582, -4.575399875640869, -4.617599964141846, -4.626299858093262, -4.651500225067139, -4.691199779510498, -4.7515997886657715, -4.779200077056885, -4.843100070953369, -4.867700099945068, -2.697200059890747, -4.5929999351501465, -1.8358999490737915, -2.0843000411987305, -2.1835999488830566, -2.4368999004364014, -2.56820011138916, -3.0655999183654785, -3.6982998847961426, -3.7274999618530273, -3.7995998859405518, -3.9210000038146973, -3.929800033569336, -4.0177001953125, -4.206200122833252, -4.288899898529053, -4.296999931335449, -4.377299785614014, -4.473199844360352, -4.481900215148926, -4.5543999671936035, -4.647900104522705, -4.657899856567383, -4.671800136566162, -4.686800003051758, -4.695099830627441, -4.75629997253418, -4.756400108337402, -4.83650016784668, -4.89739990234375, -5.021999835968018, -5.120100021362305, -4.265699863433838, -2.4140000343322754, -2.5966999530792236, -2.661099910736084, -2.7614998817443848, -2.7883999347686768, -2.891900062561035, -3.0416998863220215, -3.1505000591278076, -3.269200086593628, -3.388400077819824, -3.464099884033203, -3.5532000064849854, -3.7899999618530273, -3.839400053024292, -3.844399929046631, -3.876300096511841, -3.9690001010894775, -4.022200107574463, -4.139800071716309, -4.160600185394287, -4.328499794006348, -4.445899963378906, -4.484399795532227, -4.688799858093262, -4.753300189971924, -4.834000110626221, -4.859499931335449, -4.890500068664551, -4.928299903869629, -5.037300109863281, -4.856800079345703, -1.6361000537872314, -2.5290000438690186, -2.573199987411499, -2.6189000606536865, -2.958199977874756, -2.963399887084961, -2.976900100708008, -3.201200008392334, -3.294600009918213, -3.438199996948242, -3.5181000232696533, -3.574199914932251, -3.6893999576568604, -3.805500030517578, -3.9079999923706055, -4.007800102233887, -4.157299995422363, -4.453199863433838, -4.516300201416016, -4.522600173950195, -4.532199859619141, -4.6315999031066895, -5.028299808502197, -5.264699935913086, -5.304500102996826, -5.305200099945068, -5.312300205230713, -5.90339994430542, -6.701000213623047, -6.990699768066406, -0.6223000288009644, -1.7674000263214111, -3.047100067138672, -3.948899984359741, -4.064499855041504, -4.096799850463867, -4.169600009918213, -4.2083001136779785, -4.211599826812744, -4.368599891662598, -4.45989990234375, -4.753200054168701, -4.894499778747559, -5.380199909210205, -5.515600204467773, -5.541800022125244, -5.6697998046875, -4.420300006866455, -12.353799819946289, -12.353699684143066, -12.353899955749512, -12.353799819946289, -12.353799819946289, -12.353799819946289, -12.353899955749512, -12.353799819946289, -12.353799819946289, -12.353899955749512, -12.353899955749512, -12.353799819946289, -12.353799819946289, -12.353699684143066, -12.353799819946289, -12.353799819946289, -12.353799819946289, -12.353799819946289, -1.1044000387191772, -1.9895999431610107, -2.2585999965667725, -2.635200023651123, -2.671099901199341, -2.878700017929077, -3.080699920654297, -3.322000026702881, -3.5039000511169434, -3.9862000942230225, -4.927000045776367, -5.929800033569336, -6.212100028991699, -6.827199935913086, -4.238800048828125, -12.43649959564209, -12.43649959564209, -12.436699867248535, -12.43649959564209, -12.436800003051758, -12.436699867248535, -12.436800003051758, -12.43690013885498, -12.436800003051758, -12.43690013885498, -12.43690013885498, -12.43690013885498, -12.43690013885498, -12.436800003051758, -12.43690013885498, -12.436699867248535, -12.436800003051758, -12.436800003051758, -12.43690013885498, -1.7249000072479248, -1.7279000282287598, -2.434999942779541, -2.776400089263916, -2.8715999126434326, -2.9644999504089355, -3.018199920654297, -3.094099998474121, -3.198899984359741, -3.313999891281128, -3.467400074005127, -3.6486001014709473, -3.823499917984009, -4.168000221252441, -4.475800037384033, -4.68149995803833, -5.047299861907959, -5.104700088500977, -5.282299995422363, -5.616300106048584, -6.085400104522705, -6.426000118255615, -12.406100273132324, -12.406299591064453, -12.406399726867676, -12.406200408935547, -12.406399726867676, -12.406399726867676, -12.406399726867676, -12.406399726867676, -12.406299591064453, -12.406299591064453, -12.406399726867676, -12.406299591064453, -12.406399726867676, -2.2883999347686768, -2.381700038909912, -2.5276999473571777, -2.7125000953674316, -2.770900011062622, -2.8857998847961426, -2.8970000743865967, -2.9612998962402344, -3.3610000610351562, -3.522200107574463, -3.524899959564209, -3.714600086212158, -3.7743000984191895, -3.8987998962402344, -3.956199884414673, -3.9881999492645264, -4.022900104522705, -4.105599880218506, -4.239999771118164, -4.2870001792907715, -4.333099842071533, -4.444499969482422, -4.504300117492676, -4.610799789428711, -4.61329984664917, -4.676799774169922, -4.7581000328063965, -4.865600109100342, -5.083399772644043, -5.304599761962891, -2.2177999019622803, -2.465100049972534, -2.58270001411438, -2.8427000045776367, -2.859499931335449, -2.8617000579833984, -2.9035000801086426, -3.0473999977111816, -3.1679999828338623, -3.249000072479248, -3.359999895095825, -3.4553000926971436, -3.7160000801086426, -3.7246999740600586, -3.7681000232696533, -3.969399929046631, -4.102499961853027, -4.21999979019165, -4.255099773406982, -4.266200065612793, -4.266300201416016, -4.323699951171875, -4.410799980163574, -4.556099891662598, -4.55709981918335, -4.992599964141846, -5.029600143432617, -5.07390022277832, -5.421999931335449, -5.462100028991699, -1.516700029373169, -1.92330002784729, -2.3264000415802, -2.5882999897003174, -3.1238999366760254, -3.2327001094818115, -3.303299903869629, -3.3222999572753906, -3.4951999187469482, -3.505500078201294, -3.576200008392334, -3.881200075149536, -3.9351999759674072, -4.006499767303467, -4.203000068664551, -4.264599800109863, -4.621200084686279, -4.691100120544434, -4.727399826049805, -4.94789981842041, -5.46750020980835, -5.508800029754639, -5.65310001373291, -5.868299961090088, -4.8190999031066895, -12.438300132751465, -12.438400268554688, -12.43850040435791, -12.43850040435791, -12.438400268554688, -12.43850040435791, -1.3253999948501587, -1.3519999980926514, -2.298799991607666, -2.4795000553131104, -2.630500078201294, -3.0111000537872314, -4.671299934387207, -11.63599967956543, -11.63599967956543, -11.636199951171875, -11.636300086975098, -11.636099815368652, -11.636300086975098, -11.636300086975098, -11.636199951171875, -11.636300086975098, -11.636300086975098, -11.636199951171875, -11.636300086975098, -11.636300086975098, -11.636300086975098, -11.636300086975098, -11.636300086975098, -11.636199951171875, -11.636300086975098, -11.636300086975098, -11.636300086975098, -11.636300086975098, -11.63640022277832, -11.636300086975098, -11.636199951171875, -11.636300086975098, -11.636300086975098, -11.636300086975098, -11.636300086975098, -1.5637999773025513, -2.281100034713745, -2.4265999794006348, -2.4607999324798584, -2.5309998989105225, -2.7506000995635986, -2.971100091934204, -3.218600034713745, -3.220599889755249, -3.241300106048584, -3.3854000568389893, -4.0441999435424805, -4.351399898529053, -4.487199783325195, -4.542900085449219, -4.665900230407715, -4.702499866485596, -4.714099884033203, -6.122300148010254, -7.39169979095459, -12.277299880981445, -12.277400016784668, -12.277600288391113, -12.277899742126465, -12.277899742126465, -12.277799606323242, -12.277899742126465, -12.277999877929688, -12.277999877929688, -12.277999877929688, -12.277999877929688, -2.0129001140594482, -2.5515999794006348, -2.750999927520752, -2.7962000370025635, -2.963900089263916, -2.9751999378204346, -2.993499994277954, -3.0513999462127686, -3.1154000759124756, -3.269700050354004, -3.358299970626831, -3.5153000354766846, -3.6633999347686768, -3.7005999088287354, -3.881200075149536, -3.9546000957489014, -3.9649999141693115, -4.055500030517578, -4.24399995803833, -4.367000102996826, -4.522600173950195, -4.599699974060059, -4.6265997886657715, -4.9019999504089355, -11.887399673461914, -11.887499809265137, -11.88759994506836, -11.887499809265137, -11.88759994506836, -11.88759994506836, -11.88759994506836, -11.88759994506836, -11.88759994506836]}, \"token.table\": {\"Topic\": [11, 7, 13, 3, 20, 19, 16, 5, 15, 1, 2, 11, 5, 15, 9, 3, 9, 9, 9, 9, 8, 8, 14, 5, 12, 8, 1, 1, 2, 6, 16, 4, 6, 7, 20, 10, 14, 8, 16, 11, 7, 16, 10, 15, 4, 5, 9, 10, 10, 16, 11, 19, 9, 15, 2, 4, 1, 5, 9, 8, 10, 8, 10, 1, 11, 19, 3, 5, 14, 6, 10, 10, 17, 12, 8, 8, 11, 7, 11, 14, 3, 2, 15, 1, 6, 11, 12, 5, 17, 1, 1, 6, 12, 4, 6, 17, 11, 2, 3, 16, 6, 17, 9, 6, 11, 17, 7, 17, 9, 4, 7, 3, 9, 1, 4, 14, 6, 17, 8, 2, 20, 19, 19, 3, 11, 2, 6, 7, 12, 16, 2, 9, 8, 9, 16, 4, 5, 10, 16, 20, 1, 15, 20, 1, 4, 1, 4, 15, 3, 12, 14, 18, 15, 14, 3, 11, 20, 16, 15, 2, 5, 5, 3, 1, 9, 4, 3, 1, 10, 4, 1, 14, 17, 2, 14, 19, 20, 1, 2, 18, 9, 15, 6, 20, 11, 16, 1, 5, 13, 4, 5, 6, 5, 13, 9, 8, 2, 18, 8, 11, 11, 20, 4, 9, 9, 15, 16, 17, 15, 6, 3, 20, 13, 6, 2, 5, 14, 10, 7, 17, 16, 4, 5, 12, 9, 10, 2, 17, 8, 16, 15, 9, 12, 1, 4, 12, 19, 7, 7, 10, 16, 10, 11, 14, 5, 13, 8, 2, 11, 16, 15, 2, 6, 5, 5, 14, 7, 14, 15, 10, 11, 20, 9, 12, 3, 7, 7, 1, 19, 4, 19, 15, 3, 7, 1, 17, 14, 7, 3, 3, 10, 12, 20, 10, 18, 17, 15, 4, 4, 15, 5, 20, 11, 7, 15, 16, 3, 4, 16, 17, 8, 11, 3, 2, 16, 5, 8, 6, 7, 1, 5, 19, 4, 1, 2, 8, 16, 5, 3, 5, 10, 16, 6, 6, 16, 16, 11, 11, 4, 1, 11, 6, 17, 20, 19, 16, 3, 11, 2, 15, 1, 7, 7, 4, 13, 4, 5, 17, 13, 16, 19, 4, 17, 14, 3, 9, 11, 8, 20, 1, 7, 16, 1, 2, 6, 9, 1, 5, 20, 13, 5, 7, 1, 3, 15, 6, 3, 10, 4, 17, 12, 3, 5, 12, 10, 5, 5, 1, 3, 7, 7, 12, 1, 19, 1, 16, 19, 6, 8, 5, 10, 10, 14, 7, 15, 20, 8, 18, 3, 4, 3, 8, 8, 7, 3, 13, 8, 4, 20, 19, 15, 2, 6, 10, 12, 7, 12, 15, 20, 1, 10, 2, 5, 1, 14, 8, 13, 13, 16, 19, 6, 6, 17, 13, 8, 2, 15, 1, 2, 8, 6, 4, 6, 9, 11, 2, 19, 6, 8, 3, 14, 5, 5, 7, 4, 10, 5, 9, 16, 14, 1, 13, 18, 20, 11, 3, 15, 7, 19, 5, 6, 18, 12, 19, 6, 5, 10, 6, 1, 4, 17, 17, 1, 6, 6, 1, 10, 5, 1, 1, 4, 12, 5, 8, 1, 14, 9, 8, 10, 3, 5, 15, 17, 13, 20, 8, 15, 10, 8, 9, 17, 20, 16, 1, 2, 11, 20, 4, 1, 7, 8, 11, 9, 15, 5, 11, 5, 6, 9, 3, 10, 10, 13, 19, 7, 5, 4, 4, 2, 17, 17, 14, 4, 5, 7, 9, 4, 14, 15, 20, 4, 1, 3, 9], \"Freq\": [0.9466608762741089, 0.9990594983100891, 0.9688056707382202, 0.9991625547409058, 0.9889326691627502, 0.9975332021713257, 0.9962953925132751, 0.9984501004219055, 0.9990211725234985, 0.795376718044281, 0.20375943183898926, 0.988018274307251, 0.9982857704162598, 0.9991229176521301, 0.9971849322319031, 0.9977248311042786, 0.9989245533943176, 0.9995261430740356, 0.9944971799850464, 0.9954777359962463, 0.9945510029792786, 0.9942163228988647, 0.9926800727844238, 0.9994034767150879, 0.98655766248703, 0.9967155456542969, 0.9998008608818054, 0.999784529209137, 0.9936585426330566, 0.9995366334915161, 0.996572732925415, 0.9986107349395752, 0.997110903263092, 0.9990898370742798, 0.9905654191970825, 0.9967541694641113, 0.9981534481048584, 0.9945479035377502, 0.9942822456359863, 0.9918342232704163, 0.9973472952842712, 0.9987366795539856, 0.9978426098823547, 0.9987950921058655, 0.2535422146320343, 0.07381608337163925, 0.45145490765571594, 0.21930865943431854, 0.9955317378044128, 0.9985634088516235, 0.9934240579605103, 0.8923447728157043, 0.9956097602844238, 0.994036853313446, 0.9986696839332581, 0.9980642795562744, 0.8961637616157532, 0.1035676896572113, 0.9974715113639832, 0.9975340962409973, 0.9980210065841675, 0.9967037439346313, 0.9973598122596741, 0.9995841979980469, 0.996381938457489, 0.9963329434394836, 0.9993762969970703, 0.9986391067504883, 0.9967425465583801, 0.997207522392273, 0.9975184202194214, 0.9987851977348328, 0.9695783257484436, 0.9965064525604248, 0.9980254769325256, 0.998619556427002, 0.9862528443336487, 0.9994493722915649, 0.9979044795036316, 0.9966939687728882, 0.999026894569397, 0.9980375170707703, 0.99528968334198, 0.999611496925354, 0.9991424083709717, 0.994551956653595, 0.9972078204154968, 0.9978334903717041, 0.9976971745491028, 0.9994069337844849, 0.875630259513855, 0.03202536329627037, 0.09202225506305695, 0.9971789717674255, 0.9982090592384338, 0.9949980974197388, 0.9963926672935486, 0.8664812445640564, 0.13176903128623962, 0.9943836331367493, 0.9973547458648682, 0.9954218864440918, 0.9983568787574768, 0.9962791204452515, 0.99920654296875, 0.9950209259986877, 0.9978888034820557, 0.9939744472503662, 0.9997661709785461, 0.9982053637504578, 0.9988698363304138, 0.9967620968818665, 0.9946901798248291, 0.7772781252861023, 0.2224293351173401, 0.9914519190788269, 0.9949822425842285, 0.9989569187164307, 0.9960076808929443, 0.997734785079956, 0.9977037310600281, 0.9907986521720886, 0.9851550459861755, 0.9997514486312866, 0.9985910058021545, 0.9999454617500305, 0.9963432550430298, 0.9975847005844116, 0.9890503883361816, 0.9939389228820801, 0.9985876083374023, 0.9923070669174194, 0.9976271390914917, 0.9959739446640015, 0.9944765567779541, 0.9364016652107239, 0.062246352434158325, 0.9993255734443665, 0.9984365701675415, 0.9973853230476379, 0.9998012781143188, 0.995908260345459, 0.9945579171180725, 0.9993831515312195, 0.9993929266929626, 0.9996627569198608, 0.9996535181999207, 0.9923768043518066, 0.9982674717903137, 0.9959620833396912, 0.9620171785354614, 0.9978909492492676, 0.9884986877441406, 0.9962522387504578, 0.9986901879310608, 0.9985760450363159, 0.9951878190040588, 0.9939323663711548, 0.9943158626556396, 0.9986977577209473, 0.9986663460731506, 0.9971476793289185, 0.9983303546905518, 0.9995588064193726, 0.9940957427024841, 0.9993137717247009, 0.9967786073684692, 0.9996659159660339, 0.9969644546508789, 0.9985800981521606, 0.9993770122528076, 0.9983431100845337, 0.9741808176040649, 0.9988610744476318, 0.9997312426567078, 0.9992622137069702, 0.9973223805427551, 0.9998124837875366, 0.9972192645072937, 0.9997395277023315, 0.9943792223930359, 0.9933164715766907, 0.9989648461341858, 0.9917750358581543, 0.9982662796974182, 0.9977458715438843, 0.019827421754598618, 0.9798051118850708, 0.9992643594741821, 0.9989404082298279, 0.9992793798446655, 0.9994043111801147, 0.8203853964805603, 0.1784355640411377, 0.9965722560882568, 0.9992145895957947, 0.9994186162948608, 0.9994451403617859, 0.9988957047462463, 0.9995337724685669, 0.9933114647865295, 0.9904528260231018, 0.9966098070144653, 0.9997793436050415, 0.9992981553077698, 0.9988387227058411, 0.9870269298553467, 0.9961081743240356, 0.9924609065055847, 0.9977268576622009, 0.9992191791534424, 0.9982649683952332, 0.9987030029296875, 0.9957271814346313, 0.9959484338760376, 0.9982542991638184, 0.9992058873176575, 0.9990479946136475, 0.9969390630722046, 0.9995253086090088, 0.9787002801895142, 0.7242234945297241, 0.2749142646789551, 0.9932529330253601, 0.9962635636329651, 0.9934985041618347, 0.950849711894989, 0.9968650341033936, 0.9983499646186829, 0.9966362714767456, 0.9993374943733215, 0.9943719506263733, 0.9838506579399109, 0.9907427430152893, 0.008710834197700024, 0.9944018721580505, 0.9951453804969788, 0.9985718727111816, 0.999396026134491, 0.9976920485496521, 0.9877943992614746, 0.996841311454773, 0.9997717142105103, 0.9944247007369995, 0.9990364909172058, 0.9259098768234253, 0.9974157214164734, 0.9996962547302246, 0.9985588788986206, 0.9927643537521362, 0.9950107336044312, 0.999782383441925, 0.9972848892211914, 0.9992437362670898, 0.9980530142784119, 0.9905714392662048, 0.9960696697235107, 0.989242672920227, 0.9974236488342285, 0.9987014532089233, 0.9838939309120178, 0.9853732585906982, 0.9960411787033081, 0.9968155026435852, 0.9975581765174866, 0.9984620809555054, 0.9979836940765381, 0.999354898929596, 0.9986861944198608, 0.9986465573310852, 0.9973946213722229, 0.9802514314651489, 0.9997693300247192, 0.9973220229148865, 0.9298712611198425, 0.06909622997045517, 0.9986229538917542, 0.9976128339767456, 0.998428463935852, 0.9986550211906433, 0.9991212487220764, 0.9967010021209717, 0.9951529502868652, 0.9987341165542603, 0.998809814453125, 0.9610623121261597, 0.9969310760498047, 0.9988306164741516, 0.9973551034927368, 0.9967778921127319, 0.9974088668823242, 0.9845067262649536, 0.9856274127960205, 0.9982360005378723, 0.9993444681167603, 0.9949246644973755, 0.9967280626296997, 0.9988860487937927, 0.9983944892883301, 0.9888853430747986, 0.999794065952301, 0.9987375736236572, 0.9983088970184326, 0.9997039437294006, 0.9974926114082336, 0.9971769452095032, 0.9988142848014832, 0.9941379427909851, 0.9985737204551697, 0.90675950050354, 0.09305433183908463, 0.9967103600502014, 0.997441828250885, 0.746383547782898, 0.25345879793167114, 0.9947003126144409, 0.9992899894714355, 0.9998237490653992, 0.9961305856704712, 0.9953403472900391, 0.9923402667045593, 0.9919113516807556, 0.9983618855476379, 0.9986519813537598, 0.9990403056144714, 0.9985175132751465, 0.9710161089897156, 0.9983565807342529, 0.9997952580451965, 0.999704897403717, 0.9924958348274231, 0.9982001781463623, 0.9883192181587219, 0.9988054037094116, 0.9918121099472046, 0.9968791604042053, 0.9995839595794678, 0.9987998008728027, 0.9993299841880798, 0.9944145083427429, 0.9995663166046143, 0.9988218545913696, 0.9992542266845703, 0.9974392056465149, 0.9987732172012329, 0.1437436193227768, 0.8557025790214539, 0.9939066171646118, 0.991810142993927, 0.9990217685699463, 0.9979695677757263, 0.9991344213485718, 0.9983603358268738, 0.9986624717712402, 0.9992504715919495, 0.9987872838973999, 0.9798760414123535, 0.9978839755058289, 0.994239866733551, 0.9998993873596191, 0.9991700649261475, 0.982469379901886, 0.017282580956816673, 0.9825467467308044, 0.9958687424659729, 0.9965831637382507, 0.5539680123329163, 0.4452720582485199, 0.9982663989067078, 0.9982618093490601, 0.9980491995811462, 0.9968130588531494, 0.06054702401161194, 0.9388720393180847, 0.9970828294754028, 0.9988946914672852, 0.9987146854400635, 0.9947678446769714, 0.999817430973053, 0.9830632209777832, 0.993861734867096, 0.999076247215271, 0.9989528059959412, 0.9996315240859985, 0.9955111145973206, 0.9992863535881042, 0.9979590773582458, 0.9997246265411377, 0.9996458292007446, 0.9998109936714172, 0.9995863437652588, 0.9981899857521057, 0.9997991919517517, 0.9858212471008301, 0.9996727108955383, 0.9978616833686829, 0.9979052543640137, 0.042973242700099945, 0.9565011858940125, 0.9986656308174133, 0.9995407462120056, 0.9970824718475342, 0.9894770383834839, 0.9992283582687378, 0.9966984987258911, 0.9971358776092529, 0.9994453191757202, 0.9989674091339111, 0.9739840030670166, 0.025746338069438934, 0.9996885657310486, 0.9969020485877991, 0.9962725639343262, 0.9992225766181946, 0.997855544090271, 0.9977139830589294, 0.9973410367965698, 0.9993329048156738, 0.9980241656303406, 0.9907892346382141, 0.9890214204788208, 0.9989908337593079, 0.9962749481201172, 0.9958756566047668, 0.9799631237983704, 0.9946415424346924, 0.9968363046646118, 0.9982386827468872, 0.9932764172554016, 0.999496340751648, 0.9991966485977173, 0.9995722770690918, 0.9987791180610657, 0.999469518661499, 0.9835541248321533, 0.9974044561386108, 0.975872814655304, 0.9961444735527039, 0.9967276453971863, 0.998420774936676, 0.9970818758010864, 0.997056782245636, 0.9989827275276184, 0.9994465112686157, 0.9936371445655823, 0.9997150897979736, 0.9949159026145935, 0.4341711401939392, 0.5624489784240723, 0.9947874546051025, 0.9981141686439514, 0.9994032979011536, 0.9998176693916321, 0.9979027509689331, 0.9973962306976318, 0.9998013377189636, 0.9334575533866882, 0.9981966018676758, 0.9966235756874084, 0.9956552386283875, 0.9977436661720276, 0.999462902545929, 0.9980887174606323, 0.9991112947463989, 0.9995841383934021, 0.9900798201560974, 0.9997506737709045, 0.9967281818389893, 0.9992631673812866, 0.9997484683990479, 0.9997167587280273, 0.9997150301933289, 0.9926827549934387, 0.9980841279029846, 0.996601402759552, 0.9989907741546631, 0.9980959892272949, 0.9973099231719971, 0.9980345368385315, 0.10161425918340683, 0.8972076773643494, 0.9989798069000244, 0.9847322702407837, 0.9988508820533752, 0.9977283477783203, 0.9961320757865906, 0.998892605304718, 0.9996997714042664, 0.999523937702179, 0.99826979637146, 0.9980409145355225, 0.9970068335533142, 0.9992094039916992, 0.9997274279594421, 0.9943335056304932, 0.9998583197593689, 0.9990509152412415, 0.9993144869804382, 0.9995039701461792, 0.9998706579208374, 0.9965064525604248, 0.9999000430107117, 0.46594348549842834, 0.5327515602111816, 0.9998179078102112, 0.999122679233551, 0.9948260188102722, 0.998293399810791, 0.9991831183433533, 0.9998486638069153, 0.9996477961540222, 0.9920222163200378, 0.9909189343452454, 0.9984464049339294, 0.9960074424743652, 0.9957571625709534, 0.9987210035324097, 0.9982526898384094, 0.9939907193183899, 0.9971367716789246, 0.9979968667030334, 0.9968341588973999, 0.9922707080841064, 0.8081751465797424, 0.19107569754123688, 0.9985698461532593, 0.9974979758262634, 0.9992800354957581, 0.9997653961181641, 0.9992572069168091, 0.9966809153556824, 0.999282717704773, 0.9978964924812317, 0.9897540807723999, 0.9973958730697632, 0.9956290125846863, 0.009561222977936268, 0.9890553951263428, 0.9996374249458313, 0.9988620281219482, 0.9950653910636902, 0.9956640005111694, 0.9988723993301392, 0.988836407661438, 0.9983005523681641, 0.9956836104393005, 0.9982089400291443, 0.99924635887146, 0.9930992722511292, 0.9975338578224182, 0.999657392501831, 0.958861231803894, 0.9985010623931885, 0.594595730304718, 0.4032910168170929, 0.9976747632026672, 0.9992489814758301, 0.9981635212898254, 0.9943856000900269, 0.9976083040237427, 0.9975991249084473, 0.9994825720787048, 0.999237596988678, 0.9956077337265015], \"Term\": [\"absolute\", \"access\", \"accumulation\", \"accuracy\", \"acoustic\", \"acquisition\", \"action\", \"activity\", \"actuator\", \"addition\", \"addition\", \"additional\", \"advance\", \"advantage\", \"aerospace\", \"agent\", \"air\", \"aircraft\", \"airport\", \"airspace\", \"alloy\", \"amount\", \"amplitude\", \"analysis\", \"analyst\", \"aperture\", \"application\", \"approach\", \"archive\", \"area\", \"arm\", \"array\", \"assembly\", \"atmosphere\", \"attribute\", \"automation\", \"band\", \"bandwidth\", \"base\", \"baseline\", \"basis\", \"battery\", \"beam\", \"behavior\", \"benefit\", \"benefit\", \"benefit\", \"benefit\", \"bind\", \"body\", \"bond\", \"booster\", \"build\", \"calculation\", \"calibration\", \"camera\", \"capability\", \"capability\", \"capacity\", \"carbon\", \"case\", \"catalyst\", \"cathode\", \"cell\", \"center\", \"chamber\", \"change\", \"characteristic\", \"charge\", \"chemical\", \"chip\", \"class\", \"clean\", \"cloud\", \"coat\", \"coating\", \"collaborator\", \"collection\", \"color\", \"column\", \"communication\", \"community\", \"completion\", \"component\", \"composite\", \"compound\", \"compression\", \"computer\", \"concentration\", \"concept\", \"condition\", \"condition\", \"condition\", \"conductivity\", \"configuration\", \"connection\", \"consideration\", \"consist\", \"consist\", \"constraint\", \"construction\", \"consumable\", \"consumption\", \"contact\", \"contain\", \"contaminant\", \"contamination\", \"content\", \"control\", \"cool\", \"core\", \"correction\", \"correlation\", \"cost\", \"cost\", \"course\", \"creation\", \"crew\", \"crewmember\", \"cruise\", \"cryocooler\", \"cryogenic\", \"cylinder\", \"data\", \"dataset\", \"datum\", \"day\", \"decade\", \"deck\", \"definition\", \"degree\", \"delay\", \"delivery\", \"demand\", \"demonstrate\", \"demonstration\", \"demonstration\", \"density\", \"deployment\", \"description\", \"design\", \"designer\", \"detail\", \"detection\", \"detector\", \"development\", \"device\", \"diagnosis\", \"difference\", \"diffraction\", \"diffuse\", \"dimension\", \"direct\", \"direction\", \"distance\", \"distribution\", \"document\", \"drag\", \"drop\", \"dust\", \"dynamic\", \"eample\", \"earth\", \"effect\", \"effectiveness\", \"efficiency\", \"efficient\", \"effort\", \"electrode\", \"electronic\", \"element\", \"emission\", \"emu\", \"encounter\", \"energy\", \"engine\", \"entry\", \"environment\", \"eperience\", \"eperiment\", \"epert\", \"equation\", \"equipment\", \"equivalent\", \"error\", \"ersity\", \"evaluation\", \"evaluation\", \"event\", \"fabrication\", \"failure\", \"feasibility\", \"feature\", \"feature\", \"feed\", \"fiber\", \"field\", \"file\", \"film\", \"filter\", \"fit\", \"flag\", \"fleibility\", \"flight\", \"flow\", \"fluid\", \"fly\", \"food\", \"footprint\", \"force\", \"form\", \"format\", \"formation\", \"formulation\", \"frame\", \"framework\", \"frequency\", \"fuel\", \"functionality\", \"gas\", \"generate\", \"generation\", \"generation\", \"generator\", \"gradient\", \"grain\", \"graph\", \"gravity\", \"growth\", \"hand\", \"heat\", \"heating\", \"height\", \"high\", \"high\", \"history\", \"host\", \"hour\", \"hydrogen\", \"ice\", \"idea\", \"identification\", \"image\", \"impedance\", \"implementation\", \"inclination\", \"increase\", \"information\", \"infrastructure\", \"injector\", \"instability\", \"instrument\", \"integrity\", \"interaction\", \"interface\", \"interferometer\", \"intervention\", \"inversion\", \"investigation\", \"ion\", \"ionization\", \"ir\", \"isolation\", \"item\", \"km\", \"land\", \"landing\", \"laser\", \"launch\", \"layer\", \"leak\", \"learn\", \"level\", \"library\", \"life\", \"life\", \"light\", \"limitation\", \"line\", \"link\", \"liquid\", \"list\", \"literature\", \"load\", \"location\", \"long\", \"loop\", \"loss\", \"low\", \"lunar\", \"machine\", \"magnetometer\", \"magnitude\", \"maintenance\", \"management\", \"maneuver\", \"manner\", \"manufacture\", \"manufacturing\", \"marker\", \"material\", \"mean\", \"measure\", \"measurement\", \"mechanism\", \"memory\", \"metal\", \"meter\", \"methane\", \"method\", \"method\", \"metric\", \"mirror\", \"mission\", \"mission\", \"mitigation\", \"mode\", \"model\", \"modulation\", \"module\", \"molecule\", \"momentum\", \"monitor\", \"monitoring\", \"motion\", \"motor\", \"move\", \"multi\", \"nbsp\", \"need\", \"net\", \"network\", \"nitrogen\", \"noise\", \"note\", \"nozzle\", \"number\", \"object\", \"observation\", \"observatory\", \"operation\", \"operator\", \"opportunity\", \"optic\", \"orbit\", \"order\", \"order\", \"organic\", \"orientation\", \"output\", \"oygen\", \"package\", \"packaging\", \"paper\", \"parameter\", \"particle\", \"patent\", \"payload\", \"perform\", \"performance\", \"period\", \"perturbation\", \"phase\", \"phase\", \"phenomenon\", \"pilot\", \"plan\", \"plan\", \"plane\", \"planet\", \"planning\", \"plasma\", \"point\", \"point\", \"polarization\", \"polymer\", \"position\", \"possibility\", \"power\", \"ppm\", \"precipitation\", \"precision\", \"prediction\", \"pressure\", \"probe\", \"problem\", \"procedure\", \"process\", \"processing\", \"product\", \"production\", \"profile\", \"program\", \"progress\", \"project\", \"propagation\", \"propellant\", \"property\", \"property\", \"proposal\", \"propulsion\", \"protection\", \"publication\", \"quality\", \"question\", \"radar\", \"radiation\", \"radio\", \"range\", \"range\", \"rate\", \"ratio\", \"reaction\", \"reactor\", \"real\", \"record\", \"recovery\", \"reduction\", \"reference\", \"refinement\", \"regeneration\", \"region\", \"regolith\", \"regression\", \"regulator\", \"relative\", \"remote\", \"removal\", \"report\", \"requirement\", \"research\", \"resolution\", \"resource\", \"result\", \"retrieval\", \"return\", \"right\", \"ring\", \"robot\", \"rocket\", \"role\", \"room\", \"sample\", \"satellite\", \"save\", \"science\", \"scientist\", \"second\", \"second\", \"section\", \"sense\", \"sensitivity\", \"sensor\", \"separation\", \"sequence\", \"set\", \"shadow\", \"shape\", \"shield\", \"shift\", \"signal\", \"simulation\", \"simulator\", \"site\", \"size\", \"small\", \"software\", \"soil\", \"solution\", \"source\", \"space\", \"spacecraft\", \"span\", \"specification\", \"spectrum\", \"speed\", \"stability\", \"stack\", \"standard\", \"state\", \"state\", \"station\", \"statistic\", \"storage\", \"strain\", \"strategy\", \"strength\", \"structure\", \"study\", \"substrate\", \"subsystem\", \"suit\", \"support\", \"surface\", \"switch\", \"system\", \"target\", \"task\", \"technique\", \"technology\", \"telescope\", \"temperature\", \"term\", \"term\", \"test\", \"thermal\", \"throughput\", \"thrust\", \"thruster\", \"time\", \"tool\", \"topic\", \"total\", \"track\", \"trade\", \"training\", \"transfer\", \"transition\", \"transmission\", \"transport\", \"treatment\", \"tube\", \"turn\", \"type\", \"type\", \"uncertainty\", \"understanding\", \"unit\", \"use\", \"user\", \"vacuum\", \"value\", \"valve\", \"variability\", \"variable\", \"variation\", \"variety\", \"variety\", \"vehicle\", \"velocity\", \"ver\", \"verification\", \"version\", \"viability\", \"view\", \"visualization\", \"voltage\", \"volume\", \"wafer\", \"waste\", \"water\", \"waveform\", \"wavelength\", \"way\", \"way\", \"weather\", \"weight\", \"wind\", \"window\", \"wing\", \"wire\", \"work\", \"year\", \"yield\"]}, \"R\": 30, \"lambda.step\": 0.01, \"plot.opts\": {\"xlab\": \"PC1\", \"ylab\": \"PC2\"}, \"topic.order\": [13, 18, 10, 5, 3, 11, 7, 15, 9, 4, 2, 12, 20, 8, 1, 14, 6, 17, 16, 19]};\n",
              "\n",
              "function LDAvis_load_lib(url, callback){\n",
              "  var s = document.createElement('script');\n",
              "  s.src = url;\n",
              "  s.async = true;\n",
              "  s.onreadystatechange = s.onload = callback;\n",
              "  s.onerror = function(){console.warn(\"failed to load library \" + url);};\n",
              "  document.getElementsByTagName(\"head\")[0].appendChild(s);\n",
              "}\n",
              "\n",
              "if(typeof(LDAvis) !== \"undefined\"){\n",
              "   // already loaded: just create the visualization\n",
              "   !function(LDAvis){\n",
              "       new LDAvis(\"#\" + \"ldavis_el1825622379403710169576740649\", ldavis_el1825622379403710169576740649_data);\n",
              "   }(LDAvis);\n",
              "}else if(typeof define === \"function\" && define.amd){\n",
              "   // require.js is available: use it to load d3/LDAvis\n",
              "   require.config({paths: {d3: \"https://cdnjs.cloudflare.com/ajax/libs/d3/3.5.5/d3.min\"}});\n",
              "   require([\"d3\"], function(d3){\n",
              "      window.d3 = d3;\n",
              "      LDAvis_load_lib(\"https://cdn.rawgit.com/bmabey/pyLDAvis/files/ldavis.v1.0.0.js\", function(){\n",
              "        new LDAvis(\"#\" + \"ldavis_el1825622379403710169576740649\", ldavis_el1825622379403710169576740649_data);\n",
              "      });\n",
              "    });\n",
              "}else{\n",
              "    // require.js not available: dynamically load d3 & LDAvis\n",
              "    LDAvis_load_lib(\"https://cdnjs.cloudflare.com/ajax/libs/d3/3.5.5/d3.min.js\", function(){\n",
              "         LDAvis_load_lib(\"https://cdn.rawgit.com/bmabey/pyLDAvis/files/ldavis.v1.0.0.js\", function(){\n",
              "                 new LDAvis(\"#\" + \"ldavis_el1825622379403710169576740649\", ldavis_el1825622379403710169576740649_data);\n",
              "            })\n",
              "         });\n",
              "}\n",
              "</script>"
            ],
            "text/plain": [
              "PreparedData(topic_coordinates=              x         y  topics  cluster       Freq\n",
              "topic                                                \n",
              "12     0.308683  0.207942       1        1  28.656546\n",
              "17     0.167039  0.278595       2        1   8.619873\n",
              "9      0.071017 -0.037011       3        1   7.274952\n",
              "4      0.176360 -0.229285       4        1   7.266849\n",
              "2      0.167936 -0.202782       5        1   6.778239\n",
              "10     0.058248 -0.063703       6        1   5.620108\n",
              "6     -0.029961 -0.021911       7        1   4.601712\n",
              "14     0.028079 -0.061633       8        1   3.956370\n",
              "8      0.024369 -0.081246       9        1   3.874359\n",
              "3     -0.005212 -0.053685      10        1   3.402003\n",
              "1     -0.084553  0.023389      11        1   2.781692\n",
              "11    -0.081696  0.050319      12        1   2.430793\n",
              "19    -0.075003 -0.019219      13        1   2.288992\n",
              "7     -0.094642  0.025842      14        1   2.223175\n",
              "0     -0.073591  0.020461      15        1   2.108974\n",
              "13    -0.073519  0.020413      16        1   2.069590\n",
              "5     -0.078786  0.044723      17        1   1.885298\n",
              "16    -0.154823  0.035460      18        1   1.438583\n",
              "15    -0.108267  0.028886      19        1   1.371762\n",
              "18    -0.141676  0.034447      20        1   1.350135, topic_info=     Category          Freq         Term         Total  loglift  logprob\n",
              "20    Default  18112.000000        datum  18112.000000  30.0000  30.0000\n",
              "30    Default  10130.000000  temperature  10130.000000  29.0000  29.0000\n",
              "123   Default   7235.000000     material   7235.000000  28.0000  28.0000\n",
              "142   Default   5890.000000   spacecraft   5890.000000  27.0000  27.0000\n",
              "97    Default   8222.000000         time   8222.000000  26.0000  26.0000\n",
              "...       ...           ...          ...           ...      ...      ...\n",
              "2881  Topic20      0.072065   epectation      1.329715   1.3898 -11.8876\n",
              "2168  Topic20      0.072065          cgn      1.329714   1.3898 -11.8876\n",
              "1811  Topic20      0.072068   background      1.329782   1.3898 -11.8876\n",
              "1397  Topic20      0.072068       domain      1.329818   1.3898 -11.8876\n",
              "1219  Topic20      0.072069       impact      1.330104   1.3896 -11.8876\n",
              "\n",
              "[681 rows x 6 columns], token_table=      Topic      Freq          Term\n",
              "term                               \n",
              "1020     11  0.946661      absolute\n",
              "782       7  0.999059        access\n",
              "952      13  0.968806  accumulation\n",
              "726       3  0.999163      accuracy\n",
              "442      20  0.988933      acoustic\n",
              "...     ...       ...           ...\n",
              "279      20  0.997608          wing\n",
              "423       4  0.997599          wire\n",
              "694       1  0.999483          work\n",
              "655       3  0.999238          year\n",
              "608       9  0.995608         yield\n",
              "\n",
              "[564 rows x 3 columns], R=30, lambda_step=0.01, plot_opts={'xlab': 'PC1', 'ylab': 'PC2'}, topic_order=[13, 18, 10, 5, 3, 11, 7, 15, 9, 4, 2, 12, 20, 8, 1, 14, 6, 17, 16, 19])"
            ]
          },
          "metadata": {
            "tags": []
          },
          "execution_count": 41
        }
      ]
    },
    {
      "cell_type": "markdown",
      "metadata": {
        "id": "B2UzfjmipdJX",
        "colab_type": "text"
      },
      "source": [
        "Finding the dominant topic in each sentence\n",
        "One of the practical application of topic modeling is to determine what topic a given document is about.\n",
        "\n",
        "To find that, we find the topic number that has the highest percentage contribution in that document.\n",
        "\n",
        "The format_topics_sentences() function below nicely aggregates this information in a presentable table."
      ]
    },
    {
      "cell_type": "markdown",
      "metadata": {
        "id": "oO6huGz1pdJZ",
        "colab_type": "text"
      },
      "source": [
        "Find the most representative document for each topic\n",
        "Sometimes just the topic keywords may not be enough to make sense of what a topic is about. So, to help with understanding the topic, you can find the documents a given topic has contributed to the most and infer the topic by reading that document. Whew!!"
      ]
    },
    {
      "cell_type": "markdown",
      "metadata": {
        "id": "O9M_zffopdJZ",
        "colab_type": "text"
      },
      "source": [
        "The tabular output above actually has 20 rows, one each for a topic. It has the topic number, the keywords, and the most representative document. The Perc_Contribution column is nothing but the percentage contribution of the topic in the given document.\n",
        "\n",
        "20. Topic distribution across documents\n",
        "Finally, we want to understand the volume and distribution of topics in order to judge how widely it was discussed. The below table exposes that information."
      ]
    },
    {
      "cell_type": "code",
      "metadata": {
        "id": "XiqRJz-UpdJc",
        "colab_type": "code",
        "outputId": "7f0fcbcd-3514-4872-ce81-84c98c08d130",
        "colab": {}
      },
      "source": [
        "# Number of Documents for Each Topic\n",
        "topic_counts = df_topic_sents_keywords['Dominant_Topic'].value_counts()\n",
        "\n",
        "# Percentage of Documents for Each Topic\n",
        "topic_contribution = round(topic_counts/topic_counts.sum(), 4)\n",
        "\n",
        "# Topic Number and Keywords\n",
        "topic_num_keywords = df_topic_sents_keywords[['Dominant_Topic', 'Topic_Keywords']]\n",
        "\n",
        "# Concatenate Column wise\n",
        "df_dominant_topics = pd.concat([topic_num_keywords, topic_counts, topic_contribution], axis=1)\n",
        "\n",
        "# Change Column names\n",
        "df_dominant_topics.columns = ['Dominant_Topic', 'Topic_Keywords', 'Num_Documents', 'Perc_Documents']\n",
        "\n",
        "# Show\n",
        "df_dominant_topics"
      ],
      "execution_count": 0,
      "outputs": [
        {
          "output_type": "execute_result",
          "data": {
            "text/html": [
              "<div>\n",
              "<style scoped>\n",
              "    .dataframe tbody tr th:only-of-type {\n",
              "        vertical-align: middle;\n",
              "    }\n",
              "\n",
              "    .dataframe tbody tr th {\n",
              "        vertical-align: top;\n",
              "    }\n",
              "\n",
              "    .dataframe thead th {\n",
              "        text-align: right;\n",
              "    }\n",
              "</style>\n",
              "<table border=\"1\" class=\"dataframe\">\n",
              "  <thead>\n",
              "    <tr style=\"text-align: right;\">\n",
              "      <th></th>\n",
              "      <th>Dominant_Topic</th>\n",
              "      <th>Topic_Keywords</th>\n",
              "      <th>Num_Documents</th>\n",
              "      <th>Perc_Documents</th>\n",
              "    </tr>\n",
              "  </thead>\n",
              "  <tbody>\n",
              "    <tr>\n",
              "      <td>0.0</td>\n",
              "      <td>2.0</td>\n",
              "      <td>technology, design, performance, system, missi...</td>\n",
              "      <td>5845.0</td>\n",
              "      <td>0.2400</td>\n",
              "    </tr>\n",
              "    <tr>\n",
              "      <td>1.0</td>\n",
              "      <td>1.0</td>\n",
              "      <td>datum, product, set, observation, file, time, ...</td>\n",
              "      <td>8065.0</td>\n",
              "      <td>0.3311</td>\n",
              "    </tr>\n",
              "    <tr>\n",
              "      <td>2.0</td>\n",
              "      <td>2.0</td>\n",
              "      <td>technology, design, performance, system, missi...</td>\n",
              "      <td>10446.0</td>\n",
              "      <td>0.4289</td>\n",
              "    </tr>\n",
              "    <tr>\n",
              "      <td>3.0</td>\n",
              "      <td>1.0</td>\n",
              "      <td>datum, product, set, observation, file, time, ...</td>\n",
              "      <td>NaN</td>\n",
              "      <td>NaN</td>\n",
              "    </tr>\n",
              "    <tr>\n",
              "      <td>4.0</td>\n",
              "      <td>2.0</td>\n",
              "      <td>technology, design, performance, system, missi...</td>\n",
              "      <td>NaN</td>\n",
              "      <td>NaN</td>\n",
              "    </tr>\n",
              "    <tr>\n",
              "      <td>...</td>\n",
              "      <td>...</td>\n",
              "      <td>...</td>\n",
              "      <td>...</td>\n",
              "      <td>...</td>\n",
              "    </tr>\n",
              "    <tr>\n",
              "      <td>24351.0</td>\n",
              "      <td>2.0</td>\n",
              "      <td>technology, design, performance, system, missi...</td>\n",
              "      <td>NaN</td>\n",
              "      <td>NaN</td>\n",
              "    </tr>\n",
              "    <tr>\n",
              "      <td>24352.0</td>\n",
              "      <td>1.0</td>\n",
              "      <td>datum, product, set, observation, file, time, ...</td>\n",
              "      <td>NaN</td>\n",
              "      <td>NaN</td>\n",
              "    </tr>\n",
              "    <tr>\n",
              "      <td>24353.0</td>\n",
              "      <td>2.0</td>\n",
              "      <td>technology, design, performance, system, missi...</td>\n",
              "      <td>NaN</td>\n",
              "      <td>NaN</td>\n",
              "    </tr>\n",
              "    <tr>\n",
              "      <td>24354.0</td>\n",
              "      <td>1.0</td>\n",
              "      <td>datum, product, set, observation, file, time, ...</td>\n",
              "      <td>NaN</td>\n",
              "      <td>NaN</td>\n",
              "    </tr>\n",
              "    <tr>\n",
              "      <td>24355.0</td>\n",
              "      <td>0.0</td>\n",
              "      <td>water, temperature, datum, instrument, surface...</td>\n",
              "      <td>NaN</td>\n",
              "      <td>NaN</td>\n",
              "    </tr>\n",
              "  </tbody>\n",
              "</table>\n",
              "<p>24356 rows × 4 columns</p>\n",
              "</div>"
            ],
            "text/plain": [
              "         Dominant_Topic                                     Topic_Keywords  \\\n",
              "0.0                 2.0  technology, design, performance, system, missi...   \n",
              "1.0                 1.0  datum, product, set, observation, file, time, ...   \n",
              "2.0                 2.0  technology, design, performance, system, missi...   \n",
              "3.0                 1.0  datum, product, set, observation, file, time, ...   \n",
              "4.0                 2.0  technology, design, performance, system, missi...   \n",
              "...                 ...                                                ...   \n",
              "24351.0             2.0  technology, design, performance, system, missi...   \n",
              "24352.0             1.0  datum, product, set, observation, file, time, ...   \n",
              "24353.0             2.0  technology, design, performance, system, missi...   \n",
              "24354.0             1.0  datum, product, set, observation, file, time, ...   \n",
              "24355.0             0.0  water, temperature, datum, instrument, surface...   \n",
              "\n",
              "         Num_Documents  Perc_Documents  \n",
              "0.0             5845.0          0.2400  \n",
              "1.0             8065.0          0.3311  \n",
              "2.0            10446.0          0.4289  \n",
              "3.0                NaN             NaN  \n",
              "4.0                NaN             NaN  \n",
              "...                ...             ...  \n",
              "24351.0            NaN             NaN  \n",
              "24352.0            NaN             NaN  \n",
              "24353.0            NaN             NaN  \n",
              "24354.0            NaN             NaN  \n",
              "24355.0            NaN             NaN  \n",
              "\n",
              "[24356 rows x 4 columns]"
            ]
          },
          "metadata": {
            "tags": []
          },
          "execution_count": 42
        }
      ]
    },
    {
      "cell_type": "markdown",
      "metadata": {
        "id": "NNMadJxxpdJh",
        "colab_type": "text"
      },
      "source": [
        "#### 2. Topic modeling with LSI\n",
        "\n",
        "This is a useful topic modeling algorithm in that it can rank topics by itself. Thus it outputs topics in a ranked order. However it does require a num_topics parameter (set to 200 by default) to determine the number of latent dimensions after the SVD.\n"
      ]
    },
    {
      "cell_type": "code",
      "metadata": {
        "id": "3zgfZ0DQpdJi",
        "colab_type": "code",
        "colab": {}
      },
      "source": [
        "from gensim.models import CoherenceModel, LdaModel, LsiModel, HdpModel\n",
        "lsimodel = LsiModel(corpus=corpus, num_topics=10, id2word=id2word)"
      ],
      "execution_count": 0,
      "outputs": []
    },
    {
      "cell_type": "code",
      "metadata": {
        "id": "V5hZZIKspdJm",
        "colab_type": "code",
        "outputId": "4de9002f-9214-4d7c-d7e2-26467c979bfd",
        "colab": {}
      },
      "source": [
        "lsimodel.show_topics(num_topics=6)  # Showing only the top 5 topics"
      ],
      "execution_count": 0,
      "outputs": [
        {
          "output_type": "execute_result",
          "data": {
            "text/plain": [
              "[(0,\n",
              "  '0.407*\"datum\" + 0.351*\"nbsp\" + 0.266*\"product\" + 0.206*\"observation\" + 0.171*\"mission\" + 0.160*\"set\" + 0.153*\"technology\" + 0.143*\"temperature\" + 0.142*\"surface\" + 0.140*\"time\"'),\n",
              " (1,\n",
              "  '0.757*\"nbsp\" + -0.323*\"datum\" + -0.291*\"product\" + -0.249*\"observation\" + -0.152*\"file\" + -0.146*\"set\" + 0.089*\"design\" + 0.085*\"technology\" + -0.068*\"survey\" + -0.066*\"information\"'),\n",
              " (2,\n",
              "  '-0.534*\"nbsp\" + 0.258*\"technology\" + -0.256*\"observation\" + -0.223*\"product\" + 0.191*\"system\" + 0.176*\"performance\" + 0.172*\"design\" + -0.160*\"datum\" + 0.159*\"mission\" + 0.153*\"material\"'),\n",
              " (3,\n",
              "  '0.601*\"observation\" + -0.586*\"datum\" + 0.214*\"analysis\" + -0.175*\"set\" + 0.150*\"error\" + 0.149*\"level\" + 0.141*\"survey\" + 0.131*\"pressure\" + 0.103*\"product\" + 0.086*\"assimilation\"'),\n",
              " (4,\n",
              "  '0.554*\"product\" + -0.342*\"observation\" + -0.315*\"analysis\" + -0.284*\"datum\" + 0.226*\"temperature\" + 0.202*\"surface\" + -0.163*\"set\" + -0.160*\"instrument\" + -0.140*\"error\" + 0.138*\"pressure\"'),\n",
              " (5,\n",
              "  '0.561*\"temperature\" + 0.415*\"sensor\" + -0.307*\"model\" + -0.289*\"product\" + 0.235*\"material\" + -0.166*\"tool\" + -0.159*\"mission\" + -0.141*\"design\" + -0.123*\"software\" + -0.106*\"flight\"')]"
            ]
          },
          "metadata": {
            "tags": []
          },
          "execution_count": 44
        }
      ]
    },
    {
      "cell_type": "code",
      "metadata": {
        "id": "ZzR1G1VLpdJq",
        "colab_type": "code",
        "outputId": "2f4a3e8c-4436-4e8b-923c-3b84a9b52116",
        "colab": {}
      },
      "source": [
        "lsitopics = lsimodel.show_topics(formatted=False)\n",
        "lsitopics"
      ],
      "execution_count": 0,
      "outputs": [
        {
          "output_type": "execute_result",
          "data": {
            "text/plain": [
              "[(0,\n",
              "  [('datum', 0.40716350364201515),\n",
              "   ('nbsp', 0.3506439005490263),\n",
              "   ('product', 0.2664449317831131),\n",
              "   ('observation', 0.20575953336807012),\n",
              "   ('mission', 0.17092357378913114),\n",
              "   ('set', 0.1595203421813094),\n",
              "   ('technology', 0.153496015650872),\n",
              "   ('temperature', 0.14252833897993256),\n",
              "   ('surface', 0.14221489120003816),\n",
              "   ('time', 0.1401813511233511)]),\n",
              " (1,\n",
              "  [('nbsp', 0.7570636545277211),\n",
              "   ('datum', -0.3225659451648506),\n",
              "   ('product', -0.2907046178988203),\n",
              "   ('observation', -0.24869427460214463),\n",
              "   ('file', -0.15221543841298812),\n",
              "   ('set', -0.14629583372725666),\n",
              "   ('design', 0.08938463720691237),\n",
              "   ('technology', 0.0849029259556698),\n",
              "   ('survey', -0.06822797535441015),\n",
              "   ('information', -0.06615239707966454)]),\n",
              " (2,\n",
              "  [('nbsp', -0.534441645429847),\n",
              "   ('technology', 0.2582652558980328),\n",
              "   ('observation', -0.2557332289751957),\n",
              "   ('product', -0.22338941576601268),\n",
              "   ('system', 0.1912850512491037),\n",
              "   ('performance', 0.1756583043195039),\n",
              "   ('design', 0.17217008407307782),\n",
              "   ('datum', -0.16043554145599304),\n",
              "   ('mission', 0.158589873119999),\n",
              "   ('material', 0.15281177395525475)]),\n",
              " (3,\n",
              "  [('observation', 0.6007362436828059),\n",
              "   ('datum', -0.5860873154239218),\n",
              "   ('analysis', 0.2138911008386895),\n",
              "   ('set', -0.17465785563782804),\n",
              "   ('error', 0.150355318689511),\n",
              "   ('level', 0.14925093691140956),\n",
              "   ('survey', 0.14129166236469337),\n",
              "   ('pressure', 0.1311248904690668),\n",
              "   ('product', 0.10307719811424464),\n",
              "   ('assimilation', 0.08613074334529498)]),\n",
              " (4,\n",
              "  [('product', 0.553831373303292),\n",
              "   ('observation', -0.3415447452638915),\n",
              "   ('analysis', -0.31494965030276534),\n",
              "   ('datum', -0.2841346328725081),\n",
              "   ('temperature', 0.22552568050622943),\n",
              "   ('surface', 0.20243496231149358),\n",
              "   ('set', -0.16290192112486923),\n",
              "   ('instrument', -0.1601645642108381),\n",
              "   ('error', -0.13988889339935565),\n",
              "   ('pressure', 0.13811696537993498)]),\n",
              " (5,\n",
              "  [('temperature', 0.5609634942160823),\n",
              "   ('sensor', 0.414920026459969),\n",
              "   ('model', -0.30655034452895463),\n",
              "   ('product', -0.2893138406242479),\n",
              "   ('material', 0.2350311510202112),\n",
              "   ('tool', -0.16647128725219823),\n",
              "   ('mission', -0.1589721764574125),\n",
              "   ('design', -0.14125349289296674),\n",
              "   ('software', -0.12304684306965782),\n",
              "   ('flight', -0.10572335767426753)]),\n",
              " (6,\n",
              "  [('sensor', 0.7594957048450328),\n",
              "   ('material', -0.3009848380208425),\n",
              "   ('temperature', -0.212450841363716),\n",
              "   ('set', -0.15079820036242964),\n",
              "   ('technology', -0.12233966992021032),\n",
              "   ('product', 0.12058364276777689),\n",
              "   ('model', 0.11008502924141399),\n",
              "   ('suit', 0.10778289352101027),\n",
              "   ('file', -0.1025872139386399),\n",
              "   ('power', -0.09552273799979488)]),\n",
              " (7,\n",
              "  [('model', -0.4801218926017413),\n",
              "   ('mission', 0.47500556793650317),\n",
              "   ('technology', 0.29270767216848737),\n",
              "   ('material', -0.23488713266910313),\n",
              "   ('instrument', 0.1971783942854397),\n",
              "   ('spacecraft', 0.1622670764405878),\n",
              "   ('power', 0.15123767164333274),\n",
              "   ('temperature', -0.15101456767050664),\n",
              "   ('tool', -0.13210041758590868),\n",
              "   ('design', -0.1300377409534198)]),\n",
              " (8,\n",
              "  [('product', -0.3927599134728446),\n",
              "   ('pressure', 0.38566644735576766),\n",
              "   ('file', 0.29906106448562675),\n",
              "   ('survey', 0.2750992202203263),\n",
              "   ('level', 0.24915157836168783),\n",
              "   ('material', -0.21629633589930508),\n",
              "   ('analysis', -0.20303627731883092),\n",
              "   ('set', 0.199373782002576),\n",
              "   ('orbit', 0.16550140345414305),\n",
              "   ('instrument', -0.1438690747690143)]),\n",
              " (9,\n",
              "  [('temperature', -0.31373055671568917),\n",
              "   ('model', -0.30396938829724107),\n",
              "   ('technology', 0.2989145658511443),\n",
              "   ('mission', -0.2983946874415784),\n",
              "   ('surface', -0.25886290226024855),\n",
              "   ('instrument', -0.24714430700548579),\n",
              "   ('time', -0.22684934331042647),\n",
              "   ('material', 0.22061471658062928),\n",
              "   ('product', 0.1689395266657257),\n",
              "   ('datum', 0.16450855978090026)])]"
            ]
          },
          "metadata": {
            "tags": []
          },
          "execution_count": 45
        }
      ]
    },
    {
      "cell_type": "code",
      "metadata": {
        "id": "Yj_UAYZ-pdKA",
        "colab_type": "code",
        "outputId": "48bb3833-c7ab-45be-cadd-d32d843b3eda",
        "colab": {}
      },
      "source": [
        "# Compute Coherence Score\n",
        "coherence_model_lsi = CoherenceModel(model=lsimodel, texts=data_lemmatized, dictionary=id2word, coherence='c_v')\n",
        "coherence_lsi = coherence_model_lsi.get_coherence()\n",
        "print('\\nCoherence Score: ', coherence_lsi)"
      ],
      "execution_count": 0,
      "outputs": [
        {
          "output_type": "stream",
          "text": [
            "\n",
            "Coherence Score:  0.43548814034118133\n"
          ],
          "name": "stdout"
        }
      ]
    },
    {
      "cell_type": "markdown",
      "metadata": {
        "id": "vbAVMbBKpdKE",
        "colab_type": "text"
      },
      "source": [
        "#### 3. Topic modeling with HDP¶\n",
        "\n",
        "An HDP model is fully unsupervised. It can also determine the ideal number of topics it needs through posterior inference.\n"
      ]
    },
    {
      "cell_type": "code",
      "metadata": {
        "id": "caZCRx-SpdKG",
        "colab_type": "code",
        "colab": {}
      },
      "source": [
        "hdpmodel = HdpModel(corpus=corpus, id2word=id2word)"
      ],
      "execution_count": 0,
      "outputs": []
    },
    {
      "cell_type": "code",
      "metadata": {
        "id": "eCddXY2QpdKL",
        "colab_type": "code",
        "outputId": "ea03439b-d6a6-4f85-bd82-40340c5fa189",
        "colab": {}
      },
      "source": [
        "hdpmodel.show_topics()"
      ],
      "execution_count": 0,
      "outputs": [
        {
          "output_type": "execute_result",
          "data": {
            "text/plain": [
              "[(0,\n",
              "  '0.012*technology + 0.010*system + 0.009*design + 0.009*mission + 0.009*performance + 0.008*datum + 0.008*material + 0.008*temperature + 0.007*sensor + 0.007*model + 0.007*space + 0.007*nbsp + 0.006*power + 0.006*application + 0.006*time + 0.006*process + 0.005*test + 0.005*flight + 0.005*use + 0.005*surface'),\n",
              " (1,\n",
              "  '0.035*datum + 0.030*product + 0.025*observation + 0.014*file + 0.014*set + 0.010*instrument + 0.010*surface + 0.010*analysis + 0.009*time + 0.009*data + 0.008*temperature + 0.008*information + 0.007*mission + 0.007*level + 0.006*resolution + 0.006*error + 0.006*orbit + 0.005*satellite + 0.005*sensor + 0.005*image'),\n",
              " (2,\n",
              "  '0.015*datum + 0.010*technology + 0.009*mission + 0.008*product + 0.008*system + 0.007*design + 0.007*performance + 0.007*temperature + 0.006*time + 0.006*material + 0.006*surface + 0.006*model + 0.005*space + 0.005*process + 0.005*set + 0.005*sensor + 0.005*application + 0.005*use + 0.004*power + 0.004*file'),\n",
              " (3,\n",
              "  '0.032*datum + 0.015*product + 0.012*set + 0.011*file + 0.009*surface + 0.009*time + 0.008*temperature + 0.007*mission + 0.007*instrument + 0.007*resolution + 0.007*technology + 0.006*data + 0.006*image + 0.006*sensor + 0.006*model + 0.005*observation + 0.005*degree + 0.005*information + 0.005*site + 0.005*design'),\n",
              " (4,\n",
              "  '0.015*datum + 0.008*product + 0.007*temperature + 0.006*set + 0.005*technology + 0.005*file + 0.005*mission + 0.004*time + 0.004*surface + 0.004*material + 0.004*system + 0.004*performance + 0.003*data + 0.003*sensor + 0.003*instrument + 0.003*resolution + 0.003*use + 0.003*application + 0.003*space + 0.003*model'),\n",
              " (5,\n",
              "  '0.010*datum + 0.005*product + 0.004*set + 0.003*mission + 0.003*file + 0.003*technology + 0.003*time + 0.003*temperature + 0.002*surface + 0.002*sensor + 0.002*data + 0.002*system + 0.002*instrument + 0.002*resolution + 0.002*observation + 0.002*power + 0.002*image + 0.002*model + 0.002*degree + 0.002*band'),\n",
              " (6,\n",
              "  '0.009*datum + 0.004*product + 0.004*set + 0.003*temperature + 0.003*surface + 0.003*file + 0.002*technology + 0.002*mission + 0.002*resolution + 0.002*material + 0.002*time + 0.002*system + 0.002*sensor + 0.002*project + 0.002*instrument + 0.002*performance + 0.002*image + 0.002*data + 0.002*design + 0.001*use'),\n",
              " (7,\n",
              "  '0.006*datum + 0.003*surface + 0.003*product + 0.003*set + 0.002*sensor + 0.002*temperature + 0.002*instrument + 0.002*flow + 0.002*mission + 0.002*system + 0.002*image + 0.002*band + 0.002*time + 0.001*network + 0.001*file + 0.001*model + 0.001*technology + 0.001*spacecraft + 0.001*data + 0.001*satellite'),\n",
              " (8,\n",
              "  '0.008*datum + 0.004*set + 0.003*product + 0.002*surface + 0.002*mission + 0.002*file + 0.002*time + 0.002*instrument + 0.002*temperature + 0.001*orbit + 0.001*image + 0.001*band + 0.001*spacecraft + 0.001*resolution + 0.001*data + 0.001*model + 0.001*sensor + 0.001*study + 0.001*technology + 0.001*performance'),\n",
              " (9,\n",
              "  '0.014*datum + 0.006*set + 0.004*time + 0.004*level + 0.004*rate + 0.004*particle + 0.004*lecp + 0.003*energy + 0.003*data + 0.003*period + 0.003*value + 0.002*product + 0.002*ion + 0.002*file + 0.002*channel + 0.002*intensity + 0.002*mass + 0.002*spacecraft + 0.002*instrument + 0.002*study'),\n",
              " (10,\n",
              "  '0.006*datum + 0.003*product + 0.003*set + 0.002*model + 0.002*impact + 0.002*probability + 0.002*file + 0.002*mission + 0.002*surface + 0.001*time + 0.001*chest + 0.001*temperature + 0.001*rate + 0.001*instrument + 0.001*injury + 0.001*resolution + 0.001*degree + 0.001*image + 0.001*data + 0.001*band'),\n",
              " (11,\n",
              "  '0.005*datum + 0.003*set + 0.002*temperature + 0.001*time + 0.001*product + 0.001*mission + 0.001*design + 0.001*file + 0.001*power + 0.001*surface + 0.001*performance + 0.001*system + 0.001*technology + 0.001*information + 0.001*sensor + 0.001*instrument + 0.001*satellite + 0.001*capability + 0.001*effort + 0.001*data'),\n",
              " (12,\n",
              "  '0.005*datum + 0.002*set + 0.001*mission + 0.001*product + 0.001*technology + 0.001*project + 0.001*file + 0.001*image + 0.001*surface + 0.001*instrument + 0.001*observation + 0.001*flight + 0.001*application + 0.001*time + 0.001*operation + 0.001*space + 0.001*cell + 0.001*temperature + 0.001*spacecraft + 0.001*system'),\n",
              " (13,\n",
              "  '0.005*datum + 0.003*set + 0.002*mission + 0.002*file + 0.001*product + 0.001*time + 0.001*technology + 0.001*satellite + 0.001*system + 0.001*instrument + 0.001*image + 0.001*spacecraft + 0.001*surface + 0.001*flight + 0.001*data + 0.001*contain + 0.001*area + 0.001*power + 0.001*design + 0.001*use'),\n",
              " (14,\n",
              "  '0.003*datum + 0.002*mission + 0.002*set + 0.002*technology + 0.001*system + 0.001*design + 0.001*temperature + 0.001*project + 0.001*performance + 0.001*model + 0.001*effort + 0.001*spacecraft + 0.001*concept + 0.001*surface + 0.001*information + 0.001*product + 0.001*material + 0.001*capability + 0.001*use + 0.001*flight'),\n",
              " (15,\n",
              "  '0.003*datum + 0.002*sensor + 0.002*set + 0.001*technology + 0.001*time + 0.001*pressure + 0.001*temperature + 0.001*mission + 0.001*system + 0.001*structure + 0.001*material + 0.001*file + 0.001*measurement + 0.001*product + 0.001*test + 0.001*surface + 0.001*process + 0.001*flight + 0.001*control + 0.001*model'),\n",
              " (16,\n",
              "  '0.003*datum + 0.002*set + 0.001*technology + 0.001*mission + 0.001*system + 0.001*performance + 0.001*design + 0.001*instrument + 0.001*source + 0.001*use + 0.001*product + 0.001*project + 0.001*temperature + 0.001*information + 0.001*file + 0.001*power + 0.001*model + 0.001*image + 0.001*high + 0.001*program'),\n",
              " (17,\n",
              "  '0.003*datum + 0.002*energy + 0.002*battery + 0.001*set + 0.001*technology + 0.001*temperature + 0.001*system + 0.001*mission + 0.001*surface + 0.001*space + 0.001*bias_measure + 0.001*material + 0.001*bound_background + 0.001*power + 0.001*time + 0.001*density + 0.001*spacecraft + 0.001*product + 0.001*file + 0.001*cost'),\n",
              " (18,\n",
              "  '0.003*planet + 0.003*satellite + 0.003*datum + 0.002*surface + 0.002*time + 0.002*information + 0.002*founding + 0.002*union_iau + 0.002*ring + 0.001*feature + 0.001*system + 0.001*set + 0.001*product + 0.001*file + 0.001*mission + 0.001*temperature + 0.001*performance + 0.001*instrument + 0.001*sea + 0.001*water'),\n",
              " (19,\n",
              "  '0.004*datum + 0.002*set + 0.001*product + 0.001*mission + 0.001*time + 0.001*file + 0.001*instrument + 0.001*surface + 0.001*information + 0.001*image + 0.001*satellite + 0.001*flight + 0.001*band + 0.001*data + 0.001*spacecraft + 0.001*approach + 0.001*temperature + 0.001*material + 0.001*resolution + 0.001*performance')]"
            ]
          },
          "metadata": {
            "tags": []
          },
          "execution_count": 48
        }
      ]
    },
    {
      "cell_type": "code",
      "metadata": {
        "id": "-S_a4OV3pdKX",
        "colab_type": "code",
        "outputId": "c2f5dee8-4d4c-403a-b81c-5f82b369e5e7",
        "colab": {}
      },
      "source": [
        "hdptopics = hdpmodel.show_topics(formatted=False)\n",
        "hdptopics"
      ],
      "execution_count": 0,
      "outputs": [
        {
          "output_type": "execute_result",
          "data": {
            "text/plain": [
              "[(0,\n",
              "  [('technology', 0.012428416147144706),\n",
              "   ('system', 0.009915659814634851),\n",
              "   ('design', 0.009456031527366425),\n",
              "   ('mission', 0.009406645803848271),\n",
              "   ('performance', 0.00888672289727726),\n",
              "   ('datum', 0.008485233235916644),\n",
              "   ('material', 0.007822094304379917),\n",
              "   ('temperature', 0.007615217596581197),\n",
              "   ('sensor', 0.0072011784715480046),\n",
              "   ('model', 0.0070636809983447265),\n",
              "   ('space', 0.006634290179816059),\n",
              "   ('nbsp', 0.006595771981567969),\n",
              "   ('power', 0.006284134602206812),\n",
              "   ('application', 0.006208282770836645),\n",
              "   ('time', 0.005987099747440655),\n",
              "   ('process', 0.005663974240371439),\n",
              "   ('test', 0.005451081331936331),\n",
              "   ('flight', 0.005385158941303163),\n",
              "   ('use', 0.005069149906772312),\n",
              "   ('surface', 0.005049405188232051)]),\n",
              " (1,\n",
              "  [('datum', 0.03454769544343014),\n",
              "   ('product', 0.029605984970980544),\n",
              "   ('observation', 0.025379209843543842),\n",
              "   ('file', 0.014197342826227704),\n",
              "   ('set', 0.013879272104525735),\n",
              "   ('instrument', 0.009794686992591225),\n",
              "   ('surface', 0.009568175216274422),\n",
              "   ('analysis', 0.009535325599750226),\n",
              "   ('time', 0.009103184766622325),\n",
              "   ('data', 0.009010497154187018),\n",
              "   ('temperature', 0.008487284895763109),\n",
              "   ('information', 0.008168593657443072),\n",
              "   ('mission', 0.0070891746781584645),\n",
              "   ('level', 0.007031203025971424),\n",
              "   ('resolution', 0.006294374690666672),\n",
              "   ('error', 0.006273512871172822),\n",
              "   ('orbit', 0.005905804779711825),\n",
              "   ('satellite', 0.005072709282470577),\n",
              "   ('sensor', 0.004972532954265488),\n",
              "   ('image', 0.0047848989426131)]),\n",
              " (2,\n",
              "  [('datum', 0.01499412753566643),\n",
              "   ('technology', 0.009970903686714097),\n",
              "   ('mission', 0.008684821941035875),\n",
              "   ('product', 0.00847008881281429),\n",
              "   ('system', 0.008022379821544565),\n",
              "   ('design', 0.007184420279911034),\n",
              "   ('performance', 0.007074816382928205),\n",
              "   ('temperature', 0.006732071540172327),\n",
              "   ('time', 0.006085370846373891),\n",
              "   ('material', 0.006049474993324656),\n",
              "   ('surface', 0.005961948010588696),\n",
              "   ('model', 0.005715782742551736),\n",
              "   ('space', 0.005307017087670328),\n",
              "   ('process', 0.005299494728571913),\n",
              "   ('set', 0.005297436949189222),\n",
              "   ('sensor', 0.00511375287801177),\n",
              "   ('application', 0.005027493587337438),\n",
              "   ('use', 0.0046979605336788825),\n",
              "   ('power', 0.004382792903720184),\n",
              "   ('file', 0.004333142261134753)]),\n",
              " (3,\n",
              "  [('datum', 0.032153162689345934),\n",
              "   ('product', 0.015101784314414262),\n",
              "   ('set', 0.012156755232163256),\n",
              "   ('file', 0.011115564464934976),\n",
              "   ('surface', 0.008842645727466325),\n",
              "   ('time', 0.00854443046976839),\n",
              "   ('temperature', 0.008127281513577191),\n",
              "   ('mission', 0.007462195976137818),\n",
              "   ('instrument', 0.006910097830605253),\n",
              "   ('resolution', 0.0066742982066492935),\n",
              "   ('technology', 0.006671439114603444),\n",
              "   ('data', 0.0063481270379415955),\n",
              "   ('image', 0.005717668625422724),\n",
              "   ('sensor', 0.005504403258702334),\n",
              "   ('model', 0.005501772202280196),\n",
              "   ('observation', 0.005345472294090298),\n",
              "   ('degree', 0.004995290260253962),\n",
              "   ('information', 0.004846103662020568),\n",
              "   ('site', 0.0045866054803286715),\n",
              "   ('design', 0.004580825539973071)]),\n",
              " (4,\n",
              "  [('datum', 0.01464500007309712),\n",
              "   ('product', 0.008135302383143727),\n",
              "   ('temperature', 0.006740268117303903),\n",
              "   ('set', 0.005952759320356531),\n",
              "   ('technology', 0.0051323097101608145),\n",
              "   ('file', 0.004960891599625523),\n",
              "   ('mission', 0.004823756025802336),\n",
              "   ('time', 0.004458304413270837),\n",
              "   ('surface', 0.004422460023383491),\n",
              "   ('material', 0.004117316558625999),\n",
              "   ('system', 0.003895060502425462),\n",
              "   ('performance', 0.0036385304744588117),\n",
              "   ('data', 0.0033233860509481383),\n",
              "   ('sensor', 0.0032309406269385725),\n",
              "   ('instrument', 0.0031365531800460786),\n",
              "   ('resolution', 0.0030660819393098235),\n",
              "   ('use', 0.0030232405262610395),\n",
              "   ('application', 0.0029470211293120656),\n",
              "   ('space', 0.00285567072432253),\n",
              "   ('model', 0.0028510362904594715)]),\n",
              " (5,\n",
              "  [('datum', 0.00969998739812863),\n",
              "   ('product', 0.005161656213102094),\n",
              "   ('set', 0.0041410967625289),\n",
              "   ('mission', 0.0033779107392529783),\n",
              "   ('file', 0.003025463512237554),\n",
              "   ('technology', 0.002818094606985233),\n",
              "   ('time', 0.002703150499122058),\n",
              "   ('temperature', 0.0026097763474096664),\n",
              "   ('surface', 0.002349733980172213),\n",
              "   ('sensor', 0.0023445551482855877),\n",
              "   ('data', 0.002216903972936571),\n",
              "   ('system', 0.002067466556045966),\n",
              "   ('instrument', 0.002042711621222377),\n",
              "   ('resolution', 0.001992491811135691),\n",
              "   ('observation', 0.0018771382703734025),\n",
              "   ('power', 0.0017945315144083955),\n",
              "   ('image', 0.0017149903292235694),\n",
              "   ('model', 0.0015645871870413927),\n",
              "   ('degree', 0.0015530063525425756),\n",
              "   ('band', 0.0015462040674454876)]),\n",
              " (6,\n",
              "  [('datum', 0.009087289263767062),\n",
              "   ('product', 0.004424040150137974),\n",
              "   ('set', 0.0036092027992315743),\n",
              "   ('temperature', 0.0027878269164876256),\n",
              "   ('surface', 0.002699611205481204),\n",
              "   ('file', 0.0025518158167122515),\n",
              "   ('technology', 0.002387956022550779),\n",
              "   ('mission', 0.0023012886469522334),\n",
              "   ('resolution', 0.002159178637836625),\n",
              "   ('material', 0.0020862848599701275),\n",
              "   ('time', 0.0020131243256539203),\n",
              "   ('system', 0.0019451149858752343),\n",
              "   ('sensor', 0.001788983143576788),\n",
              "   ('project', 0.0017416280896597781),\n",
              "   ('instrument', 0.0016321917893597783),\n",
              "   ('performance', 0.0016195341035550224),\n",
              "   ('image', 0.0016187456518729413),\n",
              "   ('data', 0.0015833170641979617),\n",
              "   ('design', 0.001517140901614663),\n",
              "   ('use', 0.0014903378820199174)]),\n",
              " (7,\n",
              "  [('datum', 0.006318383776412369),\n",
              "   ('surface', 0.0026700722845622747),\n",
              "   ('product', 0.0025283227655357515),\n",
              "   ('set', 0.0025269271896335523),\n",
              "   ('sensor', 0.0023033081588843245),\n",
              "   ('temperature', 0.0019751749887465886),\n",
              "   ('instrument', 0.0017185593148030783),\n",
              "   ('flow', 0.0017135766383444572),\n",
              "   ('mission', 0.00168077414328396),\n",
              "   ('system', 0.001671150651530067),\n",
              "   ('image', 0.0015744325469599194),\n",
              "   ('band', 0.0015400988248746418),\n",
              "   ('time', 0.0015094033626742252),\n",
              "   ('network', 0.001490991827978614),\n",
              "   ('file', 0.0014627395351122093),\n",
              "   ('model', 0.0013830094562999316),\n",
              "   ('technology', 0.001323975323540296),\n",
              "   ('spacecraft', 0.001323334789584691),\n",
              "   ('data', 0.001299974196532836),\n",
              "   ('satellite', 0.0012762800108126107)]),\n",
              " (8,\n",
              "  [('datum', 0.007974220066941462),\n",
              "   ('set', 0.0035531660358760642),\n",
              "   ('product', 0.0028445062461580537),\n",
              "   ('surface', 0.0022215441916105558),\n",
              "   ('mission', 0.002195582841857589),\n",
              "   ('file', 0.00204922495922663),\n",
              "   ('time', 0.0019505788672397736),\n",
              "   ('instrument', 0.0016645356830244404),\n",
              "   ('temperature', 0.0016409280969018978),\n",
              "   ('orbit', 0.001359840884231952),\n",
              "   ('image', 0.0013474492917597658),\n",
              "   ('band', 0.0013242598575016957),\n",
              "   ('spacecraft', 0.0013195832241621774),\n",
              "   ('resolution', 0.0012895728824854219),\n",
              "   ('data', 0.00126175776210195),\n",
              "   ('model', 0.001252112799277193),\n",
              "   ('sensor', 0.0011407350354834072),\n",
              "   ('study', 0.001103506123135043),\n",
              "   ('technology', 0.0011017303283397165),\n",
              "   ('performance', 0.0010879108610938138)]),\n",
              " (9,\n",
              "  [('datum', 0.013967412937512202),\n",
              "   ('set', 0.0060702841818507085),\n",
              "   ('time', 0.004298875764264119),\n",
              "   ('level', 0.003840066964893548),\n",
              "   ('rate', 0.0036650739351698196),\n",
              "   ('particle', 0.0036565251594848987),\n",
              "   ('lecp', 0.0036392078193448574),\n",
              "   ('energy', 0.0034937930809638695),\n",
              "   ('data', 0.0034907884420096167),\n",
              "   ('period', 0.003276067972706794),\n",
              "   ('value', 0.0030349894593308226),\n",
              "   ('product', 0.0023370522382163863),\n",
              "   ('ion', 0.002063268565088051),\n",
              "   ('file', 0.00201387638556547),\n",
              "   ('channel', 0.0019284344577506843),\n",
              "   ('intensity', 0.0018797855200148041),\n",
              "   ('mass', 0.00183716260205515),\n",
              "   ('spacecraft', 0.001826382154140389),\n",
              "   ('instrument', 0.0018170027448230995),\n",
              "   ('study', 0.0017812456179097684)]),\n",
              " (10,\n",
              "  [('datum', 0.0057219303785760916),\n",
              "   ('product', 0.002692235345073927),\n",
              "   ('set', 0.0026331440764377997),\n",
              "   ('model', 0.0020879460351643907),\n",
              "   ('impact', 0.00203744400485727),\n",
              "   ('probability', 0.0018395832663902576),\n",
              "   ('file', 0.001600222782585019),\n",
              "   ('mission', 0.0015959199808825133),\n",
              "   ('surface', 0.0015420761769734063),\n",
              "   ('time', 0.001286606356478457),\n",
              "   ('chest', 0.0012216828646805483),\n",
              "   ('temperature', 0.0012175603380967478),\n",
              "   ('rate', 0.0011688031924317144),\n",
              "   ('instrument', 0.001130892624552507),\n",
              "   ('injury', 0.0010968530720904851),\n",
              "   ('resolution', 0.0010168425168913537),\n",
              "   ('degree', 0.0009939703516941571),\n",
              "   ('image', 0.000990129508965497),\n",
              "   ('data', 0.0009774450442411264),\n",
              "   ('band', 0.0009407466044532336)]),\n",
              " (11,\n",
              "  [('datum', 0.00457331838701759),\n",
              "   ('set', 0.0026150509167414122),\n",
              "   ('temperature', 0.0016996729518477236),\n",
              "   ('time', 0.0014823595586661476),\n",
              "   ('product', 0.0013762852763243769),\n",
              "   ('mission', 0.0013557036242905147),\n",
              "   ('design', 0.0013068943380587584),\n",
              "   ('file', 0.0011642088517165596),\n",
              "   ('power', 0.0010809779274253211),\n",
              "   ('surface', 0.0010409568393173147),\n",
              "   ('performance', 0.0010368939789360831),\n",
              "   ('system', 0.0010126481964823476),\n",
              "   ('technology', 0.0009479570886702302),\n",
              "   ('information', 0.000945532891584933),\n",
              "   ('sensor', 0.0009452977507927931),\n",
              "   ('instrument', 0.0009172428780458906),\n",
              "   ('satellite', 0.0008322538449264771),\n",
              "   ('capability', 0.0007835599486973134),\n",
              "   ('effort', 0.0007779936477789241),\n",
              "   ('data', 0.0007754879139783791)]),\n",
              " (12,\n",
              "  [('datum', 0.004520815374702578),\n",
              "   ('set', 0.002138647008865905),\n",
              "   ('mission', 0.001481849827285705),\n",
              "   ('product', 0.0012996052323250998),\n",
              "   ('technology', 0.0012060822708263022),\n",
              "   ('project', 0.0011349256146336092),\n",
              "   ('file', 0.0011256624551258842),\n",
              "   ('image', 0.0011246977845993569),\n",
              "   ('surface', 0.0010483895742088554),\n",
              "   ('instrument', 0.0010389089416653532),\n",
              "   ('observation', 0.0009319337631138975),\n",
              "   ('flight', 0.0009318988843981826),\n",
              "   ('application', 0.0009174539043025693),\n",
              "   ('time', 0.0008421739823923557),\n",
              "   ('operation', 0.0008389164186284822),\n",
              "   ('space', 0.0008153351690715616),\n",
              "   ('cell', 0.0008145309455230412),\n",
              "   ('temperature', 0.0008049582080634566),\n",
              "   ('spacecraft', 0.0008046576617077984),\n",
              "   ('system', 0.0007988490207138506)]),\n",
              " (13,\n",
              "  [('datum', 0.0049720164892360615),\n",
              "   ('set', 0.002501591590236278),\n",
              "   ('mission', 0.0018690295720198637),\n",
              "   ('file', 0.0015106654794142698),\n",
              "   ('product', 0.0012333254290738122),\n",
              "   ('time', 0.0011676734020116908),\n",
              "   ('technology', 0.001097529880215705),\n",
              "   ('satellite', 0.0009766436552866445),\n",
              "   ('system', 0.0009759329034806614),\n",
              "   ('instrument', 0.0009638557501323178),\n",
              "   ('image', 0.0009626559245987637),\n",
              "   ('spacecraft', 0.0009539398656790304),\n",
              "   ('surface', 0.0009047724405359813),\n",
              "   ('flight', 0.0009001042534781924),\n",
              "   ('data', 0.0008546232682471397),\n",
              "   ('contain', 0.0008276580976946649),\n",
              "   ('area', 0.0007854125111324878),\n",
              "   ('power', 0.0007791710569127815),\n",
              "   ('design', 0.0007791030141118862),\n",
              "   ('use', 0.0007725808201007757)]),\n",
              " (14,\n",
              "  [('datum', 0.0030810466043481514),\n",
              "   ('mission', 0.0016969722620776412),\n",
              "   ('set', 0.0015758512516191913),\n",
              "   ('technology', 0.0015716552450729217),\n",
              "   ('system', 0.0014831409007866224),\n",
              "   ('design', 0.0012160009251903623),\n",
              "   ('temperature', 0.0010147947489488546),\n",
              "   ('project', 0.0009920096860208587),\n",
              "   ('performance', 0.0009902970156246411),\n",
              "   ('model', 0.0009753998318808385),\n",
              "   ('effort', 0.0009446330465155402),\n",
              "   ('spacecraft', 0.0009101928524566298),\n",
              "   ('concept', 0.0008847364825220738),\n",
              "   ('surface', 0.0008805263321574964),\n",
              "   ('information', 0.0008771558402728521),\n",
              "   ('product', 0.0008771002374514524),\n",
              "   ('material', 0.0008400057233232509),\n",
              "   ('capability', 0.0008333573714772912),\n",
              "   ('use', 0.0008113955627485848),\n",
              "   ('flight', 0.0007812347824907639)]),\n",
              " (15,\n",
              "  [('datum', 0.003408811048965934),\n",
              "   ('sensor', 0.002236053688164745),\n",
              "   ('set', 0.001981924022369794),\n",
              "   ('technology', 0.0014571876288679152),\n",
              "   ('time', 0.0014261347577028865),\n",
              "   ('pressure', 0.0013350848537848315),\n",
              "   ('temperature', 0.0013180912357489167),\n",
              "   ('mission', 0.0011879300619025267),\n",
              "   ('system', 0.0010749781396461589),\n",
              "   ('structure', 0.0009569969918056982),\n",
              "   ('material', 0.0009473771620190646),\n",
              "   ('file', 0.0009419158934651464),\n",
              "   ('measurement', 0.0009312453205796795),\n",
              "   ('product', 0.0009206029320001747),\n",
              "   ('test', 0.0008234587829414618),\n",
              "   ('surface', 0.0008210599130957285),\n",
              "   ('process', 0.0007905941478540205),\n",
              "   ('flight', 0.0007847654611186801),\n",
              "   ('control', 0.0007795176606317229),\n",
              "   ('model', 0.0007445468952507003)]),\n",
              " (16,\n",
              "  [('datum', 0.003263931464635014),\n",
              "   ('set', 0.0016636140427060343),\n",
              "   ('technology', 0.0014616534582219361),\n",
              "   ('mission', 0.0011712478709876362),\n",
              "   ('system', 0.0011082382473799515),\n",
              "   ('performance', 0.0010366451971075214),\n",
              "   ('design', 0.001006866511068429),\n",
              "   ('instrument', 0.0009586946523714134),\n",
              "   ('source', 0.0008969175093575698),\n",
              "   ('use', 0.0008634642294234045),\n",
              "   ('product', 0.0008433658897217273),\n",
              "   ('project', 0.000806769603629187),\n",
              "   ('temperature', 0.000784959394010295),\n",
              "   ('information', 0.0007790401302131988),\n",
              "   ('file', 0.0007774829004794674),\n",
              "   ('power', 0.0007703786734326272),\n",
              "   ('model', 0.0007547243452038139),\n",
              "   ('image', 0.0007057614476329611),\n",
              "   ('high', 0.0006963566776677855),\n",
              "   ('program', 0.0006830130111956437)]),\n",
              " (17,\n",
              "  [('datum', 0.0027667889224929315),\n",
              "   ('energy', 0.0019983461438230947),\n",
              "   ('battery', 0.0017783858857597487),\n",
              "   ('set', 0.0014338711073585845),\n",
              "   ('technology', 0.0013133993478097845),\n",
              "   ('temperature', 0.001162623879702854),\n",
              "   ('system', 0.0011171303636367434),\n",
              "   ('mission', 0.0010853732290126692),\n",
              "   ('surface', 0.001023343721176147),\n",
              "   ('space', 0.0009842134369518424),\n",
              "   ('bias_measure', 0.0009544078594796403),\n",
              "   ('material', 0.0009448001275409043),\n",
              "   ('bound_background', 0.0009192324012135501),\n",
              "   ('power', 0.000881804493908052),\n",
              "   ('time', 0.0008560469193797786),\n",
              "   ('density', 0.0007694156369314768),\n",
              "   ('spacecraft', 0.0007680942882253584),\n",
              "   ('product', 0.000762633459786288),\n",
              "   ('file', 0.0007563211996713246),\n",
              "   ('cost', 0.0007293366280073159)]),\n",
              " (18,\n",
              "  [('planet', 0.0033807698572858357),\n",
              "   ('satellite', 0.003308625350521468),\n",
              "   ('datum', 0.0027233644620217436),\n",
              "   ('surface', 0.0019526715999293863),\n",
              "   ('time', 0.0017565888011077731),\n",
              "   ('information', 0.0017123550583552792),\n",
              "   ('founding', 0.0016838365012885644),\n",
              "   ('union_iau', 0.0016602926820282308),\n",
              "   ('ring', 0.001634220433269366),\n",
              "   ('feature', 0.0014464377110768776),\n",
              "   ('system', 0.001417859782492014),\n",
              "   ('set', 0.001308988315761866),\n",
              "   ('product', 0.0008188343121307418),\n",
              "   ('file', 0.0007658931518811143),\n",
              "   ('mission', 0.000693275056886597),\n",
              "   ('temperature', 0.0006358365394496805),\n",
              "   ('performance', 0.0006340864246365177),\n",
              "   ('instrument', 0.0006215619040979512),\n",
              "   ('sea', 0.0006087003953541149),\n",
              "   ('water', 0.0005768695900784808)]),\n",
              " (19,\n",
              "  [('datum', 0.003908769230081696),\n",
              "   ('set', 0.0017607017258025324),\n",
              "   ('product', 0.0012227696093914647),\n",
              "   ('mission', 0.0011081732496830393),\n",
              "   ('time', 0.0009771933285377306),\n",
              "   ('file', 0.0009131550501611256),\n",
              "   ('instrument', 0.0008907858248457637),\n",
              "   ('surface', 0.0008237553443297736),\n",
              "   ('information', 0.0007980302213930087),\n",
              "   ('image', 0.0007792986039216636),\n",
              "   ('satellite', 0.0007723116564672179),\n",
              "   ('flight', 0.0007563687873062419),\n",
              "   ('band', 0.0006914731119279729),\n",
              "   ('data', 0.0006815361892029194),\n",
              "   ('spacecraft', 0.0006630419047640667),\n",
              "   ('approach', 0.0006601991231945449),\n",
              "   ('temperature', 0.0006504074000292853),\n",
              "   ('material', 0.0006465922566434864),\n",
              "   ('resolution', 0.0006169648020580443),\n",
              "   ('performance', 0.0006002043194168241)])]"
            ]
          },
          "metadata": {
            "tags": []
          },
          "execution_count": 49
        }
      ]
    },
    {
      "cell_type": "code",
      "metadata": {
        "id": "F-eB61r1pdKb",
        "colab_type": "code",
        "outputId": "5dc5a9c7-ea79-4da2-ed68-d89b77aee6b5",
        "colab": {}
      },
      "source": [
        "# Compute Coherence Score\n",
        "coherence_model_hdp = CoherenceModel(model=hdpmodel, texts=data_lemmatized, dictionary=id2word, coherence='c_v')\n",
        "coherence_hdp = coherence_model_hdp.get_coherence()\n",
        "print('\\nCoherence Score: ', coherence_hdp)"
      ],
      "execution_count": 0,
      "outputs": [
        {
          "output_type": "stream",
          "text": [
            "\n",
            "Coherence Score:  0.5067771927334542\n"
          ],
          "name": "stdout"
        }
      ]
    },
    {
      "cell_type": "markdown",
      "metadata": {
        "id": "8sRqFjGgpdKe",
        "colab_type": "text"
      },
      "source": [
        "#### 4. Nonnegative Double Singular Value Decomposition\n",
        "Nonnegative Double Singular Value Decomposition (NNDSVD)  is a new method designed to enhance the initialization stage of the nonnegative matrix factorization. The basic algorithm contains no randomization and is based on two SVD processes, one approximating the data matrix, the other approximating positive sections of the resulting partial SVD factors utilizing an algebraic property of unit rank matrices.\n"
      ]
    },
    {
      "cell_type": "markdown",
      "metadata": {
        "id": "f0h8Us-WpdKe",
        "colab_type": "text"
      },
      "source": [
        "##### Selecting the number of topics with Topic Coherence\n",
        "Topic Modelling algortihms require the number of topics as a parameter. However, we do not know the correct value a priori since it is an unsupervised technique and we do not have labels. To pick the value for the number of topics we can use several heuristics, such as Topic Coherence, used in (https://www.insight-centre.org/sites/default/files/publications/15.010_eswa2014_final_submit.pdf and https://github.com/derekgreene/topic-model-tutorial)\n",
        "\n",
        "The Topic Coherence-Word2Vec (TC-W2V) metric measures the coherence between words assigned to a topic, i.e.: how semantically close are the words that describe a topic. We can train a Word2Vec model on our collection of documents that will organise the words in a n-dimensional space where semantically similar words are close to each other. The TC-W2V for a topic will be the average similarity between all pairs of the top-n words describing the topic (we define similarity to be 1 when the distance between the words in the n-dimensional space is 0). We then train an NMF model for different values of the number of topics (k) and for each we calculate the average TC-W2V across all topics. The k with the highest average TC-W2V is used to train a final NMF model."
      ]
    },
    {
      "cell_type": "markdown",
      "metadata": {
        "id": "X078y7VrpdKg",
        "colab_type": "text"
      },
      "source": [
        "##### Preparing the data\n",
        "Scikit-learn has a simple and fast implementation of NMF that we can use. The input to the model are tf-idf vectors from the corpus. Using tf-idf vector allows us to penalise common words that are in every document and favour words that are less common and more descriptive. For more on tf-idf check http://www.tfidf.com/ In this process we also remove stopwords, which are common words that do not provide any meaning such as a, the, but, etc."
      ]
    },
    {
      "cell_type": "code",
      "metadata": {
        "id": "HxfkBSlupdKh",
        "colab_type": "code",
        "colab": {}
      },
      "source": [
        "no_topics = 4\n",
        "nmf=NMF(n_components = no_topics, random_state =1, alpha=0.1, l1_ratio = 0.5, init= 'nndsvd').fit(tfidf)"
      ],
      "execution_count": 0,
      "outputs": []
    },
    {
      "cell_type": "code",
      "metadata": {
        "id": "MZr0GKedpdKk",
        "colab_type": "code",
        "colab": {}
      },
      "source": [
        "def display_topics(model, feature_names, no_top_words):\n",
        "    col1 = 'topic'\n",
        "    col2 = 'top_ten_words'\n",
        "    dct = {col1: [], col2: []}\n",
        "    for topic_idx, topic in enumerate(model.components_):\n",
        "        dct[col1].append(str(topic_idx))\n",
        "        dct[col2].append(\" \".join([feature_names[i] for i in topic.argsort()[:-no_top_words - 1:-1]]))\n",
        "    return pd.DataFrame.from_dict(dct)"
      ],
      "execution_count": 0,
      "outputs": []
    },
    {
      "cell_type": "code",
      "metadata": {
        "id": "Hxwz2GJJpdKn",
        "colab_type": "code",
        "outputId": "67b85439-a720-4c4f-ed6b-dcd787fe6b31",
        "colab": {}
      },
      "source": [
        "no_top_words = 10\n",
        "topic_word = display_topics(nmf, tfidf_feature_names, no_top_words)\n",
        "topic_word"
      ],
      "execution_count": 0,
      "outputs": [
        {
          "output_type": "execute_result",
          "data": {
            "text/html": [
              "<div>\n",
              "<style scoped>\n",
              "    .dataframe tbody tr th:only-of-type {\n",
              "        vertical-align: middle;\n",
              "    }\n",
              "\n",
              "    .dataframe tbody tr th {\n",
              "        vertical-align: top;\n",
              "    }\n",
              "\n",
              "    .dataframe thead th {\n",
              "        text-align: right;\n",
              "    }\n",
              "</style>\n",
              "<table border=\"1\" class=\"dataframe\">\n",
              "  <thead>\n",
              "    <tr style=\"text-align: right;\">\n",
              "      <th></th>\n",
              "      <th>topic</th>\n",
              "      <th>top_ten_words</th>\n",
              "    </tr>\n",
              "  </thead>\n",
              "  <tbody>\n",
              "    <tr>\n",
              "      <td>0</td>\n",
              "      <td>0</td>\n",
              "      <td>data set contains phase file mission image ins...</td>\n",
              "    </tr>\n",
              "    <tr>\n",
              "      <td>1</td>\n",
              "      <td>1</td>\n",
              "      <td>technology design power material mission space...</td>\n",
              "    </tr>\n",
              "    <tr>\n",
              "      <td>2</td>\n",
              "      <td>2</td>\n",
              "      <td>product km data surface band resolution day sa...</td>\n",
              "    </tr>\n",
              "    <tr>\n",
              "      <td>3</td>\n",
              "      <td>3</td>\n",
              "      <td>observation analysis merra error background in...</td>\n",
              "    </tr>\n",
              "  </tbody>\n",
              "</table>\n",
              "</div>"
            ],
            "text/plain": [
              "  topic                                      top_ten_words\n",
              "0     0  data set contains phase file mission image ins...\n",
              "1     1  technology design power material mission space...\n",
              "2     2  product km data surface band resolution day sa...\n",
              "3     3  observation analysis merra error background in..."
            ]
          },
          "metadata": {
            "tags": []
          },
          "execution_count": 78
        }
      ]
    },
    {
      "cell_type": "code",
      "metadata": {
        "id": "RzD1tHWLpdKq",
        "colab_type": "code",
        "outputId": "c5069f96-95f5-4f44-8f12-6938e6740ef6",
        "colab": {}
      },
      "source": [
        "no_top_words = 3\n",
        "topic_word_3 = display_topics(nmf, tfidf_feature_names, no_top_words)\n",
        "topic_word_3['Theme'] = topic_word_3.top_ten_words.str.title()\n",
        "topic_word_4 = topic_word_3.loc[:,['topic', 'Theme']]\n",
        "topic_word_4"
      ],
      "execution_count": 0,
      "outputs": [
        {
          "output_type": "execute_result",
          "data": {
            "text/html": [
              "<div>\n",
              "<style scoped>\n",
              "    .dataframe tbody tr th:only-of-type {\n",
              "        vertical-align: middle;\n",
              "    }\n",
              "\n",
              "    .dataframe tbody tr th {\n",
              "        vertical-align: top;\n",
              "    }\n",
              "\n",
              "    .dataframe thead th {\n",
              "        text-align: right;\n",
              "    }\n",
              "</style>\n",
              "<table border=\"1\" class=\"dataframe\">\n",
              "  <thead>\n",
              "    <tr style=\"text-align: right;\">\n",
              "      <th></th>\n",
              "      <th>topic</th>\n",
              "      <th>Theme</th>\n",
              "    </tr>\n",
              "  </thead>\n",
              "  <tbody>\n",
              "    <tr>\n",
              "      <td>0</td>\n",
              "      <td>0</td>\n",
              "      <td>Data Set Contains</td>\n",
              "    </tr>\n",
              "    <tr>\n",
              "      <td>1</td>\n",
              "      <td>1</td>\n",
              "      <td>Technology Design Power</td>\n",
              "    </tr>\n",
              "    <tr>\n",
              "      <td>2</td>\n",
              "      <td>2</td>\n",
              "      <td>Product Km Data</td>\n",
              "    </tr>\n",
              "    <tr>\n",
              "      <td>3</td>\n",
              "      <td>3</td>\n",
              "      <td>Observation Analysis Merra</td>\n",
              "    </tr>\n",
              "  </tbody>\n",
              "</table>\n",
              "</div>"
            ],
            "text/plain": [
              "  topic                       Theme\n",
              "0     0           Data Set Contains\n",
              "1     1     Technology Design Power\n",
              "2     2             Product Km Data\n",
              "3     3  Observation Analysis Merra"
            ]
          },
          "metadata": {
            "tags": []
          },
          "execution_count": 79
        }
      ]
    },
    {
      "cell_type": "code",
      "metadata": {
        "id": "2aMUyUUzpdKv",
        "colab_type": "code",
        "outputId": "cf699dac-d519-489f-c7d5-ed39c78efc31",
        "colab": {}
      },
      "source": [
        "# Merge the theme with the top_ten\n",
        "topic_word = pd.merge(topic_word_4, topic_word, on ='topic')\n",
        "topic_word"
      ],
      "execution_count": 0,
      "outputs": [
        {
          "output_type": "execute_result",
          "data": {
            "text/html": [
              "<div>\n",
              "<style scoped>\n",
              "    .dataframe tbody tr th:only-of-type {\n",
              "        vertical-align: middle;\n",
              "    }\n",
              "\n",
              "    .dataframe tbody tr th {\n",
              "        vertical-align: top;\n",
              "    }\n",
              "\n",
              "    .dataframe thead th {\n",
              "        text-align: right;\n",
              "    }\n",
              "</style>\n",
              "<table border=\"1\" class=\"dataframe\">\n",
              "  <thead>\n",
              "    <tr style=\"text-align: right;\">\n",
              "      <th></th>\n",
              "      <th>topic</th>\n",
              "      <th>Theme</th>\n",
              "      <th>top_ten_words</th>\n",
              "    </tr>\n",
              "  </thead>\n",
              "  <tbody>\n",
              "    <tr>\n",
              "      <td>0</td>\n",
              "      <td>0</td>\n",
              "      <td>Data Set Contains</td>\n",
              "      <td>data set contains phase file mission image ins...</td>\n",
              "    </tr>\n",
              "    <tr>\n",
              "      <td>1</td>\n",
              "      <td>1</td>\n",
              "      <td>Technology Design Power</td>\n",
              "      <td>technology design power material mission space...</td>\n",
              "    </tr>\n",
              "    <tr>\n",
              "      <td>2</td>\n",
              "      <td>2</td>\n",
              "      <td>Product Km Data</td>\n",
              "      <td>product km data surface band resolution day sa...</td>\n",
              "    </tr>\n",
              "    <tr>\n",
              "      <td>3</td>\n",
              "      <td>3</td>\n",
              "      <td>Observation Analysis Merra</td>\n",
              "      <td>observation analysis merra error background in...</td>\n",
              "    </tr>\n",
              "  </tbody>\n",
              "</table>\n",
              "</div>"
            ],
            "text/plain": [
              "  topic                       Theme  \\\n",
              "0     0           Data Set Contains   \n",
              "1     1     Technology Design Power   \n",
              "2     2             Product Km Data   \n",
              "3     3  Observation Analysis Merra   \n",
              "\n",
              "                                       top_ten_words  \n",
              "0  data set contains phase file mission image ins...  \n",
              "1  technology design power material mission space...  \n",
              "2  product km data surface band resolution day sa...  \n",
              "3  observation analysis merra error background in...  "
            ]
          },
          "metadata": {
            "tags": []
          },
          "execution_count": 80
        }
      ]
    },
    {
      "cell_type": "code",
      "metadata": {
        "id": "oHJBTu_ApdKx",
        "colab_type": "code",
        "colab": {}
      },
      "source": [
        "nmf_W = nmf.transform(tfidf)\n",
        "nmf_H = nmf.components_"
      ],
      "execution_count": 0,
      "outputs": []
    },
    {
      "cell_type": "code",
      "metadata": {
        "id": "2jr11zo0pdK1",
        "colab_type": "code",
        "colab": {}
      },
      "source": [
        "df2 = pd.DataFrame({'topic': nmf_W.argmax(axis=1),\n",
        "                   'Doc_Id': df['Doc_Id'],\n",
        "                   'description': df['description']},\n",
        "                  columns = ['topic', 'Doc_Id', 'description'])"
      ],
      "execution_count": 0,
      "outputs": []
    },
    {
      "cell_type": "code",
      "metadata": {
        "id": "-5F9LNfRpdK3",
        "colab_type": "code",
        "colab": {}
      },
      "source": [
        "def showdocs(df2, topics, nshow=5 ): # nshow= len(df1)\n",
        "    idx = df2.topic == topics[0]\n",
        "    for i in range(1, len(topics)):\n",
        "        idx = idx | (df2.topic == topics[i])\n",
        "    return df2[idx].groupby('topic').head(nshow).sort_values('topic')"
      ],
      "execution_count": 0,
      "outputs": []
    },
    {
      "cell_type": "code",
      "metadata": {
        "id": "oUG1BXrypdK9",
        "colab_type": "code",
        "outputId": "04e07860-6ce9-423f-c664-91d35b3c67c6",
        "colab": {}
      },
      "source": [
        "numbers = tuple(list(range(0, no_topics)))\n",
        "final = showdocs(df2, numbers)\n",
        "final.head(10)"
      ],
      "execution_count": 0,
      "outputs": [
        {
          "output_type": "execute_result",
          "data": {
            "text/html": [
              "<div>\n",
              "<style scoped>\n",
              "    .dataframe tbody tr th:only-of-type {\n",
              "        vertical-align: middle;\n",
              "    }\n",
              "\n",
              "    .dataframe tbody tr th {\n",
              "        vertical-align: top;\n",
              "    }\n",
              "\n",
              "    .dataframe thead th {\n",
              "        text-align: right;\n",
              "    }\n",
              "</style>\n",
              "<table border=\"1\" class=\"dataframe\">\n",
              "  <thead>\n",
              "    <tr style=\"text-align: right;\">\n",
              "      <th></th>\n",
              "      <th>topic</th>\n",
              "      <th>Doc_Id</th>\n",
              "      <th>description</th>\n",
              "    </tr>\n",
              "  </thead>\n",
              "  <tbody>\n",
              "    <tr>\n",
              "      <td>28</td>\n",
              "      <td>0</td>\n",
              "      <td>28</td>\n",
              "      <td>This data set includes Voyager 2  encounter ma...</td>\n",
              "    </tr>\n",
              "    <tr>\n",
              "      <td>1</td>\n",
              "      <td>0</td>\n",
              "      <td>1</td>\n",
              "      <td>The PH METEOROLOGICAL DATA product contains pr...</td>\n",
              "    </tr>\n",
              "    <tr>\n",
              "      <td>36</td>\n",
              "      <td>0</td>\n",
              "      <td>36</td>\n",
              "      <td>Reducing Symptomatology of  ation Syndrome thr...</td>\n",
              "    </tr>\n",
              "    <tr>\n",
              "      <td>27</td>\n",
              "      <td>0</td>\n",
              "      <td>27</td>\n",
              "      <td>This data set contains  data taken by the  Stu...</td>\n",
              "    </tr>\n",
              "    <tr>\n",
              "      <td>12</td>\n",
              "      <td>0</td>\n",
              "      <td>12</td>\n",
              "      <td>nan</td>\n",
              "    </tr>\n",
              "    <tr>\n",
              "      <td>6</td>\n",
              "      <td>1</td>\n",
              "      <td>6</td>\n",
              "      <td>This proposal is submitted for developing low ...</td>\n",
              "    </tr>\n",
              "    <tr>\n",
              "      <td>0</td>\n",
              "      <td>1</td>\n",
              "      <td>0</td>\n",
              "      <td>bilis  Technologies is pleased to propose an i...</td>\n",
              "    </tr>\n",
              "    <tr>\n",
              "      <td>4</td>\n",
              "      <td>1</td>\n",
              "      <td>4</td>\n",
              "      <td>This proposal addresses the concept of Collabo...</td>\n",
              "    </tr>\n",
              "    <tr>\n",
              "      <td>2</td>\n",
              "      <td>1</td>\n",
              "      <td>2</td>\n",
              "      <td>ASC has developed non-scanning 3D TM imagers f...</td>\n",
              "    </tr>\n",
              "    <tr>\n",
              "      <td>5</td>\n",
              "      <td>1</td>\n",
              "      <td>5</td>\n",
              "      <td>Current plans for deep space eploration includ...</td>\n",
              "    </tr>\n",
              "  </tbody>\n",
              "</table>\n",
              "</div>"
            ],
            "text/plain": [
              "    topic  Doc_Id                                        description\n",
              "28      0      28  This data set includes Voyager 2  encounter ma...\n",
              "1       0       1  The PH METEOROLOGICAL DATA product contains pr...\n",
              "36      0      36  Reducing Symptomatology of  ation Syndrome thr...\n",
              "27      0      27  This data set contains  data taken by the  Stu...\n",
              "12      0      12                                                nan\n",
              "6       1       6  This proposal is submitted for developing low ...\n",
              "0       1       0  bilis  Technologies is pleased to propose an i...\n",
              "4       1       4  This proposal addresses the concept of Collabo...\n",
              "2       1       2  ASC has developed non-scanning 3D TM imagers f...\n",
              "5       1       5  Current plans for deep space eploration includ..."
            ]
          },
          "metadata": {
            "tags": []
          },
          "execution_count": 84
        }
      ]
    },
    {
      "cell_type": "code",
      "metadata": {
        "id": "Lqxv_ALppdLA",
        "colab_type": "code",
        "outputId": "1213a1f5-4a48-42a0-d6c5-9e98a98c2d80",
        "colab": {}
      },
      "source": [
        "topic_word['topic']=pd.to_numeric(topic_word['topic'])\n",
        "topic_body_2 =pd.merge(topic_word, final,on='topic')\n",
        "topic_body_2"
      ],
      "execution_count": 0,
      "outputs": [
        {
          "output_type": "execute_result",
          "data": {
            "text/html": [
              "<div>\n",
              "<style scoped>\n",
              "    .dataframe tbody tr th:only-of-type {\n",
              "        vertical-align: middle;\n",
              "    }\n",
              "\n",
              "    .dataframe tbody tr th {\n",
              "        vertical-align: top;\n",
              "    }\n",
              "\n",
              "    .dataframe thead th {\n",
              "        text-align: right;\n",
              "    }\n",
              "</style>\n",
              "<table border=\"1\" class=\"dataframe\">\n",
              "  <thead>\n",
              "    <tr style=\"text-align: right;\">\n",
              "      <th></th>\n",
              "      <th>topic</th>\n",
              "      <th>Theme</th>\n",
              "      <th>top_ten_words</th>\n",
              "      <th>Doc_Id</th>\n",
              "      <th>description</th>\n",
              "    </tr>\n",
              "  </thead>\n",
              "  <tbody>\n",
              "    <tr>\n",
              "      <td>0</td>\n",
              "      <td>0</td>\n",
              "      <td>Data Set Contains</td>\n",
              "      <td>data set contains phase file mission image ins...</td>\n",
              "      <td>28</td>\n",
              "      <td>This data set includes Voyager 2  encounter ma...</td>\n",
              "    </tr>\n",
              "    <tr>\n",
              "      <td>1</td>\n",
              "      <td>0</td>\n",
              "      <td>Data Set Contains</td>\n",
              "      <td>data set contains phase file mission image ins...</td>\n",
              "      <td>1</td>\n",
              "      <td>The PH METEOROLOGICAL DATA product contains pr...</td>\n",
              "    </tr>\n",
              "    <tr>\n",
              "      <td>2</td>\n",
              "      <td>0</td>\n",
              "      <td>Data Set Contains</td>\n",
              "      <td>data set contains phase file mission image ins...</td>\n",
              "      <td>36</td>\n",
              "      <td>Reducing Symptomatology of  ation Syndrome thr...</td>\n",
              "    </tr>\n",
              "    <tr>\n",
              "      <td>3</td>\n",
              "      <td>0</td>\n",
              "      <td>Data Set Contains</td>\n",
              "      <td>data set contains phase file mission image ins...</td>\n",
              "      <td>27</td>\n",
              "      <td>This data set contains  data taken by the  Stu...</td>\n",
              "    </tr>\n",
              "    <tr>\n",
              "      <td>4</td>\n",
              "      <td>0</td>\n",
              "      <td>Data Set Contains</td>\n",
              "      <td>data set contains phase file mission image ins...</td>\n",
              "      <td>12</td>\n",
              "      <td>nan</td>\n",
              "    </tr>\n",
              "    <tr>\n",
              "      <td>5</td>\n",
              "      <td>1</td>\n",
              "      <td>Technology Design Power</td>\n",
              "      <td>technology design power material mission space...</td>\n",
              "      <td>6</td>\n",
              "      <td>This proposal is submitted for developing low ...</td>\n",
              "    </tr>\n",
              "    <tr>\n",
              "      <td>6</td>\n",
              "      <td>1</td>\n",
              "      <td>Technology Design Power</td>\n",
              "      <td>technology design power material mission space...</td>\n",
              "      <td>0</td>\n",
              "      <td>bilis  Technologies is pleased to propose an i...</td>\n",
              "    </tr>\n",
              "    <tr>\n",
              "      <td>7</td>\n",
              "      <td>1</td>\n",
              "      <td>Technology Design Power</td>\n",
              "      <td>technology design power material mission space...</td>\n",
              "      <td>4</td>\n",
              "      <td>This proposal addresses the concept of Collabo...</td>\n",
              "    </tr>\n",
              "    <tr>\n",
              "      <td>8</td>\n",
              "      <td>1</td>\n",
              "      <td>Technology Design Power</td>\n",
              "      <td>technology design power material mission space...</td>\n",
              "      <td>2</td>\n",
              "      <td>ASC has developed non-scanning 3D TM imagers f...</td>\n",
              "    </tr>\n",
              "    <tr>\n",
              "      <td>9</td>\n",
              "      <td>1</td>\n",
              "      <td>Technology Design Power</td>\n",
              "      <td>technology design power material mission space...</td>\n",
              "      <td>5</td>\n",
              "      <td>Current plans for deep space eploration includ...</td>\n",
              "    </tr>\n",
              "    <tr>\n",
              "      <td>10</td>\n",
              "      <td>2</td>\n",
              "      <td>Product Km Data</td>\n",
              "      <td>product km data surface band resolution day sa...</td>\n",
              "      <td>3</td>\n",
              "      <td>NET inversion code provides aerosoloptical pro...</td>\n",
              "    </tr>\n",
              "    <tr>\n",
              "      <td>11</td>\n",
              "      <td>2</td>\n",
              "      <td>Product Km Data</td>\n",
              "      <td>product km data surface band resolution day sa...</td>\n",
              "      <td>29</td>\n",
              "      <td>This resource contains the eperimental data th...</td>\n",
              "    </tr>\n",
              "    <tr>\n",
              "      <td>12</td>\n",
              "      <td>2</td>\n",
              "      <td>Product Km Data</td>\n",
              "      <td>product km data surface band resolution day sa...</td>\n",
              "      <td>43</td>\n",
              "      <td>Tropical fall Measuring Mission () data produc...</td>\n",
              "    </tr>\n",
              "    <tr>\n",
              "      <td>13</td>\n",
              "      <td>2</td>\n",
              "      <td>Product Km Data</td>\n",
              "      <td>product km data surface band resolution day sa...</td>\n",
              "      <td>65</td>\n",
              "      <td>This is the RSW dataset for a fine fully tetra...</td>\n",
              "    </tr>\n",
              "    <tr>\n",
              "      <td>14</td>\n",
              "      <td>2</td>\n",
              "      <td>Product Km Data</td>\n",
              "      <td>product km data surface band resolution day sa...</td>\n",
              "      <td>89</td>\n",
              "      <td>nomenclature, like terrestrial nomenclature, ...</td>\n",
              "    </tr>\n",
              "    <tr>\n",
              "      <td>15</td>\n",
              "      <td>3</td>\n",
              "      <td>Observation Analysis Merra</td>\n",
              "      <td>observation analysis merra error background in...</td>\n",
              "      <td>124</td>\n",
              "      <td>These slides were presented at the AePW, April...</td>\n",
              "    </tr>\n",
              "    <tr>\n",
              "      <td>16</td>\n",
              "      <td>3</td>\n",
              "      <td>Observation Analysis Merra</td>\n",
              "      <td>observation analysis merra error background in...</td>\n",
              "      <td>35</td>\n",
              "      <td>This dataset contains CATED (CODMAC LEVEL 3) D...</td>\n",
              "    </tr>\n",
              "    <tr>\n",
              "      <td>17</td>\n",
              "      <td>3</td>\n",
              "      <td>Observation Analysis Merra</td>\n",
              "      <td>observation analysis merra error background in...</td>\n",
              "      <td>55</td>\n",
              "      <td>This data set contains the polarimetry of aste...</td>\n",
              "    </tr>\n",
              "    <tr>\n",
              "      <td>18</td>\n",
              "      <td>3</td>\n",
              "      <td>Observation Analysis Merra</td>\n",
              "      <td>observation analysis merra error background in...</td>\n",
              "      <td>73</td>\n",
              "      <td>Atmospheric Correction of  y Using -based s,</td>\n",
              "    </tr>\n",
              "    <tr>\n",
              "      <td>19</td>\n",
              "      <td>3</td>\n",
              "      <td>Observation Analysis Merra</td>\n",
              "      <td>observation analysis merra error background in...</td>\n",
              "      <td>126</td>\n",
              "      <td>and  finder  Observations () was launched on ...</td>\n",
              "    </tr>\n",
              "  </tbody>\n",
              "</table>\n",
              "</div>"
            ],
            "text/plain": [
              "    topic                       Theme  \\\n",
              "0       0           Data Set Contains   \n",
              "1       0           Data Set Contains   \n",
              "2       0           Data Set Contains   \n",
              "3       0           Data Set Contains   \n",
              "4       0           Data Set Contains   \n",
              "5       1     Technology Design Power   \n",
              "6       1     Technology Design Power   \n",
              "7       1     Technology Design Power   \n",
              "8       1     Technology Design Power   \n",
              "9       1     Technology Design Power   \n",
              "10      2             Product Km Data   \n",
              "11      2             Product Km Data   \n",
              "12      2             Product Km Data   \n",
              "13      2             Product Km Data   \n",
              "14      2             Product Km Data   \n",
              "15      3  Observation Analysis Merra   \n",
              "16      3  Observation Analysis Merra   \n",
              "17      3  Observation Analysis Merra   \n",
              "18      3  Observation Analysis Merra   \n",
              "19      3  Observation Analysis Merra   \n",
              "\n",
              "                                        top_ten_words  Doc_Id  \\\n",
              "0   data set contains phase file mission image ins...      28   \n",
              "1   data set contains phase file mission image ins...       1   \n",
              "2   data set contains phase file mission image ins...      36   \n",
              "3   data set contains phase file mission image ins...      27   \n",
              "4   data set contains phase file mission image ins...      12   \n",
              "5   technology design power material mission space...       6   \n",
              "6   technology design power material mission space...       0   \n",
              "7   technology design power material mission space...       4   \n",
              "8   technology design power material mission space...       2   \n",
              "9   technology design power material mission space...       5   \n",
              "10  product km data surface band resolution day sa...       3   \n",
              "11  product km data surface band resolution day sa...      29   \n",
              "12  product km data surface band resolution day sa...      43   \n",
              "13  product km data surface band resolution day sa...      65   \n",
              "14  product km data surface band resolution day sa...      89   \n",
              "15  observation analysis merra error background in...     124   \n",
              "16  observation analysis merra error background in...      35   \n",
              "17  observation analysis merra error background in...      55   \n",
              "18  observation analysis merra error background in...      73   \n",
              "19  observation analysis merra error background in...     126   \n",
              "\n",
              "                                          description  \n",
              "0   This data set includes Voyager 2  encounter ma...  \n",
              "1   The PH METEOROLOGICAL DATA product contains pr...  \n",
              "2   Reducing Symptomatology of  ation Syndrome thr...  \n",
              "3   This data set contains  data taken by the  Stu...  \n",
              "4                                                 nan  \n",
              "5   This proposal is submitted for developing low ...  \n",
              "6   bilis  Technologies is pleased to propose an i...  \n",
              "7   This proposal addresses the concept of Collabo...  \n",
              "8   ASC has developed non-scanning 3D TM imagers f...  \n",
              "9   Current plans for deep space eploration includ...  \n",
              "10  NET inversion code provides aerosoloptical pro...  \n",
              "11  This resource contains the eperimental data th...  \n",
              "12  Tropical fall Measuring Mission () data produc...  \n",
              "13  This is the RSW dataset for a fine fully tetra...  \n",
              "14   nomenclature, like terrestrial nomenclature, ...  \n",
              "15  These slides were presented at the AePW, April...  \n",
              "16  This dataset contains CATED (CODMAC LEVEL 3) D...  \n",
              "17  This data set contains the polarimetry of aste...  \n",
              "18      Atmospheric Correction of  y Using -based s,   \n",
              "19   and  finder  Observations () was launched on ...  "
            ]
          },
          "metadata": {
            "tags": []
          },
          "execution_count": 85
        }
      ]
    },
    {
      "cell_type": "code",
      "metadata": {
        "id": "Z8IbKeyBpdLD",
        "colab_type": "code",
        "outputId": "de1ba10b-6b80-451f-adc5-a0d222d6ee0d",
        "colab": {}
      },
      "source": [
        "topic_body_3 = pd.merge(topic_body_2, df, on='Doc_Id')\n",
        "topic_body_3.head()"
      ],
      "execution_count": 0,
      "outputs": [
        {
          "output_type": "execute_result",
          "data": {
            "text/html": [
              "<div>\n",
              "<style scoped>\n",
              "    .dataframe tbody tr th:only-of-type {\n",
              "        vertical-align: middle;\n",
              "    }\n",
              "\n",
              "    .dataframe tbody tr th {\n",
              "        vertical-align: top;\n",
              "    }\n",
              "\n",
              "    .dataframe thead th {\n",
              "        text-align: right;\n",
              "    }\n",
              "</style>\n",
              "<table border=\"1\" class=\"dataframe\">\n",
              "  <thead>\n",
              "    <tr style=\"text-align: right;\">\n",
              "      <th></th>\n",
              "      <th>topic</th>\n",
              "      <th>Theme</th>\n",
              "      <th>top_ten_words</th>\n",
              "      <th>Doc_Id</th>\n",
              "      <th>description_x</th>\n",
              "      <th>description_y</th>\n",
              "      <th>word_count</th>\n",
              "      <th>data_nouns</th>\n",
              "      <th>cleaned</th>\n",
              "    </tr>\n",
              "  </thead>\n",
              "  <tbody>\n",
              "    <tr>\n",
              "      <td>0</td>\n",
              "      <td>0</td>\n",
              "      <td>Data Set Product</td>\n",
              "      <td>data set product file observation instrument k...</td>\n",
              "      <td>1</td>\n",
              "      <td>The PH METEOROLOGICAL DATA product contains pr...</td>\n",
              "      <td>The PH METEOROLOGICAL DATA product contains pr...</td>\n",
              "      <td>60</td>\n",
              "      <td>PH METEOROLOGICAL DATA product Digital Numbers...</td>\n",
              "      <td>ph meteorological data product digital number...</td>\n",
              "    </tr>\n",
              "    <tr>\n",
              "      <td>1</td>\n",
              "      <td>0</td>\n",
              "      <td>Data Set Product</td>\n",
              "      <td>data set product file observation instrument k...</td>\n",
              "      <td>3</td>\n",
              "      <td>NET inversion code provides aerosoloptical pro...</td>\n",
              "      <td>NET inversion code provides aerosoloptical pro...</td>\n",
              "      <td>80</td>\n",
              "      <td>inversion code properties column diffuse radia...</td>\n",
              "      <td>inversion code property column diffuse radiat...</td>\n",
              "    </tr>\n",
              "    <tr>\n",
              "      <td>2</td>\n",
              "      <td>0</td>\n",
              "      <td>Data Set Product</td>\n",
              "      <td>data set product file observation instrument k...</td>\n",
              "      <td>12</td>\n",
              "      <td>nan</td>\n",
              "      <td>nan</td>\n",
              "      <td>1</td>\n",
              "      <td>nan</td>\n",
              "      <td>nan</td>\n",
              "    </tr>\n",
              "    <tr>\n",
              "      <td>3</td>\n",
              "      <td>0</td>\n",
              "      <td>Data Set Product</td>\n",
              "      <td>data set product file observation instrument k...</td>\n",
              "      <td>27</td>\n",
              "      <td>This data set contains  data taken by the  Stu...</td>\n",
              "      <td>This data set contains  data taken by the  Stu...</td>\n",
              "      <td>20</td>\n",
              "      <td>data set contains data Student Dust Counter in...</td>\n",
              "      <td>data set contains data student dust counter i...</td>\n",
              "    </tr>\n",
              "    <tr>\n",
              "      <td>4</td>\n",
              "      <td>0</td>\n",
              "      <td>Data Set Product</td>\n",
              "      <td>data set product file observation instrument k...</td>\n",
              "      <td>28</td>\n",
              "      <td>This data set includes Voyager 2  encounter ma...</td>\n",
              "      <td>This data set includes Voyager 2  encounter ma...</td>\n",
              "      <td>215</td>\n",
              "      <td>data set Voyager encounter magnetometer data s...</td>\n",
              "      <td>data set voyager encounter magnetometer data ...</td>\n",
              "    </tr>\n",
              "  </tbody>\n",
              "</table>\n",
              "</div>"
            ],
            "text/plain": [
              "   topic             Theme                                      top_ten_words  \\\n",
              "0      0  Data Set Product  data set product file observation instrument k...   \n",
              "1      0  Data Set Product  data set product file observation instrument k...   \n",
              "2      0  Data Set Product  data set product file observation instrument k...   \n",
              "3      0  Data Set Product  data set product file observation instrument k...   \n",
              "4      0  Data Set Product  data set product file observation instrument k...   \n",
              "\n",
              "   Doc_Id                                      description_x  \\\n",
              "0       1  The PH METEOROLOGICAL DATA product contains pr...   \n",
              "1       3  NET inversion code provides aerosoloptical pro...   \n",
              "2      12                                                nan   \n",
              "3      27  This data set contains  data taken by the  Stu...   \n",
              "4      28  This data set includes Voyager 2  encounter ma...   \n",
              "\n",
              "                                       description_y  word_count  \\\n",
              "0  The PH METEOROLOGICAL DATA product contains pr...          60   \n",
              "1  NET inversion code provides aerosoloptical pro...          80   \n",
              "2                                                nan           1   \n",
              "3  This data set contains  data taken by the  Stu...          20   \n",
              "4  This data set includes Voyager 2  encounter ma...         215   \n",
              "\n",
              "                                          data_nouns  \\\n",
              "0  PH METEOROLOGICAL DATA product Digital Numbers...   \n",
              "1  inversion code properties column diffuse radia...   \n",
              "2                                                nan   \n",
              "3  data set contains data Student Dust Counter in...   \n",
              "4  data set Voyager encounter magnetometer data s...   \n",
              "\n",
              "                                             cleaned  \n",
              "0   ph meteorological data product digital number...  \n",
              "1   inversion code property column diffuse radiat...  \n",
              "2                                                nan  \n",
              "3   data set contains data student dust counter i...  \n",
              "4   data set voyager encounter magnetometer data ...  "
            ]
          },
          "metadata": {
            "tags": []
          },
          "execution_count": 75
        }
      ]
    },
    {
      "cell_type": "markdown",
      "metadata": {
        "id": "SCfTIFbMpdLO",
        "colab_type": "text"
      },
      "source": [
        "Based on the models"
      ]
    },
    {
      "cell_type": "markdown",
      "metadata": {
        "id": "iBYCxTr9pdLP",
        "colab_type": "text"
      },
      "source": [
        "Conclusion\n",
        "We started with understanding what topic modeling can do. We built a basic topic model using Gensim’s LDA and visualize the topics using pyLDAvis. Then we built mallet’s LDA implementation. You saw how to find the optimal number of topics using coherence scores and how you can come to a logical understanding of how to choose the optimal model.\n",
        "\n",
        "Finally we saw how to aggregate and present the results to generate insights that may be in a more actionable.\n",
        "\n",
        "Hope you enjoyed reading this. I would appreciate if you leave your thoughts in the comments section below.\n",
        "\n",
        "Edit: I see some of you are experiencing errors while using the LDA Mallet and I don’t have a solution for some of the issues. So, I’ve implemented a workaround and more useful topic model visualizations. Hope you will find it helpful."
      ]
    }
  ]
}